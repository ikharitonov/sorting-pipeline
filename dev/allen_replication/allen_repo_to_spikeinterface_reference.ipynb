{
 "cells": [
  {
   "cell_type": "markdown",
   "id": "8c9510a0-4b76-488e-bdcf-1b7df180f8ad",
   "metadata": {},
   "source": [
    "# Replication of Allen Institute's _ecephys_spike_sorting_ repository using SpikeInterface\n",
    "\n",
    "As explained in \"Level of Support\" section here https://github.com/AllenInstitute/ecephys_spike_sorting/tree/main, it is generally recommended to use SpikeInterface instead of Allen's original pipeline which is no longer under development and does not support more recent sorters.\n",
    "\n",
    "This notebook collects the recommended SpikeInterface implementations of modules from Allen's _ecephys_spike_sorting_."
   ]
  },
  {
   "cell_type": "markdown",
   "id": "26c6d1e2-49de-4d57-bee2-9b16e392ed05",
   "metadata": {},
   "source": [
    "### 1) _extract_from_npx_:\n",
    "Converts continuous data from raw NPX/NPX2 format (75% compression ratio) to .dat files required for spike sorting and other downstream analysis. Deprecated: the NPX format is no longer used by Open Ephys (or any other software), so this module can be skipped."
   ]
  },
  {
   "cell_type": "markdown",
   "id": "9031c5ff-4c9a-4fc6-ad01-9b773a8b9f2f",
   "metadata": {
    "tags": []
   },
   "source": [
    "### 2) _depth_estimation_:\n",
    "Creates a JSON file with information about the DC offset of each channel, as well as the channel closest to the brain surface (determined from LFP data). This information is needed to perform the median subtraction step and to run kilosort modules."
   ]
  },
  {
   "cell_type": "markdown",
   "id": "346e3168-c65c-4f14-83df-996429ed6841",
   "metadata": {
    "tags": []
   },
   "source": [
    "#### SpikeInterface implementation:\n",
    "\n",
    "__detect_bad_channels()__ can be used to detect which channels are outside the brain, as well as channels that have abnormally high levels of noise.\n",
    "\n",
    "This function returns both the __bad_channel_ids__ and __channel_labels__, which can be __good__, __noise__, __dead__, or __out__ (outside of the brain). These can then be removed from the recording so they are ignored by the spike sorter:"
   ]
  },
  {
   "cell_type": "code",
   "execution_count": null,
   "id": "9580d095-fe2b-4130-b6e8-ac62012d1f39",
   "metadata": {},
   "outputs": [],
   "source": [
    "from spikeinterface.preprocessing import detect_bad_channels\n",
    "\n",
    "# detect noisy, dead, and out-of-brain channels\n",
    "bad_channel_ids, channel_labels = detect_bad_channels(recording)\n",
    "rec_clean = recording.remove_channels(remove_channel_ids=bad_channel_ids)"
   ]
  },
  {
   "cell_type": "markdown",
   "id": "d0ae8968-212a-4ec5-9946-721904409a9a",
   "metadata": {},
   "source": [
    "### 3) _median_subtraction_:\n",
    "Calls a binary executable that removes the DC offset and common-mode noise from the AP band continuous file.\n",
    "\n",
    "Because noise on Neuropixels probes is highly correlated across sites that share an ADC, we compute the median of every 24th channel, rather than using the median across all sites. This ends up creating a residual on the order of a few microvolts for large spikes, which can appear in the mean waveform. However, this is well below the probe's noise floor, and shouldn't affect spike sorting or data analysis."
   ]
  },
  {
   "cell_type": "markdown",
   "id": "74e7eafa-de78-4930-8949-3706ed95b17f",
   "metadata": {},
   "source": [
    "#### SpikeInterface implementation:\n",
    "\n",
    "Performing median subtraction (and other preprocessing steps) is much easier with SpikeInterface. For Neuropixels data, we recommend using the \"phase shift\" to align the samples across channels, followed by median subtraction for the whole probe. This removes noise more effectively than just computing the median for simultaneously sampled channels.\n",
    "\n",
    "Here is the code needed to preprocess Neuropixels data:"
   ]
  },
  {
   "cell_type": "code",
   "execution_count": null,
   "id": "b52566bc-3b67-4ba8-afb8-4c064a7a79ea",
   "metadata": {},
   "outputs": [],
   "source": [
    "import spikeinterface.full as si\n",
    "\n",
    "# read Open Ephys dataset\n",
    "raw_rec = si.read_openephys('/path/to/data',\n",
    "                            block_index=0,\n",
    "                            stream_name='ProbeA-AP')\n",
    "\n",
    "# or SpikeGLX, by changing one line of code:\n",
    "raw_rec = si.read_spikeglx('/path/to/data', \n",
    "                           stream_name='imec0.ap',     \n",
    "                           load_sync_channel=False)\n",
    "\n",
    "# perform high-pass filtering (especially important for Neuropixels 2.0 data):\n",
    "rec_filt = si.highpass_filter(raw_rec, \n",
    "                              freq_min=400.)\n",
    "\n",
    "# remove channels outside the brain\n",
    "bad_channel_ids, channel_labels = si.detect_bad_channels(rec_filt)\n",
    "rec_cleaned = rec_filt.remove_channels(bad_channel_ids)\n",
    "\n",
    "# perform the phase shift (similar to IBL destriping or `tshift` option in CatGT):\n",
    "rec_shifted = si.phase_shift(rec_cleaned)\n",
    "\n",
    "# subtract the median across all channels\n",
    "rec = si.common_reference(rec_shifted, \n",
    "                          operator=\"median\", \n",
    "                          reference=\"global\")\n",
    "# The rec object can now be passed to the run_sorter() function to perform spike sorting."
   ]
  },
  {
   "cell_type": "code",
   "execution_count": null,
   "id": "c695dba5-e3b4-4dea-919b-6865fe1a57e2",
   "metadata": {},
   "outputs": [],
   "source": [
    "# read binary file if recording with OpenEphys ONIX system + Bonsai\n",
    "raw_rec = si.read_binary('/path/to/data', sampling_frequency=sampling_frequency, dtype=dtype, num_channels=num_channels)"
   ]
  },
  {
   "cell_type": "markdown",
   "id": "81cc8226-2c17-4ceb-9d32-fe29b06a249e",
   "metadata": {
    "tags": []
   },
   "source": [
    "### 4) _kilosort_helper_:\n",
    "Generates config files for Kilosort (versions 2 or 2.5) and launches spike sorting via the Matlab engine. This module auto-generates the channel map, configuration file, and master file for Kilosort, and runs everything via the Matlab engine for Python."
   ]
  },
  {
   "cell_type": "markdown",
   "id": "99799d46-18c6-4f6b-a468-4f00bc7e243d",
   "metadata": {},
   "source": [
    "#### SpikeInterface implementation:\n",
    "\n",
    "SpikeInterface makes it much easier to run the spike sorting step, which only requires a single line of code. We recommend running Kilosort in a Docker container to avoid the need for a Matlab license or complex installation procedures.\n",
    "\n",
    "After you've installed Docker, you can run Kilosort on a pre-loaded and pre-processed Recording object by running:"
   ]
  },
  {
   "cell_type": "code",
   "execution_count": null,
   "id": "14f8b5fc-3274-44ee-9427-91c2420887e5",
   "metadata": {},
   "outputs": [],
   "source": [
    "import spikeinterface.full as si\n",
    "\n",
    "sorting = run_sorter(sorter_name='kilosort2_5', \n",
    "                     recording=recording,\n",
    "                     output_folder=\"/tmp/kilosort\", \n",
    "                     docker_image=True)"
   ]
  },
  {
   "cell_type": "markdown",
   "id": "e1ff205e-62a5-4b98-962f-c941fe95ce1d",
   "metadata": {},
   "source": [
    "### 5) _kilosort_postprocessing_:\n",
    "\n",
    "Clean up Kilosort outputs by removing putative double-counted spikes.\n",
    "\n",
    "Kilosort occasionally fits a spike template to the residual of another spike. See https://github.com/MouseLand/Kilosort2/issues/29 for more information.\n",
    "\n",
    "This module aims to correct for this by removing spikes from the same unit or neighboring units that occur within 5 samples (0.16 ms) of one another. This is not ideal, since it can potentially remove legitimate spike times, but on the whole it seems worth it to avoid having spurious zero-time-lag correlation between units.\n",
    "\n",
    "We are not currently taking into account spike amplitude when removing spikes; the module just deletes one spike from an overlapping pair that occurs later in time."
   ]
  },
  {
   "cell_type": "markdown",
   "id": "5371c430-7062-4049-b86b-5b38df77db98",
   "metadata": {},
   "source": [
    "#### SpikeInterface implementation:\n",
    "\n",
    "Putative double-counted spikes can be deleted using the __remove_duplicated_spikes__ method in the curation module:"
   ]
  },
  {
   "cell_type": "code",
   "execution_count": null,
   "id": "494c839a-f915-4c57-87de-c108c49a5e1b",
   "metadata": {},
   "outputs": [],
   "source": [
    "from spikeinterface.curation import remove_duplicated_spikes\n",
    "\n",
    "# returns a new sorting object with putative double-counted spikes removed\n",
    "cleaned_sorting = remove_duplicated_spikes(sorting=sorting, \n",
    "                                           censored_period=0.3, # in ms\n",
    "                                           method='keep_first') # determines which spike to remove"
   ]
  },
  {
   "cell_type": "markdown",
   "id": "9c9afeb8-c580-431c-a601-c110e77d84bb",
   "metadata": {},
   "source": [
    "### 6) _noise_templates_:\n",
    "Identifies noise units based on their waveform shape and ISI histogram.\n",
    "\n",
    "Kilosort2 generates templates of a fixed length (2 ms) that matches the time coures of an extracellularly detected spike waveform. However, there are no constraints on template shape, which means that the algorithm often fits templates to voltage fluctuations that could not physically result from the current flow associated with an action potential. The units associated with these templates are considered \"noise,\" and must be filtered out prior to analysis. This is true for other spike sorters as well, but the characteristics of the noise waveforms may be highly algorithm-dependent."
   ]
  },
  {
   "cell_type": "markdown",
   "id": "fad1e19e-c78d-4880-b6b7-8c869a5ca947",
   "metadata": {},
   "source": [
    "#### SpikeInterface implementation:\n",
    "\n",
    "SpikeInterface does not yet include a noise template classifier, but this is under active development. Until that is available, we recommend exporting the data into a format that can read by phy and manually labeling units with abnormal waveforms.\n",
    "\n",
    "More information on manual curation be found in the documentation for Phy."
   ]
  },
  {
   "cell_type": "code",
   "execution_count": null,
   "id": "f1db1e9f-4c3e-41fd-aa69-df154ddcc00b",
   "metadata": {},
   "outputs": [],
   "source": [
    "import spikeinterface.full as si\n",
    "\n",
    "from spikeinterface.postprocessing import (compute_spike_amplitudes,\n",
    "                                           compute_principal_components)\n",
    "\n",
    "from spikeinterface.exporters import export_to_phy\n",
    "\n",
    "# the waveforms are sparse so it is faster to export to phy\n",
    "we = si.extract_waveforms(recording=recording, sorting=sorting, folder='waveforms')\n",
    "\n",
    "# compute some metrics needed for this module:\n",
    "_ = compute_spike_amplitudes(waveform_extractor=we)\n",
    "_ = compute_principal_components(waveform_extractor=we, \n",
    "                                 n_components=3, \n",
    "                                 mode='by_channel_global')\n",
    "\n",
    "# save the data in a specified location\n",
    "export_to_phy(waveform_extractor=we, \n",
    "              output_folder='path/to/phy_folder')"
   ]
  },
  {
   "cell_type": "markdown",
   "id": "a7d1be74-31e6-4d32-8938-539352104b0c",
   "metadata": {
    "tags": []
   },
   "source": [
    "### 7) _mean_waveforms_:\n",
    "Extracts mean waveforms from the raw data, given spike times and unit IDs. Also calculates metrics for each waveform.\n",
    "\n",
    "Computes waveforms separately for individual epochs, as well as for the entire experiment. If no epochs are specified, waveforms are selected randomly from the entire recording. Waveform standard deviation is currently computed, but not saved.\n",
    "\n",
    "Metrics are computed for every waveform, and include features of the 1D peak-channel waveform and the 2D waveform centered on the soma location.\n",
    "\n",
    "1D waveform features: Waveform duration, peak-trough ratio, repolarization slope, and recovery slope.\n",
    "\n",
    "2D waveform features: Waveform spread, velocity above the soma, and velocity below the soma."
   ]
  },
  {
   "cell_type": "markdown",
   "id": "60b3b08a-3948-4f62-acc1-65e820f1148f",
   "metadata": {},
   "source": [
    "#### SpikeInterface implementation:\n",
    "\n",
    "SpikeInterface uses a __WaveformExtractor__ object to pull spike waveforms out of the raw data and compute metrics on their shape. More information can be found in the documentation for the Postprocessing module.\n",
    "\n",
    "Extracting the mean waveforms from a sorting and computing a variety of waveform metrics only requires two lines of code:"
   ]
  },
  {
   "cell_type": "code",
   "execution_count": null,
   "id": "033b44dc-00f1-4f4e-9d09-f41a8f9806bc",
   "metadata": {},
   "outputs": [],
   "source": [
    "import spikeinterface.full as si\n",
    "\n",
    "from spikeinterface.postprocessing import compute_template_metrics\n",
    "\n",
    "waveform_extractor = si.extract_waveforms(recording=recording, \n",
    "                                          sorting=sorting, \n",
    "                                          folder='waveforms')\n",
    "\n",
    "template_metrics = compute_template_metrics(waveform_extractor)\n",
    "display(template_metrics)"
   ]
  },
  {
   "cell_type": "markdown",
   "id": "37684712-1423-42ce-978a-f8307355edba",
   "metadata": {
    "tags": []
   },
   "source": [
    "### 8) _quality_metrics_:\n",
    "Calculates quality metrics for each unit to assess isolation and sorting quality. Similar to the mean_waveforms module, this module can calculate metrics separately for individual epochs. If no epochs are specified, metrics are computed for the entire recording.\n",
    "\n",
    "Included Metrics: Firing rate; Presence ratio; ISI violations; ISI violations (corrected); Amplitude cutoff; Isolation distance; L-ratio; d'; Nearest-neighbors; Silhouette score; Maximum drift; Cumulative drift."
   ]
  },
  {
   "cell_type": "markdown",
   "id": "b6f3cf6c-60d2-4016-8fb1-da9b4637e53e",
   "metadata": {},
   "source": [
    "#### SpikeInterface implementation:\n",
    "\n",
    "All of the quality metrics in ecephys_spike_sorting (and more) have been ported to SpikeInterface. More information can be found in the documentation for the Quality Metrics module. Example code for computing quality metrics is shown here:"
   ]
  },
  {
   "cell_type": "code",
   "execution_count": null,
   "id": "26e2e416-c71b-4f67-98d8-0bf56035ba29",
   "metadata": {},
   "outputs": [],
   "source": [
    "import spikeinterface.full as si\n",
    "\n",
    "from spikeinterface.qualitymetrics import compute_quality_metrics\n",
    "from spikeinterface.postprocessing import compute_principal_components\n",
    "\n",
    "# extract waveforms from a recording and sorting object\n",
    "we = si.extract_waveforms(recording=recording, \n",
    "                          sorting=sorting, \n",
    "                          folder='waveforms')\n",
    "\n",
    "# or load waveforms that have already been extracted:\n",
    "we = si.load_waveforms(folder='waveforms')\n",
    "\n",
    "# calculate metrics that don't require principal components:\n",
    "metrics = compute_quality_metrics(waveform_extractor=we)\n",
    "\n",
    "# or compute principal components before passing on the waveform extractor:\n",
    "pca = compute_principal_components(waveform_extractor=we, \n",
    "                                   n_components=5, \n",
    "                                   mode='by_channel_local')\n",
    "metrics = compute_quality_metrics(waveform_extractor=we)"
   ]
  },
  {
   "cell_type": "markdown",
   "id": "093292f0-4646-4b0c-83cc-5b4c51ef64e3",
   "metadata": {},
   "source": [
    "### 9) _automerging_ (not used):\n",
    "\n",
    "Searches for and automatically merges templates that likely belong to the same unit.\n",
    "\n",
    "This module has not been used since switching to Kilosort 2, which has far fewer split units than Kilosort 1. We're keeping the code around in case others find it useful. For example, it could be helpful for matching units across a series of chronic recordings. However, much more complete implementations of this functionality exist elsewhere (UnitMatch, for example)."
   ]
  },
  {
   "cell_type": "markdown",
   "id": "b9c014ac-171f-419c-9eae-13ef8a5bb793",
   "metadata": {},
   "source": [
    "#### SpikeInterface implementation:\n",
    "\n",
    "The SpikeInterface postprocessing module can compute information that is helpful for making merge decisions, such as waveform similarity and cross-correlograms:"
   ]
  },
  {
   "cell_type": "code",
   "execution_count": null,
   "id": "65cf8fda-2a76-4e86-bca4-d6fb9776b887",
   "metadata": {},
   "outputs": [],
   "source": [
    "import spikeinterface.full as si\n",
    "\n",
    "from spikeinterface.postprocessing import (compute_template_similarity,\n",
    "                                           compute_correlograms)\n",
    "\n",
    "# run a sorter and extract waveforms\n",
    "# note that this omits some important pre-processing steps and parameters for brevity\n",
    "recording = si.read_openephys('/path/to/data')\n",
    "sorting = si.run_sorter('kilosort2_5', recording)\n",
    "waveform_extractor = si.extract_waveforms(recording=recording, \n",
    "                                          sorting=sorting, \n",
    "                                          folder='waveforms')\n",
    "\n",
    "# run post-processing steps\n",
    "_ = compute_template_similarity(waveform_extractor)\n",
    "_ = compute_correlograms(waveform_extractor)\n"
   ]
  },
  {
   "cell_type": "code",
   "execution_count": null,
   "id": "d01f1764-c6cb-426e-9fb3-8573c9b06439",
   "metadata": {},
   "outputs": [],
   "source": [
    "from spikeinterface.curation import get_potential_auto_merge\n",
    "\n",
    "# Returns a list of unit pairs that should be merged\n",
    "potential_merges = get_potential_auto_merge(waveform_extractor)"
   ]
  },
  {
   "cell_type": "markdown",
   "id": "f801086c-693a-4d30-bb75-a0c19c6604be",
   "metadata": {},
   "source": [
    "In addition, the curation module includes a function for identifying units that likely need to be merged. More information can be found in the documentation for the Curation module and the __get_potential_auto_merge__ method."
   ]
  },
  {
   "cell_type": "code",
   "execution_count": null,
   "id": "5b82cb99-b75e-403c-bfef-8cb0dd4fcacb",
   "metadata": {},
   "outputs": [],
   "source": []
  }
 ],
 "metadata": {
  "kernelspec": {
   "display_name": "Python [conda env:jh_si_env]",
   "language": "python",
   "name": "conda-env-jh_si_env-py"
  },
  "language_info": {
   "codemirror_mode": {
    "name": "ipython",
    "version": 3
   },
   "file_extension": ".py",
   "mimetype": "text/x-python",
   "name": "python",
   "nbconvert_exporter": "python",
   "pygments_lexer": "ipython3",
   "version": "3.10.12"
  }
 },
 "nbformat": 4,
 "nbformat_minor": 5
}
