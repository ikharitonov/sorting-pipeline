{
 "cells": [
  {
   "cell_type": "code",
   "execution_count": 3,
   "id": "01a10c56-219b-4543-b6dd-2c32157e7d16",
   "metadata": {
    "tags": []
   },
   "outputs": [
    {
     "name": "stderr",
     "output_type": "stream",
     "text": [
      "Matplotlib created a temporary cache directory at /tmp/matplotlib-ghtzjghc because the default path (/home/jupyter-ikharitonov/.cache/matplotlib) is not a writable directory; it is highly recommended to set the MPLCONFIGDIR environment variable to a writable directory, in particular to speed up the import of Matplotlib and to better support multiprocessing.\n"
     ]
    }
   ],
   "source": [
    "import numpy as np\n",
    "from pathlib import Path\n",
    "import spikeinterface.full as si"
   ]
  },
  {
   "cell_type": "code",
   "execution_count": 4,
   "id": "5e52f045-02a4-4f5f-89ad-93a2460057bb",
   "metadata": {},
   "outputs": [
    {
     "name": "stderr",
     "output_type": "stream",
     "text": [
      "/opt/tljh/user/envs/jh_si_env/lib/python3.10/site-packages/spikeinterface/core/binaryrecordingextractor.py:77: UserWarning: `num_chan` is to be deprecated in version 0.100, please use `num_channels` instead\n",
      "  warnings.warn(\"`num_chan` is to be deprecated in version 0.100, please use `num_channels` instead\")\n"
     ]
    }
   ],
   "source": [
    "ff = si.read_binary('/home/ikharitonov/Desktop/RANCZLAB-NAS/iakov/allen_sorting_ks2_13_dec/sorter_output/temp_wh.dat', sampling_frequency=30000, dtype=np.int16, num_chan=384)"
   ]
  },
  {
   "cell_type": "code",
   "execution_count": 5,
   "id": "38466dc9-f91c-4960-ab20-737e3f98cc5f",
   "metadata": {
    "tags": []
   },
   "outputs": [
    {
     "data": {
      "text/plain": [
       "BinaryRecordingExtractor: 384 channels - 30.0kHz - 1 segments - 183,722,708 samples \n",
       "                          6,124.09s (1.70 hours) - int16 dtype - 131.41 GiB\n",
       "  file_paths: ['/home/ikharitonov/Desktop/RANCZLAB-NAS/iakov/allen_sorting_ks2_13_dec/sorter_output/temp_wh.dat']"
      ]
     },
     "execution_count": 5,
     "metadata": {},
     "output_type": "execute_result"
    }
   ],
   "source": [
    "ff"
   ]
  },
  {
   "cell_type": "code",
   "execution_count": 8,
   "id": "da6a88f8-8c04-4322-85f8-61436f84c4cb",
   "metadata": {
    "tags": []
   },
   "outputs": [
    {
     "ename": "SpikeSortingError",
     "evalue": "Spike sorting failed for /home/ikharitonov/Desktop/RANCZLAB-NAS/iakov/allen_sorting_ks2_13_dec",
     "output_type": "error",
     "traceback": [
      "\u001b[0;31m---------------------------------------------------------------------------\u001b[0m",
      "\u001b[0;31mSpikeSortingError\u001b[0m                         Traceback (most recent call last)",
      "Cell \u001b[0;32mIn[8], line 1\u001b[0m\n\u001b[0;32m----> 1\u001b[0m sorting \u001b[38;5;241m=\u001b[39m \u001b[43msi\u001b[49m\u001b[38;5;241;43m.\u001b[39;49m\u001b[43mread_sorter_folder\u001b[49m\u001b[43m(\u001b[49m\u001b[38;5;124;43m'\u001b[39;49m\u001b[38;5;124;43m/home/ikharitonov/Desktop/RANCZLAB-NAS/iakov/allen_sorting_ks2_13_dec\u001b[39;49m\u001b[38;5;124;43m'\u001b[39;49m\u001b[43m)\u001b[49m\n",
      "File \u001b[0;32m/opt/tljh/user/envs/jh_si_env/lib/python3.10/site-packages/spikeinterface/sorters/runsorter.py:654\u001b[0m, in \u001b[0;36mread_sorter_folder\u001b[0;34m(output_folder, register_recording, sorting_info, raise_error)\u001b[0m\n\u001b[1;32m    652\u001b[0m \u001b[38;5;28;01mif\u001b[39;00m run_error:\n\u001b[1;32m    653\u001b[0m     \u001b[38;5;28;01mif\u001b[39;00m raise_error:\n\u001b[0;32m--> 654\u001b[0m         \u001b[38;5;28;01mraise\u001b[39;00m SpikeSortingError(\u001b[38;5;124mf\u001b[39m\u001b[38;5;124m\"\u001b[39m\u001b[38;5;124mSpike sorting failed for \u001b[39m\u001b[38;5;132;01m{\u001b[39;00moutput_folder\u001b[38;5;132;01m}\u001b[39;00m\u001b[38;5;124m\"\u001b[39m)\n\u001b[1;32m    655\u001b[0m     \u001b[38;5;28;01melse\u001b[39;00m:\n\u001b[1;32m    656\u001b[0m         \u001b[38;5;28;01mreturn\u001b[39;00m\n",
      "\u001b[0;31mSpikeSortingError\u001b[0m: Spike sorting failed for /home/ikharitonov/Desktop/RANCZLAB-NAS/iakov/allen_sorting_ks2_13_dec"
     ]
    }
   ],
   "source": [
    "sorting = si.read_sorter_folder('/home/ikharitonov/Desktop/RANCZLAB-NAS/iakov/allen_sorting_ks2_13_dec')"
   ]
  },
  {
   "cell_type": "code",
   "execution_count": null,
   "id": "35a8e9b9-92e8-42b7-a97c-af006c1c731c",
   "metadata": {},
   "outputs": [],
   "source": []
  }
 ],
 "metadata": {
  "kernelspec": {
   "display_name": "Python [conda env:jh_si_env]",
   "language": "python",
   "name": "conda-env-jh_si_env-py"
  },
  "language_info": {
   "codemirror_mode": {
    "name": "ipython",
    "version": 3
   },
   "file_extension": ".py",
   "mimetype": "text/x-python",
   "name": "python",
   "nbconvert_exporter": "python",
   "pygments_lexer": "ipython3",
   "version": "3.10.12"
  }
 },
 "nbformat": 4,
 "nbformat_minor": 5
}
