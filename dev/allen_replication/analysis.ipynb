{
 "cells": [
  {
   "cell_type": "code",
   "execution_count": 2,
   "id": "01a10c56-219b-4543-b6dd-2c32157e7d16",
   "metadata": {
    "tags": []
   },
   "outputs": [
    {
     "name": "stderr",
     "output_type": "stream",
     "text": [
      "Matplotlib created a temporary cache directory at /tmp/matplotlib-rjr88cv4 because the default path (/home/jupyter-ikharitonov/.cache/matplotlib) is not a writable directory; it is highly recommended to set the MPLCONFIGDIR environment variable to a writable directory, in particular to speed up the import of Matplotlib and to better support multiprocessing.\n"
     ]
    }
   ],
   "source": [
    "import numpy as np\n",
    "from pathlib import Path\n",
    "import spikeinterface.full as si"
   ]
  },
  {
   "cell_type": "code",
   "execution_count": 7,
   "id": "776f6f1d-c4c8-42ab-ab33-489e572b415d",
   "metadata": {
    "tags": []
   },
   "outputs": [],
   "source": [
    "path1 = Path.home() / 'RANCZLAB-NAS/iakov/allen_sorting_ks2_10_jan_v_corr'\n",
    "path2 = Path.home() / 'RANCZLAB-NAS/iakov/allen_sorting_ks3_10_jan_v_corr'"
   ]
  },
  {
   "cell_type": "code",
   "execution_count": 13,
   "id": "da6a88f8-8c04-4322-85f8-61436f84c4cb",
   "metadata": {
    "tags": []
   },
   "outputs": [
    {
     "name": "stderr",
     "output_type": "stream",
     "text": [
      "/opt/tljh/user/envs/jh_si_env/lib/python3.10/site-packages/spikeinterface/core/base.py:1011: UserWarning: Versions are not the same. This might lead to compatibility errors. Using spikeinterface==0.100.0.dev0 is recommended\n",
      "  warnings.warn(\n"
     ]
    }
   ],
   "source": [
    "sorting1 = si.read_sorter_folder(path1)\n",
    "sorting2 = si.read_sorter_folder(path2)"
   ]
  },
  {
   "cell_type": "code",
   "execution_count": 16,
   "id": "35a8e9b9-92e8-42b7-a97c-af006c1c731c",
   "metadata": {},
   "outputs": [
    {
     "ename": "AttributeError",
     "evalue": "'KiloSortSortingExtractor' object has no attribute 'get_unit_traces'",
     "output_type": "error",
     "traceback": [
      "\u001b[0;31m---------------------------------------------------------------------------\u001b[0m",
      "\u001b[0;31mAttributeError\u001b[0m                            Traceback (most recent call last)",
      "Cell \u001b[0;32mIn[16], line 1\u001b[0m\n\u001b[0;32m----> 1\u001b[0m \u001b[43msorting2\u001b[49m\u001b[38;5;241;43m.\u001b[39;49m\u001b[43mget_unit_traces\u001b[49m\n",
      "\u001b[0;31mAttributeError\u001b[0m: 'KiloSortSortingExtractor' object has no attribute 'get_unit_traces'"
     ]
    }
   ],
   "source": [
    "sorting2.get_"
   ]
  },
  {
   "cell_type": "code",
   "execution_count": null,
   "id": "68dda350-7f81-4aa3-9fa1-db3446e9936e",
   "metadata": {},
   "outputs": [],
   "source": []
  },
  {
   "cell_type": "code",
   "execution_count": null,
   "id": "e8312bee-967d-4abd-a98e-02a9df3b7865",
   "metadata": {},
   "outputs": [],
   "source": []
  },
  {
   "cell_type": "code",
   "execution_count": null,
   "id": "69f21ee8-36c9-4ea3-8d14-99b954d7a1d6",
   "metadata": {},
   "outputs": [],
   "source": [
    "# # First, let's download a simulated dataset\n",
    "# local_path = si.download_dataset(remote_path='mearec/mearec_test_10s.h5')\n",
    "# recording, sorting = se.read_mearec(local_path)\n",
    "\n",
    "# # Then run two spike sorters and compare their outputs.\n",
    "# sorting_HS = ss.run_sorter('herdingspikes', recording)\n",
    "# sorting_TDC = ss.run_sorter('tridesclous', recording)\n",
    "\n",
    "sorting\n",
    "\n",
    "# Run the comparison\n",
    "# Let’s see how to inspect and access this matching.\n",
    "cmp_HS_TDC = sc.compare_two_sorters(\n",
    "    sorting1=sorting_HS,\n",
    "    sorting2=sorting_TDC,\n",
    "    sorting1_name='HS',\n",
    "    sorting2_name='TDC',\n",
    ")\n",
    "\n",
    "# We can check the agreement matrix to inspect the matching.\n",
    "plot_agreement_matrix(cmp_HS_TDC)\n",
    "\n",
    "# Some useful internal dataframes help to check the match and count\n",
    "#  like **match_event_count** or **agreement_scores**\n",
    "print(cmp_HS_TDC.match_event_count)\n",
    "print(cmp_HS_TDC.agreement_scores)\n",
    "\n",
    "# In order to check which units were matched, the :code:`get_matching`\n",
    "# method can be used. If units are not matched they are listed as -1.\n",
    "sc_to_tdc, tdc_to_sc = cmp_HS_TDC.get_matching()\n",
    "print('matching HS to TDC')\n",
    "print(sc_to_tdc)\n",
    "print('matching TDC to HS')\n",
    "print(tdc_to_sc)"
   ]
  }
 ],
 "metadata": {
  "kernelspec": {
   "display_name": "Python [conda env:jh_si_env]",
   "language": "python",
   "name": "conda-env-jh_si_env-py"
  },
  "language_info": {
   "codemirror_mode": {
    "name": "ipython",
    "version": 3
   },
   "file_extension": ".py",
   "mimetype": "text/x-python",
   "name": "python",
   "nbconvert_exporter": "python",
   "pygments_lexer": "ipython3",
   "version": "3.10.12"
  }
 },
 "nbformat": 4,
 "nbformat_minor": 5
}
