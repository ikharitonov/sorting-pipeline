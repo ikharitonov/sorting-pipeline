{
 "cells": [
  {
   "cell_type": "code",
   "execution_count": null,
   "id": "35bb76b2-2fdf-4dc1-b93d-2822eb01cc1d",
   "metadata": {},
   "outputs": [],
   "source": [
    "# https://10.51.106.97/user/ikharitonov/lab/tree/RANCZLAB-NAS/iakov/allen_sorting_ks2_13_dec/sorter_output/kilosort2.log"
   ]
  },
  {
   "cell_type": "code",
   "execution_count": 2,
   "id": "802dfddf-6326-42ab-9b0e-642e8947a42f",
   "metadata": {
    "tags": []
   },
   "outputs": [
    {
     "name": "stderr",
     "output_type": "stream",
     "text": [
      "Matplotlib created a temporary cache directory at /tmp/matplotlib-71fmte71 because the default path (/home/jupyter-ikharitonov/.cache/matplotlib) is not a writable directory; it is highly recommended to set the MPLCONFIGDIR environment variable to a writable directory, in particular to speed up the import of Matplotlib and to better support multiprocessing.\n"
     ]
    }
   ],
   "source": [
    "from pathlib import Path\n",
    "import numpy as np\n",
    "import matplotlib.pyplot as plt\n",
    "import os\n",
    "import scipy"
   ]
  },
  {
   "cell_type": "code",
   "execution_count": 3,
   "id": "f693d262-f30f-4f09-b3d1-d0ad7f24fdda",
   "metadata": {
    "tags": []
   },
   "outputs": [],
   "source": [
    "path = Path.home() / 'RANCZLAB-NAS/iakov/allen_sorting_ks2_13_dec/sorter_output'"
   ]
  },
  {
   "cell_type": "code",
   "execution_count": 4,
   "id": "d32dfd46-2280-451b-bbe0-7336e11fb5b1",
   "metadata": {
    "tags": []
   },
   "outputs": [
    {
     "data": {
      "text/plain": [
       "['ops.mat',\n",
       " '.ipynb_checkpoints',\n",
       " 'kilosort2.log',\n",
       " 'temp_wh.dat',\n",
       " 'run_kilosort2.sh',\n",
       " 'chanMap.mat',\n",
       " 'recording.dat']"
      ]
     },
     "execution_count": 4,
     "metadata": {},
     "output_type": "execute_result"
    }
   ],
   "source": [
    "os.listdir(path)"
   ]
  },
  {
   "cell_type": "code",
   "execution_count": 5,
   "id": "95f83ddc-e924-4dea-81d5-d7f5a1f141a0",
   "metadata": {
    "tags": []
   },
   "outputs": [],
   "source": [
    "f = scipy.io.loadmat(path/'ops.mat')"
   ]
  },
  {
   "cell_type": "code",
   "execution_count": 6,
   "id": "9541e3fc-f33d-4c01-8651-6dc6e0bfcfaf",
   "metadata": {
    "tags": []
   },
   "outputs": [
    {
     "data": {
      "text/plain": [
       "dict_keys(['__header__', '__version__', '__globals__', 'ops'])"
      ]
     },
     "execution_count": 6,
     "metadata": {},
     "output_type": "execute_result"
    }
   ],
   "source": [
    "f.keys()"
   ]
  },
  {
   "cell_type": "code",
   "execution_count": 8,
   "id": "a99fcb97-e83f-466e-a515-63ad19895196",
   "metadata": {
    "tags": []
   },
   "outputs": [
    {
     "name": "stdout",
     "output_type": "stream",
     "text": [
      "NchanTOT = [384.]\n",
      "Nchan = [384.]\n",
      "datatype = dat\n",
      "fbinary = /mnt/nas-disk/RANCZLAB-NAS/iakov/allen_sorting_ks2_13_dec/sorter_output/recording.dat\n",
      "fproc = /mnt/nas-disk/RANCZLAB-NAS/iakov/allen_sorting_ks2_13_dec/sorter_output/temp_wh.dat\n",
      "root = /mnt/nas-disk/RANCZLAB-NAS/iakov/allen_sorting_ks2_13_dec/sorter_output\n",
      "trange = [ 0. inf]\n",
      "chanMap = /mnt/nas-disk/RANCZLAB-NAS/iakov/allen_sorting_ks2_13_dec/sorter_output/chanMap.mat\n",
      "fs = [29999.954846]\n",
      "CAR = [1.]\n",
      "fshigh = [150.]\n",
      "minfr_goodchannels = [0.1]\n",
      "Th = [10.  4.]\n",
      "lam = [10.]\n",
      "AUCsplit = [0.9]\n",
      "minFR = [0.02]\n",
      "momentum = [ 20. 400.]\n",
      "sigmaMask = [30.]\n",
      "ThPre = [8.]\n",
      "spkTh = [-6.]\n",
      "reorder = [1.]\n",
      "nskip = [25.]\n",
      "GPU = [1.]\n",
      "nfilt_factor = [4.]\n",
      "ntbuff = [64.]\n",
      "NT = [65600.]\n",
      "whiteningRange = [32.]\n",
      "nSkipCov = [25.]\n",
      "nPCs = [3.]\n",
      "useRAM = [0.]\n",
      "nt0 = [61.]\n",
      "skip_kilosort_preprocessing = [0.]\n",
      "scaleproc = [200.]\n",
      "save_rez_to_mat = [0.]\n"
     ]
    }
   ],
   "source": [
    "for i in range(34):\n",
    "    # print(f['ops'][0][0][i])\n",
    "    print(f\"{f['ops'][0][0].dtype.names[i]} = {f['ops'][0][0][i][0]}\")\n",
    "    # print('//')"
   ]
  },
  {
   "cell_type": "code",
   "execution_count": null,
   "id": "c7c67bec-1681-49de-b098-f0608d283a01",
   "metadata": {},
   "outputs": [],
   "source": []
  }
 ],
 "metadata": {
  "kernelspec": {
   "display_name": "Python [conda env:jh_si_env]",
   "language": "python",
   "name": "conda-env-jh_si_env-py"
  },
  "language_info": {
   "codemirror_mode": {
    "name": "ipython",
    "version": 3
   },
   "file_extension": ".py",
   "mimetype": "text/x-python",
   "name": "python",
   "nbconvert_exporter": "python",
   "pygments_lexer": "ipython3",
   "version": "3.10.12"
  }
 },
 "nbformat": 4,
 "nbformat_minor": 5
}
