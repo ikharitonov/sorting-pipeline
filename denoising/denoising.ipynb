{
 "cells": [
  {
   "cell_type": "code",
   "execution_count": 1,
   "id": "a07c74b1-e505-4406-a1fa-a53146487351",
   "metadata": {},
   "outputs": [],
   "source": [
    "# Neuropixel DeepInterpolation network:\n",
    "\n",
    "# Key recording parameters:\n",
    "\n",
    "# Neuropixels Phase 3a probes\n",
    "# 374 simultaneous recording sites across 3.84 mm, 10 reference channels\n",
    "# Four-column checkerboard site layout with 20 µm spacing between rows\n",
    "# 30 kHz sampling rate\n",
    "# 500x hardware gain setting\n",
    "# 500 Hz high pass filter in hardware, 150 Hz high-pass filter applied offline.\n",
    "# Pre-processing: Median subtraction was applied to individual probes to remove signals that were common across all recording sites. Each probe recording was mean-centered and normalized with a single pair of value for all nodes on the probe.\n",
    "# Docker hub id : 245412653747/deep_interpolation:allen_neuropixel\n",
    "# Dropxbox link : https://www.dropbox.com/sh/tm3epzil44ybalq/AACyKxfvvA2T_Lq_rnpHnhFma?dl=0"
   ]
  },
  {
   "cell_type": "code",
   "execution_count": 1,
   "id": "177e93d5-edbd-4e4c-9dab-c36140087059",
   "metadata": {
    "tags": []
   },
   "outputs": [],
   "source": [
    "# Run \"python -m deepinterpolation.cli.training --help\" OR \"python -m deepinterpolation.cli.inference --help\" in the terminal to view the list and explanation of all parameters"
   ]
  },
  {
   "cell_type": "code",
   "execution_count": null,
   "id": "4fff713f-8f9a-4330-a7b5-7aa680f89a24",
   "metadata": {},
   "outputs": [],
   "source": [
    "# EphysGenerator:\n",
    "#     This generator is used when dealing with a single dat file storing a\n",
    "#     continous raw neuropixel recording as a (time, 384, 2) int16 array.\n",
    "\n",
    "# https://github.com/AllenInstitute/deepinterpolation/blob/master/deepinterpolation/generator_collection.py#L553"
   ]
  },
  {
   "cell_type": "code",
   "execution_count": 2,
   "id": "9263e1b7-dab1-4472-b0c6-6533f326b11c",
   "metadata": {
    "tags": []
   },
   "outputs": [],
   "source": [
    "import numpy as np"
   ]
  },
  {
   "cell_type": "code",
   "execution_count": 3,
   "id": "b2a09885-b284-45f6-b70d-8dd0fff17678",
   "metadata": {},
   "outputs": [
    {
     "name": "stderr",
     "output_type": "stream",
     "text": [
      "WARNING:root:pre_post_frame has been deprecated and is to be replaced by pre_frame and post_frame. We are forwarding the value but please update your code.\n",
      "INFO:root:randomize should be set to False for inference.                         Overriding the parameter\n",
      "INFO:Inference:wrote /home/jupyter-ikharitonov/RANCZLAB-NAS/inference_full_args.json\n",
      "2023-10-15 14:43:07.812638: W tensorflow/core/common_runtime/gpu/gpu_device.cc:1850] Cannot dlopen some GPU libraries. Please make sure the missing libraries mentioned above are installed properly if you would like to use GPU. Follow the guide at https://www.tensorflow.org/install/gpu for how to download and setup the required libraries for your platform.\n",
      "Skipping registering GPU devices...\n",
      "INFO:Inference:wrote /home/jupyter-ikharitonov/RANCZLAB-NAS/2023_10_15_14_42_inference.json\n",
      "INFO:Inference:wrote /home/jupyter-ikharitonov/RANCZLAB-NAS/2023_10_15_14_42_generator.json\n",
      "INFO:deepinterpolation.inferrence_collection:Created empty HDF5 file /home/jupyter-ikharitonov/RANCZLAB-NAS/denoised_test_recording.h5\n",
      "INFO:Inference:created objects for inference\n",
      "WARNING:Inference:use_multiprocessing for inference is currentin progress, running with tensorflow nativeprocessor management\n",
      "2023-10-15 14:43:08.253607: W tensorflow/core/common_runtime/gpu/gpu_device.cc:1850] Cannot dlopen some GPU libraries. Please make sure the missing libraries mentioned above are installed properly if you would like to use GPU. Follow the guide at https://www.tensorflow.org/install/gpu for how to download and setup the required libraries for your platform.\n",
      "Skipping registering GPU devices...\n",
      "  0%|          | 22/20400 [00:03<52:50,  6.43it/s] 2023-10-15 14:43:12.248563: W tensorflow/core/grappler/costs/op_level_cost_estimator.cc:689] Error in PredictCost() for the op: op: \"Conv2D\" attr { key: \"T\" value { type: DT_FLOAT } } attr { key: \"data_format\" value { s: \"NHWC\" } } attr { key: \"dilations\" value { list { i: 1 i: 1 i: 1 i: 1 } } } attr { key: \"explicit_paddings\" value { list { } } } attr { key: \"padding\" value { s: \"SAME\" } } attr { key: \"strides\" value { list { i: 1 i: 1 i: 1 i: 1 } } } attr { key: \"use_cudnn_on_gpu\" value { b: true } } inputs { dtype: DT_FLOAT shape { dim { } dim { size: 384 } dim { size: 2 } dim { size: 64 } } } inputs { dtype: DT_FLOAT shape { dim { size: 1 } dim { size: 1 } dim { size: 64 } dim { size: 1 } } } device { type: \"CPU\" vendor: \"GenuineIntel\" model: \"101\" frequency: 3000 num_cores: 36 environment { key: \"cpu_instruction_set\" value: \"AVX SSE, SSE2, SSE3, SSSE3, SSE4.1, SSE4.2\" } environment { key: \"eigen\" value: \"3.4.90\" } l1_cache_size: 32768 l2_cache_size: 1048576 l3_cache_size: 25952256 memory_size: 268435456 } outputs { dtype: DT_FLOAT shape { dim { } dim { size: 384 } dim { size: 2 } dim { size: 1 } } }\n",
      "100%|██████████| 20400/20400 [04:00<00:00, 84.85it/s]\n"
     ]
    }
   ],
   "source": [
    "import os\n",
    "import pathlib\n",
    "from deepinterpolation.cli.inference import Inference\n",
    "\n",
    "if __name__ == '__main__':\n",
    "    generator_param = {}\n",
    "    inference_param = {}\n",
    "\n",
    "    # We are reusing the data generator for training here. Some parameters like\n",
    "    # steps_per_epoch are irrelevant but currently needs to be provided\n",
    "    generator_param[\"name\"] = \"EphysGenerator\"\n",
    "    generator_param[\"pre_post_frame\"] = 30\n",
    "    generator_param[\"pre_post_omission\"] = 1\n",
    "\n",
    "    generator_param[\"data_path\"] = \"/home/jupyter-ikharitonov/RANCZLAB-NAS/test_recording.dat\"\n",
    "    # Note the CLI has changed train_path to data_path to take into account\n",
    "    # the use of generators for inference\n",
    "\n",
    "    generator_param[\"batch_size\"] = 100\n",
    "    generator_param[\"start_frame\"] = 0\n",
    "    generator_param[\"end_frame\"] = -1  # -1 to go until the end.\n",
    "\n",
    "    inference_param[\"name\"] = \"core_inferrence\"\n",
    "\n",
    "    # Replace this path to where you stored your model\n",
    "    filename = \"2020_02_29_15_28_unet_single_ephys_1024_mean_squared_error-1050.h5\"\n",
    "    local_path = \"/home/jupyter-ikharitonov/RANCZLAB-NAS/iakov/di_pretrained/\" + filename\n",
    "    inference_param[\"model_source\"] = {\n",
    "        \"local_path\": local_path\n",
    "    }\n",
    "\n",
    "    # Replace this path to where you want to store your output file\n",
    "    inference_param[\"output_file\"] = \"/home/jupyter-ikharitonov/RANCZLAB-NAS/denoised_test_recording.h5\"\n",
    "\n",
    "    # This option is to add blank frames at the onset and end of the output\n",
    "    # movie if some output frames are missing input frames to go through\n",
    "    # the model. This could be present at the start and end of the movie.\n",
    "    inference_param[\"output_padding\"] = False\n",
    "\n",
    "    args = {\n",
    "        \"generator_params\": generator_param,\n",
    "        \"inference_params\": inference_param,\n",
    "        \"output_full_args\": True\n",
    "    }\n",
    "\n",
    "    inference_obj = Inference(input_data=args, args=[])\n",
    "    inference_obj.run()"
   ]
  },
  {
   "cell_type": "code",
   "execution_count": null,
   "id": "ba2b76ba-4e2b-45dc-a6c2-610554cf4eb9",
   "metadata": {},
   "outputs": [],
   "source": []
  },
  {
   "cell_type": "code",
   "execution_count": 11,
   "id": "0ac28c62-13be-4d0e-bd05-643807cc3ed1",
   "metadata": {
    "tags": []
   },
   "outputs": [],
   "source": [
    "import h5py\n",
    "import numpy as np\n",
    "import matplotlib.pyplot as plt"
   ]
  },
  {
   "cell_type": "code",
   "execution_count": 9,
   "id": "3bd9fe50-b9eb-41fe-8538-6e4d5a2309d0",
   "metadata": {
    "tags": []
   },
   "outputs": [
    {
     "name": "stdout",
     "output_type": "stream",
     "text": [
      "(2039938, 384, 2)\n"
     ]
    }
   ],
   "source": [
    "with h5py.File('/home/jupyter-ikharitonov/RANCZLAB-NAS/denoised_test_recording.h5', \"r\") as f: \n",
    "    print(f['data'].shape)\n",
    "    denoised_data = np.array(f['data'])"
   ]
  },
  {
   "cell_type": "code",
   "execution_count": 10,
   "id": "1cba6549-45a5-45f1-9578-402debf612a1",
   "metadata": {
    "tags": []
   },
   "outputs": [
    {
     "data": {
      "text/plain": [
       "(2039938, 384, 2)"
      ]
     },
     "execution_count": 10,
     "metadata": {},
     "output_type": "execute_result"
    }
   ],
   "source": [
    "denoised_data.shape"
   ]
  },
  {
   "cell_type": "code",
   "execution_count": 21,
   "id": "bb3986d6-eb27-4010-b3f0-aaddae96c337",
   "metadata": {
    "tags": []
   },
   "outputs": [
    {
     "data": {
      "text/plain": [
       "(0.0, 10000.0)"
      ]
     },
     "execution_count": 21,
     "metadata": {},
     "output_type": "execute_result"
    },
    {
     "data": {
      "image/png": "[encoded data removed]",
      "text/plain": [
       "<Figure size 640x480 with 1 Axes>"
      ]
     },
     "metadata": {},
     "output_type": "display_data"
    }
   ],
   "source": [
    "plt.plot(denoised_data[:,300,0])\n",
    "plt.xlim([0,10000])"
   ]
  },
  {
   "cell_type": "code",
   "execution_count": 28,
   "id": "131e8646-1c9c-4c29-b8ec-33a456765212",
   "metadata": {
    "tags": []
   },
   "outputs": [
    {
     "data": {
      "text/plain": [
       "(2180.0, 2205.0)"
      ]
     },
     "execution_count": 28,
     "metadata": {},
     "output_type": "execute_result"
    },
    {
     "data": {
      "image/png": "[encoded data removed]",
      "text/plain": [
       "<Figure size 640x480 with 1 Axes>"
      ]
     },
     "metadata": {},
     "output_type": "display_data"
    }
   ],
   "source": [
    "plt.plot(denoised_data[:,300,0])\n",
    "plt.xlim([2180,2205])"
   ]
  },
  {
   "cell_type": "code",
   "execution_count": null,
   "id": "dbe2d4a3-18f8-4a99-9f7a-4ba31d469a7e",
   "metadata": {},
   "outputs": [],
   "source": []
  }
 ],
 "metadata": {
  "kernelspec": {
   "display_name": "Python [conda env:jh_di_env]",
   "language": "python",
   "name": "conda-env-jh_di_env-py"
  },
  "language_info": {
   "codemirror_mode": {
    "name": "ipython",
    "version": 3
   },
   "file_extension": ".py",
   "mimetype": "text/x-python",
   "name": "python",
   "nbconvert_exporter": "python",
   "pygments_lexer": "ipython3",
   "version": "3.7.15"
  }
 },
 "nbformat": 4,
 "nbformat_minor": 5
}
