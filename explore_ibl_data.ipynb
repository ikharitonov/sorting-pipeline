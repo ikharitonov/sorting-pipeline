{
 "cells": [
  {
   "cell_type": "code",
   "execution_count": 13,
   "id": "349dbf96-d896-43ad-8a04-2b2d4e317af3",
   "metadata": {
    "tags": []
   },
   "outputs": [],
   "source": [
    "import numpy as np\n",
    "import os"
   ]
  },
  {
   "cell_type": "code",
   "execution_count": 9,
   "id": "8c705b62-f433-4ab9-b2f3-cd5b6cf1285d",
   "metadata": {
    "tags": []
   },
   "outputs": [
    {
     "name": "stdout",
     "output_type": "stream",
     "text": [
      "\u001b[0m\u001b[01;34mdi_denoising\u001b[0m/\n",
      "\u001b[01;32mdownload_spike_band.sh\u001b[0m*\n",
      "\u001b[01;32mspike_band.dat\u001b[0m*\n",
      "\u001b[01;32mspike_band_download.txt\u001b[0m*\n",
      "\u001b[01;32msub-CSHL051_ses-ecb5520d-1358-434c-95ec-93687ecd1396_behavior+ecephys+image.nwb\u001b[0m*\n",
      "\u001b[01;32mtest_recording.dat\u001b[0m*\n"
     ]
    }
   ],
   "source": [
    "ls ~/RANCZLAB-NAS/iakov/sorting_pipeline_optimisation_oct_2023"
   ]
  },
  {
   "cell_type": "code",
   "execution_count": 10,
   "id": "ab65ac83-66d9-40f5-91e9-fe528afc91b0",
   "metadata": {
    "tags": []
   },
   "outputs": [],
   "source": [
    "from pynwb import NWBHDF5IO, NWBFile, TimeSeries"
   ]
  },
  {
   "cell_type": "code",
   "execution_count": 11,
   "id": "579908df-e3a3-41f8-972b-4aabf289bea0",
   "metadata": {
    "tags": []
   },
   "outputs": [],
   "source": [
    "path = '/home/jupyter-ikharitonov/RANCZLAB-NAS/iakov/sorting_pipeline_optimisation_oct_2023/sub-CSHL051_ses-ecb5520d-1358-434c-95ec-93687ecd1396_behavior+ecephys+image.nwb'"
   ]
  },
  {
   "cell_type": "code",
   "execution_count": 25,
   "id": "5c516274-ef8f-4d8a-ad24-79f6558e53a8",
   "metadata": {
    "tags": []
   },
   "outputs": [
    {
     "data": {
      "text/plain": [
       "True"
      ]
     },
     "execution_count": 25,
     "metadata": {},
     "output_type": "execute_result"
    }
   ],
   "source": [
    "os.path.exists('/home/jupyter-ikharitonov/RANCZLAB-NAS/iakov/sorting_pipeline_optimisation_oct_2023/')"
   ]
  },
  {
   "cell_type": "code",
   "execution_count": 12,
   "id": "e89648df-4330-4c15-9dd1-f68b320d02f4",
   "metadata": {
    "tags": []
   },
   "outputs": [
    {
     "ename": "UnsupportedOperation",
     "evalue": "Unable to open file ~/RANCZLAB-NAS/iakov/sorting_pipeline_optimisation_oct_2023/sub-CSHL051_ses-ecb5520d-1358-434c-95ec-93687ecd1396_behavior+ecephys+image.nwb in 'r' mode. File does not exist.",
     "output_type": "error",
     "traceback": [
      "\u001b[0;31m---------------------------------------------------------------------------\u001b[0m",
      "\u001b[0;31mUnsupportedOperation\u001b[0m                      Traceback (most recent call last)",
      "Cell \u001b[0;32mIn[12], line 1\u001b[0m\n\u001b[0;32m----> 1\u001b[0m \u001b[38;5;28;01mwith\u001b[39;00m \u001b[43mNWBHDF5IO\u001b[49m\u001b[43m(\u001b[49m\u001b[43mpath\u001b[49m\u001b[43m,\u001b[49m\u001b[43m \u001b[49m\u001b[38;5;124;43m\"\u001b[39;49m\u001b[38;5;124;43mr\u001b[39;49m\u001b[38;5;124;43m\"\u001b[39;49m\u001b[43m)\u001b[49m \u001b[38;5;28;01mas\u001b[39;00m io:\n\u001b[1;32m      2\u001b[0m     read_nwbfile \u001b[38;5;241m=\u001b[39m io\u001b[38;5;241m.\u001b[39mread()\n\u001b[1;32m      3\u001b[0m     \u001b[38;5;28mprint\u001b[39m(read_nwbfile\u001b[38;5;241m.\u001b[39macquisition[\u001b[38;5;124m\"\u001b[39m\u001b[38;5;124mtest_timeseries\u001b[39m\u001b[38;5;124m\"\u001b[39m])\n",
      "File \u001b[0;32m/opt/tljh/user/envs/jh_si_env/lib/python3.10/site-packages/hdmf/utils.py:664\u001b[0m, in \u001b[0;36mdocval.<locals>.dec.<locals>.func_call\u001b[0;34m(*args, **kwargs)\u001b[0m\n\u001b[1;32m    662\u001b[0m \u001b[38;5;28;01mdef\u001b[39;00m \u001b[38;5;21mfunc_call\u001b[39m(\u001b[38;5;241m*\u001b[39margs, \u001b[38;5;241m*\u001b[39m\u001b[38;5;241m*\u001b[39mkwargs):\n\u001b[1;32m    663\u001b[0m     pargs \u001b[38;5;241m=\u001b[39m _check_args(args, kwargs)\n\u001b[0;32m--> 664\u001b[0m     \u001b[38;5;28;01mreturn\u001b[39;00m \u001b[43mfunc\u001b[49m\u001b[43m(\u001b[49m\u001b[43margs\u001b[49m\u001b[43m[\u001b[49m\u001b[38;5;241;43m0\u001b[39;49m\u001b[43m]\u001b[49m\u001b[43m,\u001b[49m\u001b[43m \u001b[49m\u001b[38;5;241;43m*\u001b[39;49m\u001b[38;5;241;43m*\u001b[39;49m\u001b[43mpargs\u001b[49m\u001b[43m)\u001b[49m\n",
      "File \u001b[0;32m/opt/tljh/user/envs/jh_si_env/lib/python3.10/site-packages/pynwb/__init__.py:253\u001b[0m, in \u001b[0;36mNWBHDF5IO.__init__\u001b[0;34m(self, **kwargs)\u001b[0m\n\u001b[1;32m    251\u001b[0m         manager \u001b[38;5;241m=\u001b[39m get_manager()\n\u001b[1;32m    252\u001b[0m \u001b[38;5;66;03m# Open the file\u001b[39;00m\n\u001b[0;32m--> 253\u001b[0m \u001b[38;5;28;43msuper\u001b[39;49m\u001b[43m(\u001b[49m\u001b[43m)\u001b[49m\u001b[38;5;241;43m.\u001b[39;49m\u001b[38;5;21;43m__init__\u001b[39;49m\u001b[43m(\u001b[49m\u001b[43mpath\u001b[49m\u001b[43m,\u001b[49m\u001b[43m \u001b[49m\u001b[43mmanager\u001b[49m\u001b[38;5;241;43m=\u001b[39;49m\u001b[43mmanager\u001b[49m\u001b[43m,\u001b[49m\u001b[43m \u001b[49m\u001b[43mmode\u001b[49m\u001b[38;5;241;43m=\u001b[39;49m\u001b[43mmode\u001b[49m\u001b[43m,\u001b[49m\u001b[43m \u001b[49m\u001b[43mfile\u001b[49m\u001b[38;5;241;43m=\u001b[39;49m\u001b[43mfile_obj\u001b[49m\u001b[43m,\u001b[49m\u001b[43m \u001b[49m\u001b[43mcomm\u001b[49m\u001b[38;5;241;43m=\u001b[39;49m\u001b[43mcomm\u001b[49m\u001b[43m,\u001b[49m\n\u001b[1;32m    254\u001b[0m \u001b[43m                 \u001b[49m\u001b[43mdriver\u001b[49m\u001b[38;5;241;43m=\u001b[39;49m\u001b[43mdriver\u001b[49m\u001b[43m,\u001b[49m\u001b[43m \u001b[49m\u001b[43mherd_path\u001b[49m\u001b[38;5;241;43m=\u001b[39;49m\u001b[43mherd_path\u001b[49m\u001b[43m)\u001b[49m\n",
      "File \u001b[0;32m/opt/tljh/user/envs/jh_si_env/lib/python3.10/site-packages/hdmf/utils.py:664\u001b[0m, in \u001b[0;36mdocval.<locals>.dec.<locals>.func_call\u001b[0;34m(*args, **kwargs)\u001b[0m\n\u001b[1;32m    662\u001b[0m \u001b[38;5;28;01mdef\u001b[39;00m \u001b[38;5;21mfunc_call\u001b[39m(\u001b[38;5;241m*\u001b[39margs, \u001b[38;5;241m*\u001b[39m\u001b[38;5;241m*\u001b[39mkwargs):\n\u001b[1;32m    663\u001b[0m     pargs \u001b[38;5;241m=\u001b[39m _check_args(args, kwargs)\n\u001b[0;32m--> 664\u001b[0m     \u001b[38;5;28;01mreturn\u001b[39;00m \u001b[43mfunc\u001b[49m\u001b[43m(\u001b[49m\u001b[43margs\u001b[49m\u001b[43m[\u001b[49m\u001b[38;5;241;43m0\u001b[39;49m\u001b[43m]\u001b[49m\u001b[43m,\u001b[49m\u001b[43m \u001b[49m\u001b[38;5;241;43m*\u001b[39;49m\u001b[38;5;241;43m*\u001b[39;49m\u001b[43mpargs\u001b[49m\u001b[43m)\u001b[49m\n",
      "File \u001b[0;32m/opt/tljh/user/envs/jh_si_env/lib/python3.10/site-packages/hdmf/backends/hdf5/h5tools.py:84\u001b[0m, in \u001b[0;36mHDF5IO.__init__\u001b[0;34m(self, **kwargs)\u001b[0m\n\u001b[1;32m     82\u001b[0m \u001b[38;5;28;01mif\u001b[39;00m file_obj \u001b[38;5;129;01mis\u001b[39;00m \u001b[38;5;28;01mNone\u001b[39;00m \u001b[38;5;129;01mand\u001b[39;00m \u001b[38;5;129;01mnot\u001b[39;00m os\u001b[38;5;241m.\u001b[39mpath\u001b[38;5;241m.\u001b[39mexists(path) \u001b[38;5;129;01mand\u001b[39;00m (mode \u001b[38;5;241m==\u001b[39m \u001b[38;5;124m'\u001b[39m\u001b[38;5;124mr\u001b[39m\u001b[38;5;124m'\u001b[39m \u001b[38;5;129;01mor\u001b[39;00m mode \u001b[38;5;241m==\u001b[39m \u001b[38;5;124m'\u001b[39m\u001b[38;5;124mr+\u001b[39m\u001b[38;5;124m'\u001b[39m) \u001b[38;5;129;01mand\u001b[39;00m driver \u001b[38;5;241m!=\u001b[39m \u001b[38;5;124m'\u001b[39m\u001b[38;5;124mros3\u001b[39m\u001b[38;5;124m'\u001b[39m:\n\u001b[1;32m     83\u001b[0m     msg \u001b[38;5;241m=\u001b[39m \u001b[38;5;124m\"\u001b[39m\u001b[38;5;124mUnable to open file \u001b[39m\u001b[38;5;132;01m%s\u001b[39;00m\u001b[38;5;124m in \u001b[39m\u001b[38;5;124m'\u001b[39m\u001b[38;5;132;01m%s\u001b[39;00m\u001b[38;5;124m'\u001b[39m\u001b[38;5;124m mode. File does not exist.\u001b[39m\u001b[38;5;124m\"\u001b[39m \u001b[38;5;241m%\u001b[39m (path, mode)\n\u001b[0;32m---> 84\u001b[0m     \u001b[38;5;28;01mraise\u001b[39;00m UnsupportedOperation(msg)\n\u001b[1;32m     86\u001b[0m \u001b[38;5;28;01mif\u001b[39;00m file_obj \u001b[38;5;129;01mis\u001b[39;00m \u001b[38;5;28;01mNone\u001b[39;00m \u001b[38;5;129;01mand\u001b[39;00m os\u001b[38;5;241m.\u001b[39mpath\u001b[38;5;241m.\u001b[39mexists(path) \u001b[38;5;129;01mand\u001b[39;00m (mode \u001b[38;5;241m==\u001b[39m \u001b[38;5;124m'\u001b[39m\u001b[38;5;124mw-\u001b[39m\u001b[38;5;124m'\u001b[39m \u001b[38;5;129;01mor\u001b[39;00m mode \u001b[38;5;241m==\u001b[39m \u001b[38;5;124m'\u001b[39m\u001b[38;5;124mx\u001b[39m\u001b[38;5;124m'\u001b[39m):\n\u001b[1;32m     87\u001b[0m     msg \u001b[38;5;241m=\u001b[39m \u001b[38;5;124m\"\u001b[39m\u001b[38;5;124mUnable to open file \u001b[39m\u001b[38;5;132;01m%s\u001b[39;00m\u001b[38;5;124m in \u001b[39m\u001b[38;5;124m'\u001b[39m\u001b[38;5;132;01m%s\u001b[39;00m\u001b[38;5;124m'\u001b[39m\u001b[38;5;124m mode. File already exists.\u001b[39m\u001b[38;5;124m\"\u001b[39m \u001b[38;5;241m%\u001b[39m (path, mode)\n",
      "\u001b[0;31mUnsupportedOperation\u001b[0m: Unable to open file ~/RANCZLAB-NAS/iakov/sorting_pipeline_optimisation_oct_2023/sub-CSHL051_ses-ecb5520d-1358-434c-95ec-93687ecd1396_behavior+ecephys+image.nwb in 'r' mode. File does not exist."
     ]
    }
   ],
   "source": [
    "with NWBHDF5IO(path, \"r\") as io:\n",
    "    read_nwbfile = io.read()\n",
    "    print(read_nwbfile.acquisition[\"test_timeseries\"])\n",
    "    print(read_nwbfile.acquisition[\"test_timeseries\"].data[:])"
   ]
  },
  {
   "cell_type": "code",
   "execution_count": null,
   "id": "0c6613ee-5fb1-4d44-bc42-13b95e126c58",
   "metadata": {},
   "outputs": [],
   "source": []
  }
 ],
 "metadata": {
  "kernelspec": {
   "display_name": "Python [conda env:jh_si_env]",
   "language": "python",
   "name": "conda-env-jh_si_env-py"
  },
  "language_info": {
   "codemirror_mode": {
    "name": "ipython",
    "version": 3
   },
   "file_extension": ".py",
   "mimetype": "text/x-python",
   "name": "python",
   "nbconvert_exporter": "python",
   "pygments_lexer": "ipython3",
   "version": "3.10.12"
  }
 },
 "nbformat": 4,
 "nbformat_minor": 5
}
