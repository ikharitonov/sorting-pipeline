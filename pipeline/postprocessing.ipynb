{
 "cells": [
  {
   "cell_type": "markdown",
   "id": "1c3ed2fd-6e0c-45f6-92b4-738da7edc28a",
   "metadata": {},
   "source": [
    "## Import libraries"
   ]
  },
  {
   "cell_type": "code",
   "execution_count": 1,
   "id": "e51e1d12-0088-4dcb-be2f-ea6d09451779",
   "metadata": {
    "tags": []
   },
   "outputs": [
    {
     "name": "stderr",
     "output_type": "stream",
     "text": [
      "Matplotlib created a temporary cache directory at /tmp/matplotlib-apu1hcd0 because the default path (/home/jupyter-ikharitonov/.cache/matplotlib) is not a writable directory; it is highly recommended to set the MPLCONFIGDIR environment variable to a writable directory, in particular to speed up the import of Matplotlib and to better support multiprocessing.\n"
     ]
    }
   ],
   "source": [
    "import os\n",
    "import matplotlib.pyplot as plt\n",
    "import numpy as np\n",
    "from pathlib import Path\n",
    "import spikeinterface.full as si\n",
    "\n",
    "%matplotlib widget"
   ]
  },
  {
   "cell_type": "markdown",
   "id": "086d94bf-aa73-4bac-9d05-fe9fa4ca26c2",
   "metadata": {},
   "source": [
    "## Define paths and configure default parameters"
   ]
  },
  {
   "cell_type": "code",
   "execution_count": 2,
   "id": "219fbe72-38c8-4338-98b7-d367cc475b91",
   "metadata": {
    "tags": []
   },
   "outputs": [],
   "source": [
    "# Main working directory\n",
    "base_folder = Path.home() / 'RANCZLAB-NAS' / 'iakov' / 'allen_sorting_07_11_23'\n",
    "\n",
    "# Input data and sorting\n",
    "binary_filename = 'spike_band.dat'\n",
    "output_folder = base_folder / 'kilosort3_sorting_files'\n",
    "sorting_save_path = base_folder / 'kilosort3_sorting_output'"
   ]
  },
  {
   "cell_type": "code",
   "execution_count": 3,
   "id": "0aeba72d-641a-4a72-a9d8-5cb8bbafcc29",
   "metadata": {
    "tags": []
   },
   "outputs": [],
   "source": [
    "# Default parameters for compute-intensive steps\n",
    "# n_jobs is the number of CPU cores used. -1 means use all cores.\n",
    "job_kwargs = dict(n_jobs=-1, chunk_duration=\"1s\", progress_bar=True)\n",
    "\n",
    "# Plotting backend\n",
    "backend = 'ipywidgets'"
   ]
  },
  {
   "cell_type": "markdown",
   "id": "a4287f00-242b-46b4-857d-f0650d03f635",
   "metadata": {},
   "source": [
    "## Load preprocessed recording and sorting"
   ]
  },
  {
   "cell_type": "code",
   "execution_count": 5,
   "id": "7fa6491b-ec50-4b92-a242-24f417c5c95c",
   "metadata": {
    "tags": []
   },
   "outputs": [
    {
     "name": "stderr",
     "output_type": "stream",
     "text": [
      "/opt/tljh/user/envs/jh_si_env/lib/python3.10/site-packages/spikeinterface/core/binaryrecordingextractor.py:77: UserWarning: `num_chan` is to be deprecated in version 0.100, please use `num_channels` instead\n",
      "  warnings.warn(\"`num_chan` is to be deprecated in version 0.100, please use `num_channels` instead\")\n"
     ]
    }
   ],
   "source": [
    "recording = si.load_extractor(base_folder / \"preprocessed_recording\")\n",
    "sorting = si.load_extractor(sorting_save_path)"
   ]
  },
  {
   "cell_type": "markdown",
   "id": "72a49c85-dfb2-4203-9cae-8e6614d11470",
   "metadata": {},
   "source": [
    "## Extract waveforms"
   ]
  },
  {
   "cell_type": "code",
   "execution_count": 11,
   "id": "ea50f089-d0ae-4771-84c7-92b1e99e042e",
   "metadata": {
    "tags": []
   },
   "outputs": [
    {
     "ename": "Exception",
     "evalue": "The recording is not filtered, you must filter it using `bandpass_filter()`.If the recording is already filtered, you can also do `recording.annotate(is_filtered=True).\nIf you trully want to extract unfiltered waveforms, use `allow_unfiltered=True`.",
     "output_type": "error",
     "traceback": [
      "\u001b[0;31m---------------------------------------------------------------------------\u001b[0m",
      "\u001b[0;31mException\u001b[0m                                 Traceback (most recent call last)",
      "Cell \u001b[0;32mIn[11], line 1\u001b[0m\n\u001b[0;32m----> 1\u001b[0m waveforms \u001b[38;5;241m=\u001b[39m \u001b[43msi\u001b[49m\u001b[38;5;241;43m.\u001b[39;49m\u001b[43mextract_waveforms\u001b[49m\u001b[43m(\u001b[49m\u001b[43mrecording\u001b[49m\u001b[43m,\u001b[49m\u001b[43m \u001b[49m\u001b[43msorting\u001b[49m\u001b[43m,\u001b[49m\u001b[43m \u001b[49m\u001b[43mfolder\u001b[49m\u001b[43m \u001b[49m\u001b[38;5;241;43m=\u001b[39;49m\u001b[43m \u001b[49m\u001b[43mbase_folder\u001b[49m\u001b[43m \u001b[49m\u001b[38;5;241;43m/\u001b[39;49m\u001b[43m \u001b[49m\u001b[38;5;124;43m\"\u001b[39;49m\u001b[38;5;124;43mwaveforms_dense\u001b[39;49m\u001b[38;5;124;43m\"\u001b[39;49m\u001b[43m,\u001b[49m\u001b[43m \u001b[49m\u001b[43msparse\u001b[49m\u001b[38;5;241;43m=\u001b[39;49m\u001b[38;5;28;43;01mFalse\u001b[39;49;00m\u001b[43m,\u001b[49m\u001b[43m \u001b[49m\u001b[43moverwrite\u001b[49m\u001b[38;5;241;43m=\u001b[39;49m\u001b[38;5;28;43;01mTrue\u001b[39;49;00m\u001b[43m,\u001b[49m\u001b[43m \u001b[49m\u001b[38;5;241;43m*\u001b[39;49m\u001b[38;5;241;43m*\u001b[39;49m\u001b[43mjob_kwargs\u001b[49m\u001b[43m)\u001b[49m\n\u001b[1;32m      2\u001b[0m \u001b[38;5;28mprint\u001b[39m(waveforms)\n",
      "File \u001b[0;32m/opt/tljh/user/envs/jh_si_env/lib/python3.10/site-packages/spikeinterface/core/waveform_extractor.py:1606\u001b[0m, in \u001b[0;36mextract_waveforms\u001b[0;34m(recording, sorting, folder, mode, precompute_template, ms_before, ms_after, max_spikes_per_unit, overwrite, return_scaled, dtype, sparse, sparsity, num_spikes_for_sparsity, allow_unfiltered, use_relative_path, seed, load_if_exists, **kwargs)\u001b[0m\n\u001b[1;32m   1603\u001b[0m \u001b[38;5;28;01melse\u001b[39;00m:\n\u001b[1;32m   1604\u001b[0m     sparsity \u001b[38;5;241m=\u001b[39m \u001b[38;5;28;01mNone\u001b[39;00m\n\u001b[0;32m-> 1606\u001b[0m we \u001b[38;5;241m=\u001b[39m \u001b[43mWaveformExtractor\u001b[49m\u001b[38;5;241;43m.\u001b[39;49m\u001b[43mcreate\u001b[49m\u001b[43m(\u001b[49m\n\u001b[1;32m   1607\u001b[0m \u001b[43m    \u001b[49m\u001b[43mrecording\u001b[49m\u001b[43m,\u001b[49m\n\u001b[1;32m   1608\u001b[0m \u001b[43m    \u001b[49m\u001b[43msorting\u001b[49m\u001b[43m,\u001b[49m\n\u001b[1;32m   1609\u001b[0m \u001b[43m    \u001b[49m\u001b[43mfolder\u001b[49m\u001b[43m,\u001b[49m\n\u001b[1;32m   1610\u001b[0m \u001b[43m    \u001b[49m\u001b[43mmode\u001b[49m\u001b[38;5;241;43m=\u001b[39;49m\u001b[43mmode\u001b[49m\u001b[43m,\u001b[49m\n\u001b[1;32m   1611\u001b[0m \u001b[43m    \u001b[49m\u001b[43muse_relative_path\u001b[49m\u001b[38;5;241;43m=\u001b[39;49m\u001b[43muse_relative_path\u001b[49m\u001b[43m,\u001b[49m\n\u001b[1;32m   1612\u001b[0m \u001b[43m    \u001b[49m\u001b[43mallow_unfiltered\u001b[49m\u001b[38;5;241;43m=\u001b[39;49m\u001b[43mallow_unfiltered\u001b[49m\u001b[43m,\u001b[49m\n\u001b[1;32m   1613\u001b[0m \u001b[43m    \u001b[49m\u001b[43msparsity\u001b[49m\u001b[38;5;241;43m=\u001b[39;49m\u001b[43msparsity\u001b[49m\u001b[43m,\u001b[49m\n\u001b[1;32m   1614\u001b[0m \u001b[43m\u001b[49m\u001b[43m)\u001b[49m\n\u001b[1;32m   1615\u001b[0m we\u001b[38;5;241m.\u001b[39mset_params(\n\u001b[1;32m   1616\u001b[0m     ms_before\u001b[38;5;241m=\u001b[39mms_before,\n\u001b[1;32m   1617\u001b[0m     ms_after\u001b[38;5;241m=\u001b[39mms_after,\n\u001b[0;32m   (...)\u001b[0m\n\u001b[1;32m   1620\u001b[0m     return_scaled\u001b[38;5;241m=\u001b[39mreturn_scaled,\n\u001b[1;32m   1621\u001b[0m )\n\u001b[1;32m   1622\u001b[0m we\u001b[38;5;241m.\u001b[39mrun_extract_waveforms(seed\u001b[38;5;241m=\u001b[39mseed, \u001b[38;5;241m*\u001b[39m\u001b[38;5;241m*\u001b[39mjob_kwargs)\n",
      "File \u001b[0;32m/opt/tljh/user/envs/jh_si_env/lib/python3.10/site-packages/spikeinterface/core/waveform_extractor.py:321\u001b[0m, in \u001b[0;36mWaveformExtractor.create\u001b[0;34m(cls, recording, sorting, folder, mode, remove_if_exists, use_relative_path, allow_unfiltered, sparsity)\u001b[0m\n\u001b[1;32m    318\u001b[0m         \u001b[38;5;28;01mwith\u001b[39;00m \u001b[38;5;28mopen\u001b[39m(folder \u001b[38;5;241m/\u001b[39m \u001b[38;5;124m\"\u001b[39m\u001b[38;5;124msparsity.json\u001b[39m\u001b[38;5;124m\"\u001b[39m, mode\u001b[38;5;241m=\u001b[39m\u001b[38;5;124m\"\u001b[39m\u001b[38;5;124mw\u001b[39m\u001b[38;5;124m\"\u001b[39m) \u001b[38;5;28;01mas\u001b[39;00m f:\n\u001b[1;32m    319\u001b[0m             json\u001b[38;5;241m.\u001b[39mdump(check_json(sparsity\u001b[38;5;241m.\u001b[39mto_dict()), f)\n\u001b[0;32m--> 321\u001b[0m \u001b[38;5;28;01mreturn\u001b[39;00m \u001b[38;5;28;43mcls\u001b[39;49m\u001b[43m(\u001b[49m\n\u001b[1;32m    322\u001b[0m \u001b[43m    \u001b[49m\u001b[43mrecording\u001b[49m\u001b[43m,\u001b[49m\n\u001b[1;32m    323\u001b[0m \u001b[43m    \u001b[49m\u001b[43msorting\u001b[49m\u001b[43m,\u001b[49m\n\u001b[1;32m    324\u001b[0m \u001b[43m    \u001b[49m\u001b[43mfolder\u001b[49m\u001b[43m,\u001b[49m\n\u001b[1;32m    325\u001b[0m \u001b[43m    \u001b[49m\u001b[43mallow_unfiltered\u001b[49m\u001b[38;5;241;43m=\u001b[39;49m\u001b[43mallow_unfiltered\u001b[49m\u001b[43m,\u001b[49m\n\u001b[1;32m    326\u001b[0m \u001b[43m    \u001b[49m\u001b[43msparsity\u001b[49m\u001b[38;5;241;43m=\u001b[39;49m\u001b[43msparsity\u001b[49m\u001b[43m,\u001b[49m\n\u001b[1;32m    327\u001b[0m \u001b[43m    \u001b[49m\u001b[43mrec_attributes\u001b[49m\u001b[38;5;241;43m=\u001b[39;49m\u001b[43mrec_attributes\u001b[49m\u001b[43m,\u001b[49m\n\u001b[1;32m    328\u001b[0m \u001b[43m\u001b[49m\u001b[43m)\u001b[49m\n",
      "File \u001b[0;32m/opt/tljh/user/envs/jh_si_env/lib/python3.10/site-packages/spikeinterface/core/waveform_extractor.py:84\u001b[0m, in \u001b[0;36mWaveformExtractor.__init__\u001b[0;34m(self, recording, sorting, folder, rec_attributes, allow_unfiltered, sparsity)\u001b[0m\n\u001b[1;32m     82\u001b[0m \u001b[38;5;28mself\u001b[39m\u001b[38;5;241m.\u001b[39msorting \u001b[38;5;241m=\u001b[39m sorting\n\u001b[1;32m     83\u001b[0m \u001b[38;5;28mself\u001b[39m\u001b[38;5;241m.\u001b[39m_rec_attributes \u001b[38;5;241m=\u001b[39m \u001b[38;5;28;01mNone\u001b[39;00m\n\u001b[0;32m---> 84\u001b[0m \u001b[38;5;28;43mself\u001b[39;49m\u001b[38;5;241;43m.\u001b[39;49m\u001b[43mset_recording\u001b[49m\u001b[43m(\u001b[49m\u001b[43mrecording\u001b[49m\u001b[43m,\u001b[49m\u001b[43m \u001b[49m\u001b[43mrec_attributes\u001b[49m\u001b[43m,\u001b[49m\u001b[43m \u001b[49m\u001b[43mallow_unfiltered\u001b[49m\u001b[43m)\u001b[49m\n\u001b[1;32m     86\u001b[0m \u001b[38;5;66;03m# cache in memory\u001b[39;00m\n\u001b[1;32m     87\u001b[0m \u001b[38;5;28mself\u001b[39m\u001b[38;5;241m.\u001b[39m_waveforms \u001b[38;5;241m=\u001b[39m {}\n",
      "File \u001b[0;32m/opt/tljh/user/envs/jh_si_env/lib/python3.10/site-packages/spikeinterface/core/waveform_extractor.py:696\u001b[0m, in \u001b[0;36mWaveformExtractor.set_recording\u001b[0;34m(self, recording, rec_attributes, allow_unfiltered)\u001b[0m\n\u001b[1;32m    691\u001b[0m         \u001b[38;5;28;01mraise\u001b[39;00m \u001b[38;5;167;01mValueError\u001b[39;00m(\n\u001b[1;32m    692\u001b[0m             \u001b[38;5;124mf\u001b[39m\u001b[38;5;124m\"\u001b[39m\u001b[38;5;124mCouldn\u001b[39m\u001b[38;5;124m'\u001b[39m\u001b[38;5;124mt set the WaveformExtractor recording: channel_ids do not match!\u001b[39m\u001b[38;5;130;01m\\n\u001b[39;00m\u001b[38;5;132;01m{\u001b[39;00mreference_channel_ids\u001b[38;5;132;01m}\u001b[39;00m\u001b[38;5;124m\"\u001b[39m\n\u001b[1;32m    693\u001b[0m         )\n\u001b[1;32m    695\u001b[0m     \u001b[38;5;28;01mif\u001b[39;00m \u001b[38;5;129;01mnot\u001b[39;00m recording\u001b[38;5;241m.\u001b[39mis_filtered() \u001b[38;5;129;01mand\u001b[39;00m \u001b[38;5;129;01mnot\u001b[39;00m allow_unfiltered:\n\u001b[0;32m--> 696\u001b[0m         \u001b[38;5;28;01mraise\u001b[39;00m \u001b[38;5;167;01mException\u001b[39;00m(\n\u001b[1;32m    697\u001b[0m             \u001b[38;5;124m\"\u001b[39m\u001b[38;5;124mThe recording is not filtered, you must filter it using `bandpass_filter()`.\u001b[39m\u001b[38;5;124m\"\u001b[39m\n\u001b[1;32m    698\u001b[0m             \u001b[38;5;124m\"\u001b[39m\u001b[38;5;124mIf the recording is already filtered, you can also do \u001b[39m\u001b[38;5;124m\"\u001b[39m\n\u001b[1;32m    699\u001b[0m             \u001b[38;5;124m\"\u001b[39m\u001b[38;5;124m`recording.annotate(is_filtered=True).\u001b[39m\u001b[38;5;130;01m\\n\u001b[39;00m\u001b[38;5;124m\"\u001b[39m\n\u001b[1;32m    700\u001b[0m             \u001b[38;5;124m\"\u001b[39m\u001b[38;5;124mIf you trully want to extract unfiltered waveforms, use `allow_unfiltered=True`.\u001b[39m\u001b[38;5;124m\"\u001b[39m\n\u001b[1;32m    701\u001b[0m         )\n\u001b[1;32m    703\u001b[0m \u001b[38;5;28mself\u001b[39m\u001b[38;5;241m.\u001b[39m_recording \u001b[38;5;241m=\u001b[39m recording\n\u001b[1;32m    704\u001b[0m \u001b[38;5;28mself\u001b[39m\u001b[38;5;241m.\u001b[39m_rec_attributes \u001b[38;5;241m=\u001b[39m rec_attributes\n",
      "\u001b[0;31mException\u001b[0m: The recording is not filtered, you must filter it using `bandpass_filter()`.If the recording is already filtered, you can also do `recording.annotate(is_filtered=True).\nIf you trully want to extract unfiltered waveforms, use `allow_unfiltered=True`."
     ]
    }
   ],
   "source": [
    "waveforms = si.extract_waveforms(recording, sorting, folder = base_folder / \"waveforms_dense\", sparse=False, overwrite=True, **job_kwargs)\n",
    "print(waveforms)"
   ]
  },
  {
   "cell_type": "markdown",
   "id": "a5bbda3c-fda7-4eb2-b82d-4a1736e5e688",
   "metadata": {},
   "source": [
    "## Compute metrics"
   ]
  },
  {
   "cell_type": "code",
   "execution_count": null,
   "id": "7a250a7d-a5ff-444f-9002-5c02101f0cb0",
   "metadata": {},
   "outputs": [],
   "source": [
    "# Sparsity, pca scores, spike amplitudes, spike locations, correlograms, template similarity, quality metrics list"
   ]
  },
  {
   "cell_type": "code",
   "execution_count": null,
   "id": "8a8d504d-7b3d-4a12-bf85-196592aec98e",
   "metadata": {},
   "outputs": [],
   "source": [
    "sparsity = si.compute_sparsity(waveforms, method='radius', radius_um=100.0)\n",
    "sparse_waveforms = si.extract_waveforms(recording, sorting, folder = base_folder / \"waveforms_sparse\", sparsity=sparsity, **job_kwargs)"
   ]
  },
  {
   "cell_type": "code",
   "execution_count": null,
   "id": "e7723ece-38fb-4bf0-97a3-d0514caed347",
   "metadata": {},
   "outputs": [],
   "source": [
    "principal_components = si.compute_principal_components(waveforms, n_components=3, load_if_exists=False, **job_kwargs)"
   ]
  },
  {
   "cell_type": "code",
   "execution_count": null,
   "id": "cb69dd08-bd13-443b-924b-02d68c48497d",
   "metadata": {},
   "outputs": [],
   "source": [
    "spike_amplitudes = si.compute_spike_amplitudes(waveforms, outputs=\"by_unit\", load_if_exists=True, **job_kwargs)"
   ]
  },
  {
   "cell_type": "code",
   "execution_count": null,
   "id": "4a1ac0e6-ce0e-4827-997a-f1ce13dd10a7",
   "metadata": {},
   "outputs": [],
   "source": [
    "unit_locations = si.compute_unit_locations(we, method=\"monopolar_triangulation\", load_if_exists=True, **job_kwargs)\n",
    "spike_locations = si.compute_spike_locations(we, method=\"center_of_mass\", load_if_exists=True, **job_kwargs)"
   ]
  },
  {
   "cell_type": "code",
   "execution_count": null,
   "id": "0d9184f7-1719-4023-8762-2fc80d08f262",
   "metadata": {},
   "outputs": [],
   "source": [
    "cross_correlograms, bins = si.compute_correlograms(waveforms)"
   ]
  },
  {
   "cell_type": "code",
   "execution_count": null,
   "id": "45346f46-f588-404e-8a20-cff2bacb2238",
   "metadata": {},
   "outputs": [],
   "source": [
    "template_similarity = si.compute_template_similarity(waveforms)"
   ]
  },
  {
   "cell_type": "code",
   "execution_count": null,
   "id": "9a13971c-dc5f-42bb-bc28-3589163193cc",
   "metadata": {},
   "outputs": [],
   "source": [
    "template_metrics = si.calculate_template_metrics(waveforms)"
   ]
  },
  {
   "cell_type": "code",
   "execution_count": null,
   "id": "08b4e78c-c6d4-4436-a8af-ed0f11adb2e2",
   "metadata": {},
   "outputs": [],
   "source": [
    "metric_names = si.get_quality_metric_list()\n",
    "quality_metrics = si.compute_quality_metrics(waveforms, metric_names=metric_names, verbose=True, **job_kwargs)"
   ]
  },
  {
   "cell_type": "markdown",
   "id": "acc30c34-7c37-40b2-a4fd-0d6a05991352",
   "metadata": {},
   "source": [
    "## Display postprocessing information"
   ]
  },
  {
   "cell_type": "markdown",
   "id": "c65209cd-3ac3-4c41-b097-2d1f0db53ef1",
   "metadata": {},
   "source": [
    "### Spike trains"
   ]
  },
  {
   "cell_type": "code",
   "execution_count": null,
   "id": "3bb48ba9-9bc0-47d3-9caf-8d5b6d9d77fe",
   "metadata": {},
   "outputs": [],
   "source": [
    "si.plot_rasters(sorting)"
   ]
  },
  {
   "cell_type": "markdown",
   "id": "639f25c4-8677-4f16-8691-c6b85b0026fc",
   "metadata": {},
   "source": [
    "### Templates"
   ]
  },
  {
   "cell_type": "code",
   "execution_count": null,
   "id": "38624308-1073-4a3c-a0f3-ef042d41834e",
   "metadata": {},
   "outputs": [],
   "source": [
    "si.plot_unit_templates(waveforms, backend=backend)"
   ]
  },
  {
   "cell_type": "markdown",
   "id": "43db3d52-e5d7-4e92-b28b-44f0346f75af",
   "metadata": {},
   "source": [
    "### Spike amplitudes"
   ]
  },
  {
   "cell_type": "code",
   "execution_count": null,
   "id": "0b01093d-fa6c-4030-82e3-4d108f8bdd5f",
   "metadata": {},
   "outputs": [],
   "source": [
    "si.plot_amplitudes(waveforms, backend=backend)"
   ]
  },
  {
   "cell_type": "markdown",
   "id": "dc1408ee-1eb2-4c84-93ed-da24dd3c1e72",
   "metadata": {},
   "source": [
    "### Unit locations"
   ]
  },
  {
   "cell_type": "code",
   "execution_count": null,
   "id": "8836fdd0-94e1-4597-95eb-4f34cf007c9f",
   "metadata": {},
   "outputs": [],
   "source": [
    "si.plot_unit_locations(waveforms, backend=backend)"
   ]
  },
  {
   "cell_type": "markdown",
   "id": "8bd6af38-fe39-4027-b91e-436c02416d56",
   "metadata": {},
   "source": [
    "### Spike locations"
   ]
  },
  {
   "cell_type": "code",
   "execution_count": null,
   "id": "f9173329-f455-4cd5-97df-be1cf6487a46",
   "metadata": {},
   "outputs": [],
   "source": [
    "si.plot_spike_locations(waveforms, max_spikes_per_unit=300, backend=backend)"
   ]
  },
  {
   "cell_type": "markdown",
   "id": "fb1a516c-724c-4d9d-9eea-68347cd9e5bc",
   "metadata": {},
   "source": [
    "### Autocorrelograms"
   ]
  },
  {
   "cell_type": "code",
   "execution_count": null,
   "id": "2fc4a74d-a3b5-4ab6-8472-58e1dfc026d8",
   "metadata": {},
   "outputs": [],
   "source": [
    "si.plot_autocorrelograms(waveforms, unit_ids=sorting.unit_ids[::30])"
   ]
  },
  {
   "cell_type": "markdown",
   "id": "4b176f05-e797-4c2d-aba3-4cc5c444ad97",
   "metadata": {},
   "source": [
    "### Cross-correlograms"
   ]
  },
  {
   "cell_type": "code",
   "execution_count": null,
   "id": "d82c52a0-8fe4-4504-b1ed-e44e302a1b1b",
   "metadata": {},
   "outputs": [],
   "source": [
    "si.plot_crosscorrelograms(waveforms, unit_ids=sorting.unit_ids[::30])"
   ]
  },
  {
   "cell_type": "markdown",
   "id": "8acfb203-68dc-4861-a8b0-ba93ff3ec15d",
   "metadata": {},
   "source": [
    "### Template metrics"
   ]
  },
  {
   "cell_type": "code",
   "execution_count": null,
   "id": "d6211290-8bb8-47fb-af40-e1524328cacd",
   "metadata": {},
   "outputs": [],
   "source": [
    "display(template_metrics)"
   ]
  },
  {
   "cell_type": "code",
   "execution_count": null,
   "id": "92c3d4d7-fc2a-4cad-af7d-44469baf6417",
   "metadata": {},
   "outputs": [],
   "source": [
    "si.plot_template_metrics(waveforms, include_metrics=[\"peak_to_valley\", \"half_width\"], backend=backend)"
   ]
  },
  {
   "cell_type": "markdown",
   "id": "2780dad1-db42-4fbf-ba1a-074c059de7fe",
   "metadata": {},
   "source": [
    "### Quality metrics"
   ]
  },
  {
   "cell_type": "code",
   "execution_count": null,
   "id": "e1e602c6-a41e-4195-b603-691c480029a6",
   "metadata": {},
   "outputs": [],
   "source": [
    "display(quality_metrics)"
   ]
  },
  {
   "cell_type": "code",
   "execution_count": null,
   "id": "fe105290-916e-4e52-8eeb-187c2259bf8a",
   "metadata": {},
   "outputs": [],
   "source": [
    "plot_metrics = [\"amplitude_cutoff\", \"presence_ratio\", \"isi_violations_ratio\", \"snr\"]\n",
    "si.plot_quality_metrics(we, include_metrics=plot_metrics, backend=backend)"
   ]
  },
  {
   "cell_type": "markdown",
   "id": "def3e21f-159e-43c3-aa84-f5ea023ff600",
   "metadata": {},
   "source": [
    "## Curate data"
   ]
  },
  {
   "cell_type": "code",
   "execution_count": null,
   "id": "cda9cabb-758a-4768-8a29-a6cb6b61e3a7",
   "metadata": {},
   "outputs": [],
   "source": [
    "isi_viol_thresh = 0.2\n",
    "amp_cutoff_thresh = 0.1\n",
    "\n",
    "curation_query = f\"amplitude_cutoff < {amp_cutoff_thresh} & isi_violations_ratio < {isi_viol_thresh}\"\n",
    "\n",
    "keep_units = quality_metrics.query(curation_query)\n",
    "keep_unit_ids = keep_units.index.values\n",
    "\n",
    "sorting_curated = sorting.select_units(keep_unit_ids)\n",
    "sorting_curated.save(folder = base_folder / 'curated_sorting_output', format='npz_folder', **job_kwargs)\n",
    "print(f\"Number of units before curation: {len(sorting.get_unit_ids())}\")\n",
    "print(f\"Number of units after curation: {len(sorting_curated.get_unit_ids())}\")\n",
    "\n",
    "waveforms_curated = waveforms.select_units(keep_unit_ids, new_folder = base_folder / \"waveforms_curated\")\n",
    "print(waveforms_curated)"
   ]
  }
 ],
 "metadata": {
  "kernelspec": {
   "display_name": "Python [conda env:jh_si_env]",
   "language": "python",
   "name": "conda-env-jh_si_env-py"
  },
  "language_info": {
   "codemirror_mode": {
    "name": "ipython",
    "version": 3
   },
   "file_extension": ".py",
   "mimetype": "text/x-python",
   "name": "python",
   "nbconvert_exporter": "python",
   "pygments_lexer": "ipython3",
   "version": "3.10.12"
  }
 },
 "nbformat": 4,
 "nbformat_minor": 5
}
