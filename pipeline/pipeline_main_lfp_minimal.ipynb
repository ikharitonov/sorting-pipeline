{
 "cells": [
  {
   "cell_type": "markdown",
   "id": "389f1276-00ca-4cad-80fc-7cadb815c992",
   "metadata": {},
   "source": [
    "## Main notebook for the preprocessing-sorting-postprocessing pipeline with SpikeInterface"
   ]
  },
  {
   "cell_type": "markdown",
   "id": "06a968a2-73de-4ba6-88a9-7a39d468eb93",
   "metadata": {},
   "source": [
    "### Imports"
   ]
  },
  {
   "cell_type": "code",
   "execution_count": 34,
   "id": "badb9528-70dc-4388-8e29-ff95e02dda41",
   "metadata": {
    "tags": []
   },
   "outputs": [],
   "source": [
    "import numpy as np\n",
    "from pathlib import Path\n",
    "import spikeinterface.full as si\n",
    "from probeinterface import read_probeinterface\n",
    "from adc_shifts import adc_shifts\n",
    "\n",
    "%matplotlib widget"
   ]
  },
  {
   "cell_type": "markdown",
   "id": "b829657d-1060-47b5-a191-7fa1edbbe5ab",
   "metadata": {},
   "source": [
    "### Parameters"
   ]
  },
  {
   "cell_type": "code",
   "execution_count": 5,
   "id": "96f26347-0930-4b78-b58b-35c7760e31d9",
   "metadata": {
    "tags": []
   },
   "outputs": [],
   "source": [
    "# Data loading\n",
    "num_channels = 384\n",
    "sampling_frequency = 2500\n",
    "# see this thread https://community.brain-map.org/t/using-the-raw-data/1898 for gain scaling factor and dtype\n",
    "gain_recording = 4.69\n",
    "offset_recording = 0\n",
    "dtype = np.int16\n",
    "\n",
    "# Main working directory\n",
    "base_folder = Path.home() / 'RANCZLAB-NAS/data/ONIX/mouse_343/mouse_343_2024-06-20T131349Z' \n",
    "# Input data\n",
    "binary_filename = 'LFP.bin'\n",
    "\n",
    "# Output sorting\n",
    "output_folder = base_folder / 'kilosort3_sorting_files'\n",
    "sorting_save_path = base_folder / 'kilosort3_sorting_output'\n",
    "\n",
    "# Preprocessing\n",
    "highpass_frequency = 1 # Hz\n",
    "\n",
    "# Sorting\n",
    "sorter_name = 'hdsort'\n",
    "sorter_path = Path.home() / 'RANCZLAB-NAS' / 'spikesorter_images' / f'{sorter_name}-compiled-base.sif'\n",
    "output_folder = Path.home() / 'RANCZLAB-NAS/output_sorter/mouse_343'\n",
    "remove_existing_folder = True\n",
    "\n",
    "# Other\n",
    "backend = 'ipywidgets'"
   ]
  },
  {
   "cell_type": "markdown",
   "id": "4e18f520-6872-445a-864e-fc85650dd2c8",
   "metadata": {},
   "source": [
    "### Loading the data"
   ]
  },
  {
   "cell_type": "code",
   "execution_count": 10,
   "id": "c6c7d197-ab89-4537-8ca9-a8a212ba1986",
   "metadata": {
    "tags": []
   },
   "outputs": [
    {
     "data": {
      "text/plain": [
       "ScaleRecording: 384 channels - 2.5kHz - 1 segments - 546,306 samples - 218.52s (3.64 minutes) \n",
       "                float32 dtype - 800.25 MiB"
      ]
     },
     "execution_count": 10,
     "metadata": {},
     "output_type": "execute_result"
    }
   ],
   "source": [
    "recordings = {}\n",
    "recordings['raw'] = si.read_binary(base_folder / binary_filename, sampling_frequency=sampling_frequency, dtype=dtype, num_channels=num_channels, gain_to_uV=1.0, offset_to_uV=0)\n",
    "recordings['raw'] = si.scale(recordings['raw'], gain=gain_recording, offset=offset_recording) #scale to uV\n",
    "\n",
    "probegroup = read_probeinterface('np_json_files/np1.json')\n",
    "probe = probegroup.probes[0]\n",
    "recordings['raw'] = recordings['raw'].set_probe(probe)\n",
    "\n",
    "recordings['raw']"
   ]
  },
  {
   "cell_type": "markdown",
   "id": "2f3dd4cd-a33f-457b-88f3-f3e25e2a183e",
   "metadata": {
    "tags": []
   },
   "source": [
    "### Preprocessing"
   ]
  },
  {
   "cell_type": "code",
   "execution_count": 12,
   "id": "e011b4ab-c5ca-40f2-bb14-f9129f48b137",
   "metadata": {
    "tags": []
   },
   "outputs": [],
   "source": [
    "# high pass signal\n",
    "recordings['highpass'] = si.highpass_filter(recordings['raw'], freq_min=highpass_frequency)\n",
    "\n",
    "recordings['bandpass'] = si.bandpass_filter(recordings['highpass'], freq_min=1, freq_max=6000)\n",
    "\n",
    "# perform the phase shift (similar to IBL destriping or `tshift` option in CatGT):\n",
    "recordings['phase_shift'] = si.phase_shift(recordings['bandpass'], inter_sample_shift=adc_shifts()[0])\n",
    "\n",
    "# # detect noisy, dead, and out-of-brain channels\n",
    "# bad_channel_ids, channel_labels = si.detect_bad_channels(recordings['phase_shift'])\n",
    "# recordings['good_channels'] = recordings['phase_shift'].remove_channels(remove_channel_ids=bad_channel_ids)\n",
    "# print('Channels removed:', {k: channel_labels[k] for k in bad_channel_ids})\n",
    "# print(len(bad_channel_ids))\n",
    "# num_channels= 384-len(bad_channel_ids)\n",
    "# print(num_channels)\n",
    "\n",
    "# subtract the median across all channels\n",
    "recordings['common_reference'] = si.common_reference(recordings['phase_shift'], operator=\"median\", reference=\"global\")"
   ]
  },
  {
   "cell_type": "markdown",
   "id": "6ba7e56d-a254-4050-a293-064310b95f89",
   "metadata": {},
   "source": [
    "### Run sorting"
   ]
  },
  {
   "cell_type": "code",
   "execution_count": 149,
   "id": "4fbfa999-7ca8-46e1-b0ac-251a648f1836",
   "metadata": {
    "tags": []
   },
   "outputs": [
    {
     "name": "stdout",
     "output_type": "stream",
     "text": [
      "Starting container\n",
      "Installing spikeinterface from sources in /home/jupyter-nora/RANCZLAB-NAS/spikesorter_images/hdsort-compiled-base.sif\n",
      "Installing dev spikeinterface from remote repository\n",
      "Running hdsort sorter inside /home/jupyter-nora/RANCZLAB-NAS/spikesorter_images/hdsort-compiled-base.sif\n",
      "Stopping container\n"
     ]
    },
    {
     "name": "stderr",
     "output_type": "stream",
     "text": [
      "/opt/tljh/user/envs/jh_si_env/lib/python3.10/site-packages/spikeinterface/core/base.py:1011: UserWarning: Versions are not the same. This might lead to compatibility errors. Using spikeinterface==0.101.0rc0 is recommended\n",
      "  warnings.warn(\n",
      "/opt/tljh/user/envs/jh_si_env/lib/python3.10/site-packages/spikeinterface/core/basesorting.py:247: UserWarning: The registered recording will not be persistent on disk, but only available in memory\n",
      "  warnings.warn(\"The registered recording will not be persistent on disk, but only available in memory\")\n"
     ]
    },
    {
     "data": {
      "text/plain": [
       "NpzFolderSorting: 378 units - 1 segments - 30.0kHz"
      ]
     },
     "execution_count": 149,
     "metadata": {},
     "output_type": "execute_result"
    }
   ],
   "source": [
    "sorting = si.run_sorter(sorter_name, recording=recordings['common_reference'], output_folder=output_folder, singularity_image=sorter_path, verbose=True, remove_existing_folder=remove_existing_folder)\n",
    "sorting.save(folder=output_folder/'si_save', format='npz_folder')"
   ]
  },
  {
   "cell_type": "markdown",
   "id": "80a3d907-85ed-45c3-8fc8-88d5de271ce1",
   "metadata": {},
   "source": [
    "### Postprocessing / exporting"
   ]
  },
  {
   "cell_type": "code",
   "execution_count": 152,
   "id": "38b2c590-bfac-4269-a103-a78e3136346a",
   "metadata": {
    "tags": []
   },
   "outputs": [
    {
     "data": {
      "application/vnd.jupyter.widget-view+json": {
       "model_id": "54da3c793d12483cab6c7c467063caf0",
       "version_major": 2,
       "version_minor": 0
      },
      "text/plain": [
       "extract waveforms shared_memory multi buffer:   0%|          | 0/154 [00:00<?, ?it/s]"
      ]
     },
     "metadata": {},
     "output_type": "display_data"
    },
    {
     "data": {
      "application/vnd.jupyter.widget-view+json": {
       "model_id": "200810124cbc46a3a4a0038a2f273dc4",
       "version_major": 2,
       "version_minor": 0
      },
      "text/plain": [
       "extract waveforms memmap multi buffer:   0%|          | 0/154 [00:00<?, ?it/s]"
      ]
     },
     "metadata": {},
     "output_type": "display_data"
    },
    {
     "data": {
      "application/vnd.jupyter.widget-view+json": {
       "model_id": "868316932b8f4f0bb352b75d8e44c2c9",
       "version_major": 2,
       "version_minor": 0
      },
      "text/plain": [
       "extract amplitudes:   0%|          | 0/154 [00:00<?, ?it/s]"
      ]
     },
     "metadata": {},
     "output_type": "display_data"
    },
    {
     "data": {
      "application/vnd.jupyter.widget-view+json": {
       "model_id": "f6c1ecf12b2c478786a11d90bcece5a1",
       "version_major": 2,
       "version_minor": 0
      },
      "text/plain": [
       "Fitting PCA:   0%|          | 0/378 [00:00<?, ?it/s]"
      ]
     },
     "metadata": {},
     "output_type": "display_data"
    },
    {
     "data": {
      "application/vnd.jupyter.widget-view+json": {
       "model_id": "44929b8c0fb9428881bbfe587e34e645",
       "version_major": 2,
       "version_minor": 0
      },
      "text/plain": [
       "Projecting waveforms:   0%|          | 0/378 [00:00<?, ?it/s]"
      ]
     },
     "metadata": {},
     "output_type": "display_data"
    },
    {
     "data": {
      "application/vnd.jupyter.widget-view+json": {
       "model_id": "e1da673f80e1406e87a2ccb0637c56d9",
       "version_major": 2,
       "version_minor": 0
      },
      "text/plain": [
       "write_binary_recording:   0%|          | 0/154 [00:00<?, ?it/s]"
      ]
     },
     "metadata": {},
     "output_type": "display_data"
    },
    {
     "data": {
      "application/vnd.jupyter.widget-view+json": {
       "model_id": "72366a3e2fad460985cb951f82889cf1",
       "version_major": 2,
       "version_minor": 0
      },
      "text/plain": [
       "extract PCs:   0%|          | 0/154 [00:00<?, ?it/s]"
      ]
     },
     "metadata": {},
     "output_type": "display_data"
    },
    {
     "name": "stdout",
     "output_type": "stream",
     "text": [
      "Run:\n",
      "phy template-gui  /home/jupyter-nora/RANCZLAB-NAS/output_sorter/mouse_343/phy_folder/params.py\n"
     ]
    }
   ],
   "source": [
    "# the waveforms are sparse so it is faster to export to phy\n",
    "we = si.extract_waveforms(recording=recordings['common_reference'], sorting=sorting, folder='waveforms', unit_batch_size=800)\n",
    "\n",
    "# compute some metrics needed for this module:\n",
    "spike_amplitudes = si.compute_spike_amplitudes(waveform_extractor=we)\n",
    "principal_components = si.compute_principal_components(waveform_extractor=we,\n",
    "                                 n_components=5,\n",
    "                                 mode='by_channel_global')\n",
    "\n",
    "# save the data in a specified location\n",
    "si.export_to_phy(waveform_extractor=we, \n",
    "              output_folder=output_folder/'phy_folder')"
   ]
  },
  {
   "cell_type": "code",
   "execution_count": null,
   "id": "a9877ae7-01c4-4d6b-97f4-60eeff2b71af",
   "metadata": {},
   "outputs": [],
   "source": []
  }
 ],
 "metadata": {
  "kernelspec": {
   "display_name": "Python [conda env:jh_si_env]",
   "language": "python",
   "name": "conda-env-jh_si_env-py"
  },
  "language_info": {
   "codemirror_mode": {
    "name": "ipython",
    "version": 3
   },
   "file_extension": ".py",
   "mimetype": "text/x-python",
   "name": "python",
   "nbconvert_exporter": "python",
   "pygments_lexer": "ipython3",
   "version": "3.10.12"
  }
 },
 "nbformat": 4,
 "nbformat_minor": 5
}
