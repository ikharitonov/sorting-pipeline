{
 "cells": [
  {
   "cell_type": "markdown",
   "id": "d20b0992-0aaa-4cfb-bf45-2dc3cdcec830",
   "metadata": {},
   "source": [
    "## Import libraries"
   ]
  },
  {
   "cell_type": "code",
   "execution_count": 1,
   "id": "ef90f389-964e-45f0-bdf0-9738de843d5f",
   "metadata": {
    "tags": []
   },
   "outputs": [
    {
     "name": "stderr",
     "output_type": "stream",
     "text": [
      "Matplotlib created a temporary cache directory at /tmp/matplotlib-tx17bo75 because the default path (/home/jupyter-ikharitonov/.cache/matplotlib) is not a writable directory; it is highly recommended to set the MPLCONFIGDIR environment variable to a writable directory, in particular to speed up the import of Matplotlib and to better support multiprocessing.\n"
     ]
    }
   ],
   "source": [
    "import os\n",
    "import matplotlib.pyplot as plt\n",
    "import numpy as np\n",
    "from pathlib import Path\n",
    "import spikeinterface.full as si\n",
    "from probeinterface import read_probeinterface\n",
    "from probeinterface.plotting import plot_probe\n",
    "\n",
    "%matplotlib widget"
   ]
  },
  {
   "cell_type": "code",
   "execution_count": 2,
   "id": "32c78e4d-12d7-4619-a15e-f2b8f15c639d",
   "metadata": {
    "tags": []
   },
   "outputs": [
    {
     "name": "stdout",
     "output_type": "stream",
     "text": [
      "SpikeInterface version: 0.99.0.dev0\n"
     ]
    }
   ],
   "source": [
    "print(f\"SpikeInterface version: {si.__version__}\")"
   ]
  },
  {
   "cell_type": "markdown",
   "id": "5d87c684-26a7-4c58-b112-3e4603ebd399",
   "metadata": {},
   "source": [
    "## Define paths and configure default parameters"
   ]
  },
  {
   "cell_type": "code",
   "execution_count": 3,
   "id": "3e801b1a-2c7a-4131-aa0e-4f696dda0e97",
   "metadata": {
    "tags": []
   },
   "outputs": [],
   "source": [
    "# Main working directory\n",
    "base_folder = Path.home() / 'RANCZLAB-NAS' / 'iakov' / 'allen_sorting_07_11_23'\n",
    "\n",
    "# Input data\n",
    "binary_filename = 'spike_band.dat'\n",
    "\n",
    "# Output sorting\n",
    "output_folder = base_folder / 'kilosort3_sorting_files'\n",
    "sorting_save_path = base_folder / 'kilosort3_sorting_output'"
   ]
  },
  {
   "cell_type": "code",
   "execution_count": 4,
   "id": "d2eecf42-3a72-4979-9bde-c8baf027a522",
   "metadata": {
    "tags": []
   },
   "outputs": [],
   "source": [
    "# Default parameters for compute-intensive steps\n",
    "# n_jobs is the number of CPU cores used. -1 means use all cores.\n",
    "job_kwargs = dict(n_jobs=-1, chunk_duration=\"1s\", progress_bar=True)\n",
    "\n",
    "# Plotting backend\n",
    "backend = 'ipywidgets'"
   ]
  },
  {
   "cell_type": "markdown",
   "id": "c9e9556b-b095-42c5-ac3f-39737e50943f",
   "metadata": {},
   "source": [
    "## Load data"
   ]
  },
  {
   "cell_type": "code",
   "execution_count": 5,
   "id": "c6b584b9-5718-4255-93ce-fe995ba24aa1",
   "metadata": {
    "tags": []
   },
   "outputs": [],
   "source": [
    "# Recording parameters\n",
    "sampling_frequency = 32000\n",
    "dtype = np.int16\n",
    "channel_number = 384"
   ]
  },
  {
   "cell_type": "code",
   "execution_count": 6,
   "id": "1761f633-3ffb-4a48-893b-140a06cde9dd",
   "metadata": {
    "tags": []
   },
   "outputs": [
    {
     "name": "stderr",
     "output_type": "stream",
     "text": [
      "/opt/tljh/user/envs/jh_si_env/lib/python3.10/site-packages/spikeinterface/core/binaryrecordingextractor.py:77: UserWarning: `num_chan` is to be deprecated in version 0.100, please use `num_channels` instead\n",
      "  warnings.warn(\"`num_chan` is to be deprecated in version 0.100, please use `num_channels` instead\")\n"
     ]
    },
    {
     "ename": "FileNotFoundError",
     "evalue": "[Errno 2] No such file or directory: '/home/jupyter-ikharitonov/RANCZLAB-NAS/iakov/allen_sorting_07_11_23/spike_band.dat'",
     "output_type": "error",
     "traceback": [
      "\u001b[0;31m---------------------------------------------------------------------------\u001b[0m",
      "\u001b[0;31mFileNotFoundError\u001b[0m                         Traceback (most recent call last)",
      "Cell \u001b[0;32mIn[6], line 2\u001b[0m\n\u001b[1;32m      1\u001b[0m recordings \u001b[38;5;241m=\u001b[39m {}\n\u001b[0;32m----> 2\u001b[0m recordings[\u001b[38;5;124m'\u001b[39m\u001b[38;5;124mraw\u001b[39m\u001b[38;5;124m'\u001b[39m] \u001b[38;5;241m=\u001b[39m \u001b[43msi\u001b[49m\u001b[38;5;241;43m.\u001b[39;49m\u001b[43mread_binary\u001b[49m\u001b[43m(\u001b[49m\u001b[43mbase_folder\u001b[49m\u001b[43m \u001b[49m\u001b[38;5;241;43m/\u001b[39;49m\u001b[43m \u001b[49m\u001b[43mbinary_filename\u001b[49m\u001b[43m,\u001b[49m\u001b[43m \u001b[49m\u001b[43msampling_frequency\u001b[49m\u001b[38;5;241;43m=\u001b[39;49m\u001b[43msampling_frequency\u001b[49m\u001b[43m,\u001b[49m\u001b[43m \u001b[49m\u001b[43mdtype\u001b[49m\u001b[38;5;241;43m=\u001b[39;49m\u001b[43mdtype\u001b[49m\u001b[43m,\u001b[49m\u001b[43m \u001b[49m\u001b[43mnum_chan\u001b[49m\u001b[38;5;241;43m=\u001b[39;49m\u001b[43mchannel_number\u001b[49m\u001b[43m)\u001b[49m\n",
      "File \u001b[0;32m/opt/tljh/user/envs/jh_si_env/lib/python3.10/site-packages/spikeinterface/core/binaryrecordingextractor.py:104\u001b[0m, in \u001b[0;36mBinaryRecordingExtractor.__init__\u001b[0;34m(self, file_paths, sampling_frequency, dtype, num_channels, t_starts, channel_ids, time_axis, file_offset, gain_to_uV, offset_to_uV, is_filtered, num_chan)\u001b[0m\n\u001b[1;32m    102\u001b[0m     \u001b[38;5;28;01melse\u001b[39;00m:\n\u001b[1;32m    103\u001b[0m         t_start \u001b[38;5;241m=\u001b[39m t_starts[i]\n\u001b[0;32m--> 104\u001b[0m     rec_segment \u001b[38;5;241m=\u001b[39m \u001b[43mBinaryRecordingSegment\u001b[49m\u001b[43m(\u001b[49m\n\u001b[1;32m    105\u001b[0m \u001b[43m        \u001b[49m\u001b[43mfile_path\u001b[49m\u001b[43m,\u001b[49m\u001b[43m \u001b[49m\u001b[43msampling_frequency\u001b[49m\u001b[43m,\u001b[49m\u001b[43m \u001b[49m\u001b[43mt_start\u001b[49m\u001b[43m,\u001b[49m\u001b[43m \u001b[49m\u001b[43mnum_channels\u001b[49m\u001b[43m,\u001b[49m\u001b[43m \u001b[49m\u001b[43mdtype\u001b[49m\u001b[43m,\u001b[49m\u001b[43m \u001b[49m\u001b[43mtime_axis\u001b[49m\u001b[43m,\u001b[49m\u001b[43m \u001b[49m\u001b[43mfile_offset\u001b[49m\n\u001b[1;32m    106\u001b[0m \u001b[43m    \u001b[49m\u001b[43m)\u001b[49m\n\u001b[1;32m    107\u001b[0m     \u001b[38;5;28mself\u001b[39m\u001b[38;5;241m.\u001b[39madd_recording_segment(rec_segment)\n\u001b[1;32m    109\u001b[0m \u001b[38;5;28;01mif\u001b[39;00m is_filtered \u001b[38;5;129;01mis\u001b[39;00m \u001b[38;5;129;01mnot\u001b[39;00m \u001b[38;5;28;01mNone\u001b[39;00m:\n",
      "File \u001b[0;32m/opt/tljh/user/envs/jh_si_env/lib/python3.10/site-packages/spikeinterface/core/binaryrecordingextractor.py:176\u001b[0m, in \u001b[0;36mBinaryRecordingSegment.__init__\u001b[0;34m(self, datfile, sampling_frequency, t_start, num_channels, dtype, time_axis, file_offset)\u001b[0m\n\u001b[1;32m    174\u001b[0m \u001b[38;5;28mself\u001b[39m\u001b[38;5;241m.\u001b[39mtime_axis \u001b[38;5;241m=\u001b[39m time_axis\n\u001b[1;32m    175\u001b[0m \u001b[38;5;28mself\u001b[39m\u001b[38;5;241m.\u001b[39mdatfile \u001b[38;5;241m=\u001b[39m datfile\n\u001b[0;32m--> 176\u001b[0m \u001b[38;5;28mself\u001b[39m\u001b[38;5;241m.\u001b[39mfile \u001b[38;5;241m=\u001b[39m \u001b[38;5;28;43mopen\u001b[39;49m\u001b[43m(\u001b[49m\u001b[38;5;28;43mself\u001b[39;49m\u001b[38;5;241;43m.\u001b[39;49m\u001b[43mdatfile\u001b[49m\u001b[43m,\u001b[49m\u001b[43m \u001b[49m\u001b[38;5;124;43m\"\u001b[39;49m\u001b[38;5;124;43mr\u001b[39;49m\u001b[38;5;124;43m\"\u001b[39;49m\u001b[43m)\u001b[49m\n\u001b[1;32m    177\u001b[0m \u001b[38;5;28mself\u001b[39m\u001b[38;5;241m.\u001b[39mnum_samples \u001b[38;5;241m=\u001b[39m (Path(datfile)\u001b[38;5;241m.\u001b[39mstat()\u001b[38;5;241m.\u001b[39mst_size \u001b[38;5;241m-\u001b[39m file_offset) \u001b[38;5;241m/\u001b[39m\u001b[38;5;241m/\u001b[39m (num_channels \u001b[38;5;241m*\u001b[39m np\u001b[38;5;241m.\u001b[39mdtype(dtype)\u001b[38;5;241m.\u001b[39mitemsize)\n\u001b[1;32m    178\u001b[0m \u001b[38;5;28;01mif\u001b[39;00m \u001b[38;5;28mself\u001b[39m\u001b[38;5;241m.\u001b[39mtime_axis \u001b[38;5;241m==\u001b[39m \u001b[38;5;241m0\u001b[39m:\n",
      "\u001b[0;31mFileNotFoundError\u001b[0m: [Errno 2] No such file or directory: '/home/jupyter-ikharitonov/RANCZLAB-NAS/iakov/allen_sorting_07_11_23/spike_band.dat'"
     ]
    }
   ],
   "source": [
    "recordings = {}\n",
    "recordings['raw'] = si.read_binary(base_folder / binary_filename, sampling_frequency=sampling_frequency, dtype=dtype, num_chan=channel_number)"
   ]
  },
  {
   "cell_type": "markdown",
   "id": "1a433b43-8474-4545-8ccd-659d977a82e9",
   "metadata": {},
   "source": [
    "## Assign probe"
   ]
  },
  {
   "cell_type": "code",
   "execution_count": 7,
   "id": "a718cbb6-fda3-4a8a-b787-c3a7e0124c71",
   "metadata": {
    "tags": []
   },
   "outputs": [
    {
     "data": {
      "text/plain": [
       "(<matplotlib.collections.PolyCollection at 0x7f466345aa70>, None)"
      ]
     },
     "execution_count": 7,
     "metadata": {},
     "output_type": "execute_result"
    },
    {
     "data": {
      "application/vnd.jupyter.widget-view+json": {
       "model_id": "ec3100688ce34412a1ed5705d9306be2",
       "version_major": 2,
       "version_minor": 0
      },
      "image/png": "[encoded data removed]",
      "text/html": [
       "\n",
       "            <div style=\"display: inline-block;\">\n",
       "                <div class=\"jupyter-widgets widget-label\" style=\"text-align: center;\">\n",
       "                    Figure\n",
       "                </div>\n",
       "                <img src='data:image/png;base64,iVBORw0KGgoAAAANSUhEUgAAAoAAAAHgCAYAAAA10dzkAAAAOXRFWHRTb2Z0d2FyZQBNYXRwbG90bGliIHZlcnNpb24zLjcuMiwgaHR0cHM6Ly9tYXRwbG90bGliLm9yZy8pXeV/AAAACXBIWXMAAA9hAAAPYQGoP6dpAABKdUlEQVR4nO3deXhU5d3/8c8ASViSjITsIQSEmAJhsVAhWMuOICGytECRCBVZZJMiSsGFpTYo+pOnT1m1SoSAUZ8IKtAArYCl7DwMAgYMCgghIQGTCcEQAszvD345vxmSKGJgYM77dV1zXWfOuc+Z+8Re9uvn3Pd9LA6HwyEAAACYRjV3dwAAAAC3FwUgAACAyVAAAgAAmAwFIAAAgMlQAAIAAJgMBSAAAIDJUAACAACYDAUgAACAyVAAAgAAmAwFIAAAgMlQAAIAAJgMBSAAAIDJUAACAACYDAUgAACAyVAAAgAAmAwFIAAAgMlQAAIAAJgMBSAAAIDJUAACAACYDAUgAACAyVAAAgAAmAwFIAAAgMlQAAIAAJgMBSAAAIDJUAACAACYDAUgAACAyVAAAgAAmAwFIAAAgMlQAAIAAJgMBSAAAIDJUAACAACYDAUgAACAyVAAAgAAmAwFIAAAgMlQAAIAAJgMBSAAAIDJUAACd5Dk5GRZLBbjU6NGDdWvX19/+MMflJWVVaW/ZbFYNH78+Cq95s9ls9nUu3dvNWjQQLVq1VJAQIDi4uKUkpJSrq3D4dBbb72lNm3ayN/fX/Xq1VPHjh21du3aH/yNL7/8Uj4+PrJYLNqzZ89P7uPMmTNlsVh09uzZn3zuzXjhhRcUHx+viIgIWSwWDR8+/Kav5c5/5p06dVJsbKxbfhtAeRSAwB1o6dKl2r59uzZu3KiRI0fqvffe00MPPaQLFy64u2u3VEFBgSIjI5WUlKR169Zp2bJlatiwoRITE/Xyyy+7tJ0xY4ZGjRqlBx54QGlpaUpOTpaPj4/i4+P10UcfVXj9K1eu6IknnlBgYODtuJ0qMW/ePJ07d04JCQny9vZ2d3cAeIga7u4AgPJiY2PVtm1bSVLnzp115coV/fnPf9bq1av12GOPVXjO999/r9q1a9/Obla5Tp06qVOnTi774uPjdezYMb355pt64YUXjP3vvPOOfv3rX2vRokXGvu7duys0NFTvvvuu+vfvX+768+bN06lTpzR16lQ9/fTTt+w+qtL58+dVrdq1/1Zfvny5m3sDwFOQAAJ3gfbt20uSTpw4IUkaPny4fH19deDAAfXo0UN+fn7q2rWrJOm7777T2LFjFRERIW9vb9177716/vnnVVJSUuG1lyxZovvuu08+Pj5q1qyZUlNTy7XJycnR6NGjVb9+fXl7e6tRo0aaNWuWLl++fIvu2FVgYKBq1HD971UvLy9ZrVaXfTVr1jQ+18vMzNRLL72khQsXyt/fv9Lf2rlzp/r06aN69eqpZs2aaty4sSZNmlSu3ZkzZ/T73/9eVqtVISEheuKJJ2S322/uBn9AWfH3Y/bt26f4+HgFBwfLx8dH4eHh6t27t06dOlWu7fLly9W0aVPVrl1brVq10po1a1yOHz16VH/4wx8UHR2t2rVrKyIiQn369NGBAwdc2m3evFkWi0Xvvfeenn/+eYWHh8vf31/dunXTkSNHfrTPq1atUu3atfXkk08a/1v68MMP1a5dO1mtVtWuXVv33nuvnnjiiRv6GwC4cSSAwF3g6NGjkqSgoCBj36VLl5SQkKDRo0frT3/6ky5fvqyLFy+qc+fO+vrrrzVr1iy1bNlS//73vzVnzhzZbLZy4+M++eQTbdq0SbNnz1adOnW0cOFC/f73v1eNGjX029/+VtK14u+BBx5QtWrV9NJLL6lx48bavn27Xn75ZR0/flxLly6t8vu9evWqrl69qvz8fH344Ydav3695s+f79Lm6aef1pQpU/T222+rf//+unjxol577TXZ7XZNnDjRpa3D4dCTTz6p+Ph4JSQkKDk5ucLfXb9+vfr06aOmTZvqjTfeUIMGDXT8+HFt2LChXNsBAwZo0KBBGjFihA4cOKBp06ZJupZM3m4XLlxQ9+7d1ahRIy1YsEAhISHKycnRpk2bdP78eZe2a9eu1e7duzV79mz5+vpq7ty56tevn44cOaJ7771XknT69GnVq1dPr7zyioKCgvTdd9/p3XffVbt27bRv3z7FxMS4XHP69Ol68MEH9fe//12FhYWaOnWq+vTpo4yMDFWvXr3CPs+bN0/PPvusZs6caSS727dv16BBgzRo0CDNnDlTNWvW1IkTJ/TZZ5/dgr8aYHIOAHeMpUuXOiQ5duzY4SgtLXWcP3/esWbNGkdQUJDDz8/PkZOT43A4HI5hw4Y5JDneeecdl/MXL17skOT44IMPXPa/+uqrDkmODRs2GPskOWrVqmVc0+FwOC5fvuz4xS9+4WjSpImxb/To0Q5fX1/HiRMnXK75+uuvOyQ5Dh06VGX37/ybkhySHN7e3o6FCxdW2G7x4sUOHx8fo21AQIBj48aN5dr97W9/c9StW9e417K/8+7du13aNW7c2NG4cWNHcXFxpX2bMWOGQ5Jj7ty5LvvHjh3rqFmzpuPq1as/9XZvWJ06dRzDhg0rt3/Pnj0OSY7Vq1f/4PmSHCEhIY7CwkJjX05OjqNatWqOOXPmVHre5cuXHZcuXXJER0c7/vjHPxr7N23a5JDkeOSRR1zaf/DBBw5Jju3btxv7Onbs6GjevLnjypUrjvHjxzu8vb0dKSkpLueV/W+qoKDgB+8DwM/HI2DgDtS+fXt5eXnJz89P8fHxCg0N1T/+8Q+FhIS4tBswYIDL988++0x16tQx0rsyZTNH//Wvf7ns79q1q8s1q1evrkGDBuno0aPGo8M1a9aoc+fOCg8P1+XLl41Pr169JElbtmyp9D6uXr3qcs6VK1du6P6nT5+u3bt3a+3atXriiSc0fvx4vf766y5tli5dqqefflrjx4/XP//5T61bt049evTQo48+qvXr1xvtTpw4oWnTpum1114r9/dz9tVXX+nrr7/WiBEjKnyEfL2EhASX7y1bttTFixeVm5tb6TkOh8Pl71FVj9CbNGmiunXraurUqVq8eLG+/PLLStt27txZfn5+xveQkBAFBwcbwwsk6fLly0pKSlKzZs3k7e2tGjVqyNvbW5mZmcrIyCh3zYr+FpJcrilJFy9eVN++fbVixQpt2LCh3HjWX/3qV5KkgQMH6oMPPqjyme8A/j8KQOAOtGzZMu3evVv79u3T6dOn9cUXX+jBBx90aVO7du1yY9nOnTun0NBQWSwWl/3BwcGqUaOGzp0757I/NDS03G+X7Stre+bMGX366afy8vJy+TRv3lySfnA5lNmzZ7uc07hx4xu6/wYNGqht27Z65JFHtGjRIo0aNUrTpk1TXl6eJCk/P1/jxo3Tk08+qddff11du3ZVr1699N577+lXv/qVxowZY1xr3Lhxio2N1YABA1RQUKCCggJ9//33kqSioiJj3F7ZtevXr39DfaxXr57Ldx8fH0lScXFxpee8++675f6OVcFqtWrLli1q3bq1pk+frubNmys8PFwzZsxQaWnpD/a7rO/O/Z48ebJefPFF9e3bV59++ql27typ3bt3q1WrVhXe343+LXJzc7V+/XrFxcWpQ4cO5a7zm9/8RqtXr9bly5f1+OOPq379+oqNjdV77713438MADeEMYDAHahp06bGLODKXF/kSdf+j3jnzp1yOBwux3Nzc3X58uVyy5/k5OSUu0bZvrL/Uw8MDFTLli31l7/8pcJ+hIeHV9rHUaNGKT4+3vheVhj8VA888IAWL16sb775RkFBQTpy5IiKi4uNxMhZ27ZttWXLFhUVFcnX11cHDx7UiRMnVLdu3XJtO3fuLKvVqoKCAmN8ZUWTJqpKnz59tHv37lty7RYtWig1NVUOh0NffPGFkpOTNXv2bNWqVUt/+tOfftK1UlJS9PjjjyspKcll/9mzZ3XPPffcdB8bNGigN954Q/369VP//v314YcflktbH330UT366KMqKSnRjh07NGfOHA0ZMkQNGzZUXFzcTf82AFcUgIAH6dq1qz744AOtXr1a/fr1M/YvW7bMOO7sX//6l86cOWM8Gr1y5Yref/99NW7c2EjC4uPjtW7dOjVu3LjCIuqHhIeH/2CBeKM2bdqkatWqGZMUyq65Y8cODRs2zGjncDi0Y8cO1a1bV3Xq1JEkpaam6uLFiy7XS09P16uvvqrFixcbSeZ9992nxo0b65133tHkyZNvulj9IfXq1aswgatKFotFrVq10rx585ScnKz//d//valrXH//a9euVVZWlpo0afKz+tejRw+tX79evXv3Vnx8vD7++GPjn5UzHx8fdezYUffcc4/Wr1+vffv2UQACVYgCEPAgjz/+uBYsWKBhw4bp+PHjatGihbZu3aqkpCQ98sgj6tatm0v7wMBAdenSRS+++KIxC/jw4cMuS8HMnj1bGzduVIcOHTRx4kTFxMTo4sWLOn78uNatW6fFixff8GPTHzNq1Cj5+/vrgQceUEhIiM6ePasPP/xQ77//vp599lkjpWvQoIH69++vN998Uz4+PnrkkUdUUlKid999V//5z3/05z//2UhAy5bQcXb8+HFJUps2bVyS1gULFqhPnz5q3769/vjHP6pBgwb69ttvtX79eq1YsaJK7vGn2rJli/F4+sqVKzpx4oT+53/+R5LUsWNHBQUFac2aNVq4cKH69u2re++9Vw6HQx999JEKCgrUvXv3n/yb8fHxSk5O1i9+8Qu1bNlSe/fu1WuvvVZl/5x//etf61//+pd69uypHj16aN26dbJarXrppZd06tQpde3aVfXr11dBQYH++te/ysvLSx07dqyS3wZwDQUg4EFq1qypTZs26fnnn9drr72mvLw8RUREaMqUKZoxY0a59gkJCWrevLleeOEFffvtt2rcuLFWrFihQYMGGW3CwsK0Z88e/fnPf9Zrr72mU6dOyc/PT40aNVLPnj1/cir4Q+Li4rR06VK9++67KigokK+vr1q1aqXly5dr6NChLm1XrFih+fPna/ny5XrnnXfk5eWl++67TykpKRoyZMhN/f7DDz+szz//XLNnz9bEiRN18eJF1a9fv9wkh9tpxowZLhNtNm/erM2bN0u6lox26tRJ0dHRuueeezR37lydPn1a3t7eiomJUXJysktCeqPKiq45c+aoqKhIv/zlL/XRRx+5LMT9c5U9qu/WrZu6dOmi9evXq127dtqzZ4+mTp2qvLw83XPPPWrbtq0+++wzI6kFUDUsDofD4e5OAAAA4PZhFjAAAIDJUAACAACYDAUgAACAyVAAAgAAmAwFIAAAgMlQAAIAAJgMBSAAAIDJsBA0AFO7evWqTp8+LT8/vwrfr3w9h8Oh8+fPKzw8XNWq8d/QAO5OFIAATO306dOKjIz8yeedPHmyyl6NBgC3GwUgAFPz8/OTdK2g8/f3/9H2hYWFioyMNM4DgLsRBSAAUyt77Ovv739DBeD15wHA3YgBLADgJC1lgdJSFpTbBgBPQgEIAABgMjwCBgAnA4aOkyQj+RswdJzLNgB4AhJAAAAAkyEBBAAn1yd/aSkLSP4AeBwSQAAAAJMhAQQAJ4wBBGAGFIAA4MR52ZfMDBvLwADwSBSAAOCktChLkjR4TJJSF09XaVGWBo9JcnOvAKBqMQYQAJx4+UbIyzdCaSkLdPxknrFNEgjAk1AAAoCTAUPHGWP9opu2ZtwfAI/EI2AAcMIyMADMgAQQAADAZEgAAcAJy8AAMAMSQAAAAJMhAQQAJ4wBBGAGJIAAAAAmQwIIAE4YAwjADEgAAQAATIYEEACcMAYQgBmQAAIAAJgMCSAAOGEMIAAzIAEEAAAwGRJAAHDCGEAAZkACCAAVSEtZoMwMm7FdVhgCgCegAAQAJwOGjtOAoeNUWpSlhpFBxnZpUZa7uwYAVYYCEECVW7RokVq2bCl/f3/5+/srLi5O//jHP4zjw4cPl8Vicfm0b9/e5RolJSWaMGGCAgMDVadOHSUkJOjUqVMubfLz85WYmCir1Sqr1arExEQVFBT8rL6XpX1evhE6fjLP2PbyjfhZ1wWAOwkFIIAqV79+fb3yyivas2eP9uzZoy5duujRRx/VoUOHjDY9e/ZUdna28Vm3bp3LNSZNmqRVq1YpNTVVW7duVVFRkeLj43XlyhWjzZAhQ2Sz2ZSenq709HTZbDYlJiZWyT0MGDpO0U1bG9uMAwTgSSwOh8Ph7k4A8HwBAQF67bXXNGLECA0fPlwFBQVavXp1hW3tdruCgoK0fPlyDRo0SJJ0+vRpRUZGat26dXr44YeVkZGhZs2aaceOHWrXrp0kaceOHYqLi9Phw4cVExNzQ/0qLCyU1WqV3W6Xv7+/sb+yZWAqaw8AdxMSQAC31JUrV5SamqoLFy4oLi7O2L9582YFBwfrvvvu08iRI5Wbm2sc27t3r0pLS9WjRw9jX3h4uGJjY7Vt2zZJ0vbt22W1Wo3iT5Lat28vq9VqtAEAVIxlYADcEgcOHFBcXJwuXrwoX19frVq1Ss2aNZMk9erVS7/73e8UFRWlY8eO6cUXX1SXLl20d+9e+fj4KCcnR97e3qpbt67LNUNCQpSTkyNJysnJUXBwcLnfDQ4ONtpUpKSkRCUlJcb3wsJCl+MsAwPADCgAAdwSMTExstlsKigoUFpamoYNG6YtW7aoWbNmxmNdSYqNjVXbtm0VFRWltWvXqn///pVe0+FwyGKxGN+dtytrc705c+Zo1qxZN3lXAOAZeAQM4Jbw9vZWkyZN1LZtW82ZM0etWrXSX//61wrbhoWFKSoqSpmZmZKk0NBQXbp0Sfn5+S7tcnNzFRISYrQ5c+ZMuWvl5eUZbSoybdo02e1243Py5EmX42UTPipKAgHAU1AAArgtHA6Hy6NXZ+fOndPJkycVFhYmSWrTpo28vLy0ceNGo012drYOHjyoDh06SJLi4uJkt9u1a9cuo83OnTtlt9uNNhXx8fExlqcp+wCA2TALGECVmz59unr16qXIyEidP39eqampeuWVV5Senq64uDjNnDlTAwYMUFhYmI4fP67p06fr22+/VUZGhvz8/CRJTz31lNasWaPk5GQFBARoypQpOnfunPbu3avq1atLujaW8PTp01qyZIkkadSoUYqKitKnn356w329flZvZbN/K2sPAHcjxgACqHJnzpxRYmKisrOzZbVa1bJlS6Wnp6t79+4qLi7WgQMHtGzZMhUUFCgsLEydO3fW+++/bxR/kjRv3jzVqFFDAwcOVHFxsbp27ark5GSj+JOkFStWaOLEicZs4YSEBM2fP/+23y8A3G1IAAGYGusAAjAjxgACAACYDI+AAcAJ6wACMAMSQAAAAJMhAQQAJ2Vp34/NBgaAuxkJIAAAgMmQAAKAE8YAAjADEkAAqEBaygJlZtiMbV4FB8CTUAACgJOydwGXFmWpYWSQsV1alOXurgFAleERMAA4KUv6vHwjlJlhU1rKAnn5Rri5VwBQtSgAAaACzP4F4MkoAAHACcvAADADxgACAACYDAkgADhhGRgAZkACCAAAYDIkgADghDGAAMyABBAAAMBkSAABwAljAAGYAQkgAACAyZAAAoATxgACMAMSQAAAAJMhAQQAJ4wBBGAGJIAAAAAmQwIIAE4YAwjADCgAAcBJWbEnSZkZNpfvAOApKAABwElpUZYkafCYJKUunq7SoiwNHpPk5l4BQNViDCAAOPHyjZCXb4TSUhbo+Mk8Y5skEIAnoQAEACcDho7TgKHjVFqUpYaRQcZ2WTIIAJ6AR8AA4KQs6fPyjTDGAHr5Rri5VwBQtSgAAaACzP4F4MkoAAHACcvAADADxgACAACYDAkgADjhVXAAzIAEEAAAwGRIAAHACWMAAZgBCSAAAIDJkAACgBPGAAIwAxJAAAAAk6EABFDlFi1apJYtW8rf31/+/v6Ki4vTP/7xD+O4w+HQzJkzFR4erlq1aqlTp046dOiQyzVKSko0YcIEBQYGqk6dOkpISNCpU6dc2uTn5ysxMVFWq1VWq1WJiYkqKCj4WX0vexVcRUkgAHgKCkAAVa5+/fp65ZVXtGfPHu3Zs0ddunTRo48+ahR5c+fO1RtvvKH58+dr9+7dCg0NVffu3XX+/HnjGpMmTdKqVauUmpqqrVu3qqioSPHx8bpy5YrRZsiQIbLZbEpPT1d6erpsNpsSExNv+/0CwN3G4nA4HO7uBADPFxAQoNdee01PPPGEwsPDNWnSJE2dOlXStbQvJCREr776qkaPHi273a6goCAtX75cgwYNkiSdPn1akZGRWrdunR5++GFlZGSoWbNm2rFjh9q1aydJ2rFjh+Li4nT48GHFxMTcUL8KCwtltVplt9vl7+//o7N/r28PAHcjEkAAt9SVK1eUmpqqCxcuKC4uTseOHVNOTo569OhhtPHx8VHHjh21bds2SdLevXtVWlrq0iY8PFyxsbFGm+3bt8tqtRrFnyS1b99eVqvVaFORkpISFRYWunwAwGyYBQzgljhw4IDi4uJ08eJF+fr6atWqVWrWrJlRnIWEhLi0DwkJ0YkTJyRJOTk58vb2Vt26dcu1ycnJMdoEBweX+93g4GCjTUXmzJmjWbNmVXqcdQABmAEFIIBbIiYmRjabTQUFBUpLS9OwYcO0ZcsW47jFYnFp73A4yu273vVtKmr/Y9eZNm2aJk+ebHwvLCxUZGSk8d15skdmho3JHwA8EgUggFvC29tbTZo0kSS1bdtWu3fv1l//+ldj3F9OTo7CwsKM9rm5uUYqGBoaqkuXLik/P98lBczNzVWHDh2MNmfOnCn3u3l5eeXSRWc+Pj7y8fGp9HhpUZYkafCYJKUunq7SoiwNHpN0o7cNAHcFxgACuC0cDodKSkrUqFEjhYaGauPGjcaxS5cuacuWLUZx16ZNG3l5ebm0yc7O1sGDB402cXFxstvt2rVrl9Fm586dstvtRpub4eUbIS/fCKWlLNDxk3nGNkkgAE9CAgigyk2fPl29evVSZGSkzp8/r9TUVG3evFnp6emyWCyaNGmSkpKSFB0drejoaCUlJal27doaMmSIJMlqtWrEiBF65plnVK9ePQUEBGjKlClq0aKFunXrJklq2rSpevbsqZEjR2rJkiWSpFGjRik+Pv6GZwBXxHkMYHTT1i5jAAHAU1AAAqhyZ86cUWJiorKzs2W1WtWyZUulp6ere/fukqTnnntOxcXFGjt2rPLz89WuXTtt2LBBfn5+xjXmzZunGjVqaODAgSouLlbXrl2VnJys6tWrG21WrFihiRMnGrOFExISNH/+/J/Vd14FB8AMWAcQgKmxDiAAMyIBBAAnLAMDwAyYBAIAAGAyJIAA4IQxgADMgAQQAADAZEgAAcAJYwABmAEJIAAAgMmQAAKAE8YAAjADEkAAAACTIQEEACeMAQRgBiSAAAAAJkMCCABOGAMIwAxIAAGgAmkpC5SZYTO2ywpDAPAEFIAA4GTA0HEaMHScSouy1DAyyNguLcpyd9cAoMrwCBgAnJQlfV6+EcrMsCktZYG8fCPc3CsAqFoUgADgpCzpGzwmSamLp6u0KEuDxyS5uVcAULV4BAwATrx8I+TlG6G0lAU6fjLP2GYMIABPQgEIAE7KxgBKUnTT1swABuCReAQMAE5YBgaAGZAAAgAAmAwJIAA44VVwAMyABBAAAMBkSAABwAljAAGYAQkgAACAyZAAAoATxgACMAMSQAAAAJMhAQQAJ4wBBGAGJIAAAAAmQwIIAE4YAwjADEgAAQAATIYEEACcMAYQgBmQAAJABdJSFigzw2ZslxWGAOAJKAABwMmAoeM0YOg4lRZlqWFkkLFdWpTl7q4BQJXhETAAOClL+rx8I5SZYVNaygJ5+Ua4uVcAULUoAAGgAsz+BeDJKAABwAnLwAAwA8YAAgAAmAwFIIAqN2fOHP3qV7+Sn5+fgoOD1bdvXx05csSlzfDhw2WxWFw+7du3d2lTUlKiCRMmKDAwUHXq1FFCQoJOnTrl0iY/P1+JiYmyWq2yWq1KTExUQUHBTff9+qVfyrZJ/wB4EgpAAFVuy5YtGjdunHbs2KGNGzfq8uXL6tGjhy5cuODSrmfPnsrOzjY+69atczk+adIkrVq1Sqmpqdq6dauKiooUHx+vK1euGG2GDBkim82m9PR0paeny2azKTEx8bbcJwDcrSwOh8Ph7k4A8Gx5eXkKDg7Wli1b9Jvf/EbStQSwoKBAq1evrvAcu92uoKAgLV++XIMGDZIknT59WpGRkVq3bp0efvhhZWRkqFmzZtqxY4fatWsnSdqxY4fi4uJ0+PBhxcTE/GjfCgsLZbVaZbfb5e/vb+yvbAxgZe0B4G5CAgjglrPb7ZKkgIAAl/2bN29WcHCw7rvvPo0cOVK5ubnGsb1796q0tFQ9evQw9oWHhys2Nlbbtm2TJG3fvl1Wq9Uo/iSpffv2slqtRpvrlZSUqLCw0OUDAGbDLGAAt5TD4dDkyZP161//WrGxscb+Xr166Xe/+52ioqJ07Ngxvfjii+rSpYv27t0rHx8f5eTkyNvbW3Xr1nW5XkhIiHJyciRJOTk5Cg4OLvebwcHBRpvrzZkzR7Nmzaq0v7wKDoAZUAACuKXGjx+vL774Qlu3bnXZX/ZYV5JiY2PVtm1bRUVFae3aterfv3+l13M4HLJYLMZ35+3K2jibNm2aJk+ebHwvLCxUZGTkDd8PAHgCCkAAt8yECRP0ySef6PPPP1f9+vV/sG1YWJiioqKUmZkpSQoNDdWlS5eUn5/vkgLm5uaqQ4cORpszZ86Uu1ZeXp5CQkIq/B0fHx/5+PhU2g/WAQRgBowBBFDlHA6Hxo8fr48++kifffaZGjVq9KPnnDt3TidPnlRYWJgkqU2bNvLy8tLGjRuNNtnZ2Tp48KBRAMbFxclut2vXrl1Gm507d8putxttAADlMQsYQJUbO3asVq5cqY8//thlJq7ValWtWrVUVFSkmTNnasCAAQoLC9Px48c1ffp0ffvtt8rIyJCfn58k6amnntKaNWuUnJysgIAATZkyRefOndPevXtVvXp1SdfGEp4+fVpLliyRJI0aNUpRUVH69NNPb6iv18/q/bHkj1nAADwBj4ABVLlFixZJkjp16uSyf+nSpRo+fLiqV6+uAwcOaNmyZSooKFBYWJg6d+6s999/3yj+JGnevHmqUaOGBg4cqOLiYnXt2lXJyclG8SdJK1as0MSJE43ZwgkJCZo/f/6tv0kAuIuRAAIwNdYBBGBGJIAA4KSs2JOkzAyby3cA8BQUgADgpLQoS5I0eEySUhdPV2lRlgaPSXJzrwCgajELGACcePlGyMs3QmkpC3T8ZJ6xTRIIwJNQAAKAkwFDx2nA0HEqLcpSw8ggY7ssGQQAT8AjYABwUpb0eflGGGMAvXwj3NwrAKhaFIAAUAHeAALAk1EAAoATXgUHwAwYAwgAAGAyJIAA4OT65C8tZQHJHwCPQwIIAABgMiSAAOCEMYAAzIAEEAAAwGRIAAHACWMAAZgBCSAAAIDJkAACgBPGAAIwAxJAAAAAkyEBBAAnjAEEYAYUgIAJlZaW6siRI8rLy5PdbpfValVQUJBiYmLk5eXl7u4BAG4xCkDAJPLy8pScnKy1a9dq165dKikpKdemZs2aeuCBB9S7d28NGzZMQUFBbuipezEGEIAZWBwOh8PdnQBw62RmZuqll17SqlWrdOnSJUlSYGCgYmJiFBAQIH9/f9ntduXn5+vw4cM6d+6cJMnb21v9+/fX7Nmz1aRJE3fewi1VWFgoq9Uqu90uf39/o9iTpMwMm6Kbtja+Dxg6rlx7ALgbkQACHmzChAl68803deXKFXXu3FlDhgxRp06d1KhRo0rP+eabb7Rp0yatXLlSH3zwgdLS0jRq1Cj97W9/u409d5/SoixJ0uAxSUpdPF2lRVkaPCbJzb0CgKpFAgh4sNq1a2vUqFF67rnnFB4e/pPPz8rK0ty5c/X3v/9dFy5cuAU9dD8SQABmRAEIeLCcnByFhobeMde5E1VW0FU2BpACEIAnoAAEYGqVJYCVTf6gAATgCVgIGgAAwGSYBAKYyNWrV7Vw4UKlpaUpOztbwcHBio2NVevWrdW6dWu1bNlSNWvWdHc33YplYACYAQUgYCIzZ87UX/7yF5WN/Pjqq6+0detWWSwWSVK1atUUHR2t1q1b6/7779ezzz7rzu4CAG4RxgACJtKwYUNlZ2drxYoV6tmzpwoKCnTgwAHZbDbZbDbt379fR48e1dWrV2WxWHTlyhV3d/mWYwwgADMiAQRM5LvvvlPPnj3129/+VpLk6+ur+vXrq1evXkab77//Xl988YX279/vrm4CAG4xCkDARFq0aGE87q1M7dq11b59e7Vv3/429erOwhhAAGbALGDARMaNG6fPPvtMZ8+edXdXAABuxBhAwGSGDh2qY8eO6aOPPlJISIi7u+N2jAEEYEYkgIDJzJo1S7m5uWrRooWmT5+u7du36+LFi+7uFgDgNiIBBEwkPT1d/fv3V0lJibEUjMViUbVq1RQTE6P777/fWAKmdevWCggIcHOPbz1eBQfAjJgEApjItGnTdPHiRT3yyCPq2bOn7Ha79u/fL5vNpoyMDH355ZdauXKlpGuF4eXLl93cYwDArUABCJjIkSNH1KpVK61Zs6bcsaKiIqMY3Ldvn2mXgbk++UtLWcDsXwAehzGAgImEhoaqadOmFR7z9fXVgw8+qHHjxunvf/+7du/efdO/M2fOHP3qV7+Sn5+fgoOD1bdvXx05csSljcPh0MyZMxUeHq5atWqpU6dOOnTokEubkpISTZgwQYGBgapTp44SEhJ06tQplzb5+flKTEyU1WqV1WpVYmKiCgoKbrrvAGAGFICAifTr1+9nFXY3asuWLRo3bpx27NihjRs36vLly+rRo4cuXLhgtJk7d67eeOMNzZ8/X7t371ZoaKi6d++u8+fPG20mTZqkVatWKTU1VVu3blVRUZHi4+Nd3lAyZMgQ2Ww2paenKz09XTabTYmJiTfd9wFDx5Ub91eWBAKAp2ASCGAidrtdrVu31qhRozRt2rTb9rt5eXkKDg7Wli1b9Jvf/EYOh0Ph4eGaNGmSpk6dKula2hcSEqJXX31Vo0ePlt1uV1BQkJYvX65BgwZJkk6fPq3IyEitW7dODz/8sDIyMtSsWTPt2LFD7dq1kyTt2LFDcXFxOnz4sGJiYn60b5UtAyNJmRk2RTdtbXxnEggAT0ECCJjIgAEDdP/99+uFF17Q448/Xu6x7K1it9slyZhVfOzYMeXk5KhHjx5GGx8fH3Xs2FHbtm2TJO3du1elpaUubcLDwxUbG2u02b59u6xWq1H8SVL79u1ltVqNNj9VaVGWSouyNGDoODWMDDK2GQcIwJMwCQQwkc8++8zYTklJ0YoVK9SkSRO1bdtW999/v7H8S7169arsNx0OhyZPnqxf//rXio2NlSTl5ORIUrmFqENCQnTixAmjjbe3t+rWrVuuTdn5OTk5Cg4OLvebwcHBRpvrlZSUqKSkxPheWFjoctzLN0LStckgx0/mKbppa14FB8DjUAACJnLs2DHZbDbZbDZjxm9mZqYyMzP13nvvGe8JjoiI0P3336+PP/74Z//m+PHj9cUXX2jr1q3ljl3/XmKHw/Gj7yq+vk1F7X/oOnPmzNGsWbMqvb7zu4Cjm7Z2GQ8IAJ6CAhAwkaioKEVFRenRRx819hUWFhrFYFlheOjQoQqXivmpJkyYoE8++USff/656tevb+wPDQ2VdC3BCwsLM/bn5uYaqWBoaKguXbqk/Px8lxQwNzdXHTp0MNqcOXOm3O/m5eVV+pq7adOmafLkycb3wsJCRUZGGt9ZBgaAGTAGEDA5f39/PfTQQ5owYYLefvtt7dmzR0VFRfriiy9u+poOh0Pjx4/XRx99pM8++0yNGjVyOd6oUSOFhoZq48aNxr5Lly5py5YtRnHXpk0beXl5ubTJzs7WwYMHjTZxcXGy2+3atWuX0Wbnzp2y2+1Gm+v5+PjI39/f5QMAZsMsYMBEtm/frpYtW6pOnTq39HfGjh2rlStX6uOPP3aZiWu1WlWrVi1J0quvvqo5c+Zo6dKlio6OVlJSkjZv3qwjR47Iz89PkvTUU09pzZo1Sk5OVkBAgKZMmaJz585p7969ql69uiSpV69eOn36tJYsWSJJGjVqlKKiovTpp5/eUF95FRwAM+IRMGAiDz74oKpVq6bGjRurdevWLh/nR7GjRo1SmzZtNHr06Jv6nUWLFkmSOnXq5LJ/6dKlGj58uCTpueeeU3FxscaOHav8/Hy1a9dOGzZsMIo/SZo3b55q1KihgQMHqri4WF27dlVycrJR/EnSihUrNHHiRGO2cEJCgubPn39T/QYAsyABBEzkscce0/79+3XkyBFjMeWyyRKBgYFq3bq1GjdurA8//FA1atRQdna2O7t7W1S2DuD1yV9l7QHgbkQCCJjIihUrJF1bCuXAgQPGxA+bzabdu3dr48aN+uc//ymHw+EyMQIA4FlIAAFIurZY89KlS/X888+rRYsWWrZsme677z53d+uWYwwgADNiFjAASdcmaEyaNEmpqanavXu3Dhw44O4uAQBuERJAAOU0a9ZMtWrV0t69e93dlVuOMYAAzIgEEEA59957rzIyMtzdDQDALcIkEMBEnn76aeOdv82bN1eNGhX/K+Drr7823tZhNs6vgiv7zruAAXgaCkDARP72t78Zy754eXmpefPmRkEYGxsrHx8fpaSk6KuvvjLW8gMAeB4KQMBEPvroI+3bt6/cp6woLNOkSROdO3dO6enp+uUvf6ng4GA39fj2413AAMyASSCAiZ09e7ZcMXj06FFdvXrVpSgMCwtTmzZt9PHHH7uxt7dGZZNAJCkzw6bopq2N7ywDA8BTUAACcHHhwgXt37/fpSg8dOiQSktLjbeHeJLKCrrUxdMlSYPHJLlsUwAC8AQ8Agbgok6dOurQoYM6dOhg7Lt8+bIOHTrkxl7dPmUJoJdvhDIzbEpLWSAv3wg39woAqhYFIIAfVaNGDbVq1crd3bitmP0LwJNRAAIe7PDhw/rFL35xx1znbsAyMADMgIWgAQ8WGxurxx57TAcPHryp8202mwYPHqwWLVpUcc8AAO5EAgh4sBdffFH/5//8H6WmpqpVq1Z67LHH1LFjR7Vq1UpeXl7l2peUlGjfvn3atGmTVq5cqS+//FJ16tTRSy+95IbeuwfLwAAwAwpAwIPNmDFDTz31lP7yl79o2bJlevbZZ2WxWOTl5aWGDRuqbt268vPzU2Fhob777judOHFCly9flsPhkNVq1dNPP61p06YpKCjI3bcCAKhCLAMDmERxcbE++OADrVmzRv/5z3+Uk5NTrk1oaKgeeugh9e7dWwMHDlTNmjXd0NPbq7JlXSobA8gyMAA8AQkgYBK1atXSsGHDNGzYMElSXl6ecnNzZbfbZbVaFRwcTNIHACZBAgjA1Cp7E0hls39JAAF4AmYBAwAAmAyPgAHACesAAjADEkAAAACTIQEEACesAwjADEgAAQAATIYEEACcMAYQgBmQAAImkpSUpOzsbHd3AwDgZqwDCJhItWrVVKNGDfXu3VsjR45Ur169ZLFY3N0tt2IdQABmRAIImMiMGTMUERGhjz/+WH369FGDBg00c+ZMffvtt+7u2h0nLWWBMjNsxnZZMQgAnoACEDCRGTNm6JtvvtG6devUr18/5ebmavbs2br33nv1yCOPaNWqVbpy5Yq7u+lWA4aO04Ch41RalKWGkUHGdmlRlru7BgBVhkfAgInl5eVp6dKlevvtt5WZmSmLxaKgoCD94Q9/0IgRI9SkSRN3d/GWq+wRsCRlZtgU3bS18X3A0HE8AgbgEUgAARMLCgrSc889pyNHjmjz5s0aOHCgcnNzNXfuXMXExKhr165atWqVu7vpFgOGjjOKv7JUEAA8BcvAANCxY8e0YcMG/fvf/5YkORwOhYeHa9OmTdq8ebPatm2rtLQ01a9f3809vfVYBgaAGZAAAiZVWlqqDz74QN27d1d0dLSSkpJUXFysp59+Wl9++aVOnTqlrVu3qlevXtq9e7cmTJjg7i4DAKoIYwABk8nIyNDf//53LV++XOfOnZPD4VD79u01ZswYDRw4UDVr1ix3Tvv27XX48GEVFBTc/g7fYiwDA8CMeAQMmMhDDz2kbdu2yeFwyN/fX2PGjNGYMWPUokWLHzyvefPm2r17923qJQDgViMBBEykWrVqatOmjUaPHq0hQ4aodu3aN3Te9u3b9dVXX2nYsGG3uIe3X2WJXmVJIAkgAE9AAgiYyK5du9S2bduffF5cXJzi4uJuQY8AAO7AJBDARG6m+LsZn3/+ufr06aPw8HBZLBatXr3a5fjw4cNlsVhcPu3bt3dpU1JSogkTJigwMFB16tRRQkKCTp065dImPz9fiYmJslqtslqtSkxM/NnjFMve+uE8G5hlYAB4GgpAAFXuwoULatWqlebPn19pm549eyo7O9v4rFu3zuX4pEmTtGrVKqWmpmrr1q0qKipSfHy8y5tKhgwZIpvNpvT0dKWnp8tmsykxMfGW3RcAeAoeAQOocr169VKvXr1+sI2Pj49CQ0MrPGa32/X2229r+fLl6tatmyQpJSVFkZGR+uc//6mHH35YGRkZSk9P144dO9SuXTtJ0ltvvaW4uDgdOXJEMTExN9V31gEEYAYkgADcYvPmzQoODtZ9992nkSNHKjc31zi2d+9elZaWqkePHsa+8PBwxcbGatu2bZKuTUyxWq1G8SddW67GarUabSpSUlKiwsJClw8AmA0JIIDbrlevXvrd736nqKgoHTt2TC+++KK6dOmivXv3ysfHRzk5OfL29lbdunVdzgsJCVFOTo4kKScnR8HBweWuHRwcbLSpyJw5czRr1qxKj1+f/DmPBwQAT0EBCOC2GzRokLEdGxurtm3bKioqSmvXrlX//v0rPc/hcMhisRjfnbcra3O9adOmafLkycb3wsJCRUZG/tRbAIC7GgUgALcLCwtTVFSUMjMzJUmhoaG6dOmS8vPzXVLA3NxcdejQwWhz5syZctfKy8tTSEhIpb/l4+MjHx+fSo8zBhCAGTAGEIDbnTt3TidPnlRYWJgkqU2bNvLy8tLGjRuNNtnZ2Tp48KBRAMbFxclut2vXrl1Gm507d8putxttbkbZY19JysywGdsA4ElIAAFUuaKiIh09etT4fuzYMdlsNgUEBCggIEAzZ87UgAEDFBYWpuPHj2v69OkKDAxUv379JElWq1UjRozQM888o3r16ikgIEBTpkxRixYtjFnBTZs2Vc+ePTVy5EgtWbJEkjRq1CjFx8ff9AxgSSotypIkDR6TpNTF01ValKXBY5Ju+noAcCfiVXAAqtzmzZvVuXPncvuHDRumRYsWqW/fvtq3b58KCgoUFhamzp07689//rPLWLyLFy/q2Wef1cqVK1VcXKyuXbtq4cKFLm2+++47TZw4UZ988okkKSEhQfPnz9c999xzw329/tVuzolfZoZN0U1bG995FRwAT0EBCMDUKivoUhdPl/T/k8CybQpAAJ6AR8AA4KQsAfTyjTDGAHr5Rri5VwBQtSgAAaACzP4F4MkoAAHACcvAADADloEBAAAwGRJAAHDCq+AAmAEJIAAAgMmQAAKAE8YAAjADEkAAAACTIQEEACeMAQRgBiSAAAAAJkMCCABOGAMIwAxIAAEAAEyGBBAAnDAGEIAZkAACAACYDAkgADhhDCAAM6AABAAnZcWeJGVm2Fy+A4CnoAAEACelRVmSpMFjkpS6eLpKi7I0eEySm3sFAFWLMYAA4MTLN0JevhFKS1mg4yfzjG2SQACehAIQAJwMGDrOGOsX3bQ14/4AeCQeAQOAE5aBAWAGJIAAAAAmQwIIAE5YBgaAGZAAAgAAmAwJIAA4YQwgADMgAQQAADAZEkAAcMIYQABmQAIIAABgMiSAAOCEMYAAzIAEEAAAwGRIAAHACWMAAZgBCSAAAIDJkAACgBPGAAIwAxJAAKhAWsoCZWbYjO2ywhAAPAEFIAA4GTB0nAYMHafSoiw1jAwytkuLstzdNQCoMjwCBgAnZUmfl2+EMjNsSktZIC/fCDf3CgCqFgUgADgpS/oGj0lS6uLpKi3K0uAxSW7uFQBULR4BA6hyn3/+ufr06aPw8HBZLBatXr3a5bjD4dDMmTMVHh6uWrVqqVOnTjp06JBLm5KSEk2YMEGBgYGqU6eOEhISdOrUKZc2+fn5SkxMlNVqldVqVWJiogoKCn5W3718I+TlG6G0lAU6fjLP2GYMIABPQgEIoMpduHBBrVq10vz58ys8PnfuXL3xxhuaP3++du/erdDQUHXv3l3nz5832kyaNEmrVq1Samqqtm7dqqKiIsXHx+vKlStGmyFDhshmsyk9PV3p6emy2WxKTEz8WX0vGwMoSdFNWzMDGIBHsjgcDoe7OwHAc1ksFq1atUp9+/aVdC39Cw8P16RJkzR16lRJ19K+kJAQvfrqqxo9erTsdruCgoK0fPlyDRo0SJJ0+vRpRUZGat26dXr44YeVkZGhZs2aaceOHWrXrp0kaceOHYqLi9Phw4cVExNzQ/0rLCyU1WqV3W6Xv7//jy4AfX17ALgbkQACuK2OHTumnJwc9ejRw9jn4+Ojjh07atu2bZKkvXv3qrS01KVNeHi4YmNjjTbbt2+X1Wo1ij9Jat++vaxWq9EGAFAxJoEAuK1ycnIkSSEhIS77Q0JCdOLECaONt7e36tatW65N2fk5OTkKDg4ud/3g4GCjTUVKSkpUUlJifC8sLHQ5zqvgAJgBCSAAt7BYLC7fHQ5HuX3Xu75NRe1/7Dpz5swxJo1YrVZFRkb+xJ4DwN2PAhDAbRUaGipJ5VK63NxcIxUMDQ3VpUuXlJ+f/4Ntzpw5U+76eXl55dJFZ9OmTZPdbjc+J0+edDl+/evfyrZJ/wB4EgpAALdVo0aNFBoaqo0bNxr7Ll26pC1btqhDhw6SpDZt2sjLy8ulTXZ2tg4ePGi0iYuLk91u165du4w2O3fulN1uN9pUxMfHR/7+/i4fADAbxgACqHJFRUU6evSo8f3YsWOy2WwKCAhQgwYNNGnSJCUlJSk6OlrR0dFKSkpS7dq1NWTIEEmS1WrViBEj9Mwzz6hevXoKCAjQlClT1KJFC3Xr1k2S1LRpU/Xs2VMjR47UkiVLJEmjRo1SfHz8Dc8ArghjAAGYAQUggCq3Z88ede7c2fg+efJkSdKwYcOUnJys5557TsXFxRo7dqzy8/PVrl07bdiwQX5+fsY58+bNU40aNTRw4EAVFxera9euSk5OVvXq1Y02K1as0MSJE43ZwgkJCZWuPQgA+P9YBxCAqbEOIAAzYgwgAACAyfAIGACcMAYQgBmQAAIAAJgMCSAAOLk++XNeExAAPAUJIABUIC1lgTIzbMZ2WWEIAJ6AAhAAnJS99aO0KEsNI4OM7dKiLHd3DQCqDI+AAcBJWdLn5RuhzAyb0lIWyMs3ws29AoCqRQEIABVg9i8AT0YBCABOWAYGgBkwBhAAAMBkSAABwAnLwAAwAxJAAAAAkyEBBAAnjAEEYAYkgAAAACZDAggAThgDCMAMSAABAABMhgQQAJwwBhCAGZAAAgAAmAwJIAA4YQwgADMgAQQAADAZEkAAcMIYQABmQAIIAABgMiSAAOCEMYAAzIAEEAAqkJayQJkZNmO7rDAEAE9AAQgATgYMHacBQ8eptChLDSODjO3Soix3dw0AqgyPgAHASVnS5+UbocwMm9JSFsjLN8LNvQKAqkUBCAAVYPYvAE9GAQgATlgGBoAZMAYQAADAZEgAAcAJy8AAMAMSQAAAAJMhAQQAJ4wBBGAGJIAAAAAmQwIIAE4YAwjADEgAAQAATIYEEACcMAYQgBmQAAIAAJgMBSAAt5g5c6YsFovLJzQ01DjucDg0c+ZMhYeHq1atWurUqZMOHTrkco2SkhJNmDBBgYGBqlOnjhISEnTq1Kmf1a/rx/2VbZP+AfAkFIAA3KZ58+bKzs42PgcOHDCOzZ07V2+88Ybmz5+v3bt3KzQ0VN27d9f58+eNNpMmTdKqVauUmpqqrVu3qqioSPHx8bpy5Yo7bgcA7hqMAQTgNjVq1HBJ/co4HA7913/9l55//nn1799fkvTuu+8qJCREK1eu1OjRo2W32/X2229r+fLl6tatmyQpJSVFkZGR+uc//6mHH374pvrEGEAAZkACCMBtMjMzFR4erkaNGmnw4MH65ptvJEnHjh1TTk6OevToYbT18fFRx44dtW3bNknS3r17VVpa6tImPDxcsbGxRpuKlJSUqLCw0OXjrOwRsCRlZtiMbQDwJBSAANyiXbt2WrZsmdavX6+33npLOTk56tChg86dO6ecnBxJUkhIiMs5ISEhxrGcnBx5e3urbt26lbapyJw5c2S1Wo1PZGSky/HSoiyVFmVpwNBxahgZZGyT/gHwJBSAANyiV69eGjBggFq0aKFu3bpp7dq1kq496i1jsVhcznE4HOX2Xe/H2kybNk12u934nDx50uW4l2+EvHwjlJayQMdP5hnbJIEAPAkFIIA7Qp06ddSiRQtlZmYa4wKvT/Jyc3ONVDA0NFSXLl1Sfn5+pW0q4uPjI39/f5ePM+e0L7ppa5I/AB6JAhDAHaGkpEQZGRkKCwtTo0aNFBoaqo0bNxrHL126pC1btqhDhw6SpDZt2sjLy8ulTXZ2tg4ePGi0uRksAwPADJgFDMAtpkyZoj59+qhBgwbKzc3Vyy+/rMLCQg0bNkwWi0WTJk1SUlKSoqOjFR0draSkJNWuXVtDhgyRJFmtVo0YMULPPPOM6tWrp4CAAE2ZMsV4pAwAqBwFIAC3OHXqlH7/+9/r7NmzCgoKUvv27bVjxw5FRUVJkp577jkVFxdr7Nixys/PV7t27bRhwwb5+fkZ15g3b55q1KihgQMHqri4WF27dlVycrKqV69+0/1iGRgAZmBxOBwOd3cCANylsLBQVqtVdrvdZTxgZQVgZe0B4G5CAggATq4v/JzHAwKAp2ASCAAAgMmQAAKAE8YAAjADEkAAAACTIQEEACeMAQRgBiSAAAAAJkMCCABOGAMIwAxIAAEAAEyGBBAAnDAGEIAZkAACAACYDAkgADhhDCAAM6AABAAnZcWeJGVm2Fy+A4CnoAAEACelRVmSpMFjkpS6eLpKi7I0eEySm3sFAFWLMYAA4MTLN0JevhFKS1mg4yfzjG2SQACehAIQAJwMGDrOGOsX3bQ14/4AeCQeAQOAE5aBAWAGJIAAAAAmQwIIAE5YBgaAGZAAAgAAmAwJIAA4YQwgADMgAQQAADAZEkAAcMIYQABmQAIIAABgMiSAAOCEMYAAzIAEEAAAwGRIAAHACWMAAZgBCSAAAIDJkAACgBPGAAIwAxJAAKhAWsoCZWbYjO2ywhAAPAEFIAA4GTB0nAYMHafSoiw1jAwytkuLstzdNQCoMjwCBgAnZUmfl2+EMjNsSktZIC/fCDf3CgCqFgUgADgpS/oGj0lS6uLpKi3K0uAxSW7uFQBULR4BA4ATL98IeflGKC1lgY6fzDO2GQMIwJNQAAKAk7IxgJIU3bQ1M4ABeCQeAQOAE5aBAWAGJIAAAAAmQwEI4K63cOFCNWrUSDVr1lSbNm3073//+6avVfYIuKIkEAA8BQUggLva+++/r0mTJun555/Xvn379NBDD6lXr1769ttv3d01ALhjWRwOh8PdnQCAm9WuXTv98pe/1KJFi4x9TZs2Vd++fTVnzpwfPb+wsFBWq1V2u13+/v7lkr+y7craA8DdiAQQwF3r0qVL2rt3r3r06OGyv0ePHtq2bVuF55SUlKiwsNDlAwBmwyxgAHets2fP6sqVKwoJCXHZHxISopycnArPmTNnjmbNmlXpNcvSvh9LAgHgbkYCCOCuZ7FYXL47HI5y+8pMmzZNdrvd+Jw8efJ2dBEA7igkgADuWoGBgapevXq5tC83N7dcKljGx8dHPj4+P3pt57SP5A+Ap6EABHDX8vb2Vps2bbRx40b169fP2L9x40Y9+uijN3SNsnlwNzoWsKwd8+cA3M0oAAHc1SZPnqzExES1bdtWcXFxevPNN/Xtt99qzJgxN3T++fPnJUmRkZE/6XfPnz8vq9X6k/sLAHcCCkAAd7VBgwbp3Llzmj17trKzsxUbG6t169YpKirqhs4PDw/XyZMn5efnp/PnzysyMlInT56Uv7+/CgsLXb5L15K/8+fPKzw8/FbeFgDcUqwDCAD/z/Vr/LHmHwBPxSxgAAAAk6EABAAAMBkKQAD4f3x8fDRjxgxjmZjrvwOAp2AMIAAAgMmQAAIAAJgMBSAAAIDJUAACAACYDAUgAACAyVAAAjC9mTNnymKxuHzq1atnHHc4HJo5c6bCw8NVq1YtderUSYcOHXJjjwHg56EABGB6Bw8elCS9/vrr2rJli5588kldvHhR3377rSRp7ty5euONNzR//nzt3r1boaGh6t69u/EeYQC427AMDADTi4iIUElJic6ePWvsa9q0qfr27aukpCSFh4dr0qRJmjp1qiSppKREISEhevXVVzV69Gh3dRsAbhoJIABTu3TpkrKzs1VUVKTw8HA1atRIgwcPVrt27bRt2zYdO3ZMOTk56tGjh3GOj4+POnbsqG3btrmx5wBw8ygAAZja2bNn5XA49OKLL2r9+vV66623lJOTo7S0NGVlZSknJ0eSFBIS4nJeSEiIcQwA7jY13N0BALgTdOnSRS1atFCLFi0UFxen0NBQFRYWGsctFotLe4fDUW4fANwtSAABmFpgYKCqV6/ukubVqVNHdevWVY0aNRQaGipJ5dK+3NzccqkgANwtKAABmJq3t7fatGmjjRs3GvtKSkqUnZ2txo0bq1GjRgoNDXU5funSJW3ZskUdOnRwR5cB4GfjETAA0wsKCtKbb76pqKgoRUVFafr06bp8+bJeeeUVWSwWTZo0SUlJSYqOjlZ0dLSSkpJUu3ZtDRkyxN1dB4CbQgEIwPR8fX3l6+urP/3pT5Kke+65R++++64efPBBSdJzzz2n4uJijR07Vvn5+WrXrp02bNggPz8/d3YbAG4a6wACAACYDGMAAQAATIYCEAAAwGQoAAEAAEyGAhAAAMBkKAABAABMhgIQAADAZCgAAQAATIYCEAAAwGQoAAEAAEyGAhCAqcyaNUvVq1fXl19+6e6ulJOdna1atWpp3Lhx7u4KAA/Hq+AAmMaZM2fUpEkT9e7dW6mpqe7uToWefvppLVy4UAcPHlRMTIy7uwPAQ5EAAjCNpKQkFRUVadq0ae7uSqWee+45Xb16VS+99JK7uwLAg5EAAjCF77//XuHh4YqKitL+/fvd3Z0f1K1bN33++ec6efKkQkJC3N0dAB6IBBDAHWvQoEGyWCyaOnVquWOHDx9W7dq15e/vr2+++eZHr/Xhhx/Kbrfrscceq7TNqlWrZLFYNGHChAqPP/bYY7JYLPrPf/5j7Dt+/LgsFou6dOmigoICPfPMM2rUqJFq1aql1q1b6x//+IfRduXKlerQoYP8/PwUFRWlF198UZcvXy73O0OGDFFpaamSk5N/9L4A4GZQAAK4Yy1evFj169fX66+/rs2bNxv7S0tLNWTIEBUXF+u///u/de+99/7otdasWSNJ6tSpU6Vt9u3bJ0m6//77Kzxus9lksVjUsmVLl32S5O/vr9atW2v16tVq166d7rvvPu3fv1/9+vXT0aNHNXToUI0aNUqBgYHq1KmTTp8+rZdfflkLFy4s9ztlfVy7du2P3hcA3AwKQAB3rLp162rZsmWSpMcff1wFBQWSpBdeeEH79u3Tb3/7Ww0fPvyGrrV161Z5eXmpVatWlbb5oQLw4sWLOnLkiBo3biw/Pz9jf1kB+PHHH+vJJ59UZmamUlNTZbPZ9Mgjj6ikpEQ9e/bU119/ra+//lqffPKJPv30U61cuVKSlJaWVu637r33XgUGBmrXrl0qKSm5ofsDgJ+CAhDAHa1z58565plndPLkSY0dO1abN2/W66+/rvDwcC1ZsuSGrpGbm6ucnBw1bNhQPj4+lbbbt2+fvLy81Lx583LHDhw4oCtXrqh169Yu+8vGEw4ZMkQvvPCCqlW79q9Vi8Winj17SpIKCgqUlpbmMp6v7Fh2dnaFfYmJiVFJSYmOHDlyQ/cIAD8FBSCAO97LL7+s+++/X++9954effRRORwOvfvuuwoICLih83NzcyVdSxQrk5eXp6ysLDVv3lze3t7ljpclfdcXgGX7X3jhhXLn2O12SdKIESMUHh7ucqwszQwODq6wP2X3lpeXV2mfAeBmUQACuON5e3sbEyIKCws1fvx4devW7YbPLyvEnB/dXu9Gxv9JrgWg3W7X8ePH1aRJEzVt2rTcOWXpYEJCQrljBw4ckCTFxsZW+Hv+/v4ufQeAqkQBCOCu8P777xvb+/bt09WrV2/4XKvVKula8ViZmykAywq8tm3bVnpOtWrVKrxmZYlimbLCr6zvAFCVKAAB3PH+/e9/65VXXlF4eLi6dOmirVu36pVXXrnh88ses3733XeVtikrACtK5AoKCrR7924FBgYqIiLC2F9WxFVU4J0/f15ff/21YmJiVLt27XLHf6wAzM/PlyQFBQVV2mcAuFkUgADuaIWFhUpMTJTD4dDSpUuVkpKievXqaebMmdqzZ88NXSM4OFihoaE6ceKEiouLK2xTVgBWNEkkOTlZpaWllY7/q6gA3L9/vxwOR6WJ4v79+1WtWjWXJWWcHT58WDVr1uR1cABuCQpAAHe0sWPH6sSJE5owYYJ69OihsLAwvfXWWyotLdVjjz2m77///oau89BDD+ny5ctGoeesqKhIR48elSSlpKTI+QVJn376qaZPny5Jaty4sct5ZY+AK0rxfijhu3Dhgo4eParo6OgK08Gvv/5a586d0wMPPPCDs5YB4GZRAAK4Y6WmpmrFihVq3ry5Xn31VWN/v3799Ic//EFfffWVJk+efEPX6t27tyRp06ZN5Y7t379fV69eVZMmTbRo0SI1bdpUvXv3VtOmTZWQkGA8Fv6f//kfPfnkk5Kky5cv69ChQ4qIiKjwMe0PpYNffPGFrl69Wunj37JFrx955JEbujcA+KkoAAHckU6ePKmnnnpK3t7eSklJUc2aNV2Ol70BZMmSJfrkk09+9HoDBw6U1Wo1FmB2VpYKDh8+XIsWLdLFixf1r3/9Sz4+Pnr//fe1bNky1a9fX9WrV9cvf/lLSdce0ZaUlFRaxP1QAvhDyaF07ZVxXl5eN7zINQD8VBaH87MOAPBgf/zjH/Vf//Vf2rt3r1HISdfW6XvnnXe0du1at6dup06dUlRUlH7729+6zHwGgKpEAgjANKZNmyZfX99yM4jLEkDnotBdXnvtNVWrVk2zZ892d1cAeDAKQACmERwcrGeffVZpaWn68ssvJUmlpaU6dOiQwsLCFBoa6tb+ZWdn680339TIkSOZ/QvgluIRMABTs9lsuv/++9W7d2+tWbPG3d0BgNuCAhAAAMBkeAQMAABgMv8XTys+KH1o2A4AAAAASUVORK5CYII=' width=640.0/>\n",
       "            </div>\n",
       "        "
      ],
      "text/plain": [
       "Canvas(toolbar=Toolbar(toolitems=[('Home', 'Reset original view', 'home', 'home'), ('Back', 'Back to previous …"
      ]
     },
     "metadata": {},
     "output_type": "display_data"
    }
   ],
   "source": [
    "probegroup = read_probeinterface('np_json_files/np1.json')\n",
    "probe = probegroup.probes[0]\n",
    "recordings['raw'] = recordings['raw'].set_probe(probe)\n",
    "\n",
    "plot_probe(probe)"
   ]
  },
  {
   "cell_type": "markdown",
   "id": "15f3301e-2cda-48f2-b331-a7e36c982970",
   "metadata": {},
   "source": [
    "## Apply preprocessing"
   ]
  },
  {
   "cell_type": "markdown",
   "id": "cb907574-2d68-4ab6-b9e1-d837051044f3",
   "metadata": {},
   "source": [
    "### Bandpass filtering"
   ]
  },
  {
   "cell_type": "code",
   "execution_count": 8,
   "id": "e88d3979-6e1e-4552-a2e4-dcea2c3bab10",
   "metadata": {
    "tags": []
   },
   "outputs": [],
   "source": [
    "recordings['bandpass'] = si.bandpass_filter(recordings['raw'], freq_min=300, freq_max=9000)"
   ]
  },
  {
   "cell_type": "markdown",
   "id": "fe37ffcf-f152-4291-b348-8538893e367a",
   "metadata": {},
   "source": [
    "### Common median reference"
   ]
  },
  {
   "cell_type": "code",
   "execution_count": 9,
   "id": "fcc03051-28a7-486e-95d7-5b9400f63964",
   "metadata": {
    "tags": []
   },
   "outputs": [],
   "source": [
    "recordings['common_median'] = si.common_reference(recordings['bandpass'], reference='global', operator='median')"
   ]
  },
  {
   "cell_type": "markdown",
   "id": "0a69d11b-36e0-4e81-a007-4c860412efa8",
   "metadata": {},
   "source": [
    "## Plot data"
   ]
  },
  {
   "cell_type": "code",
   "execution_count": 10,
   "id": "0aa3a91c-0288-445f-b3da-c565359e976d",
   "metadata": {
    "tags": []
   },
   "outputs": [
    {
     "data": {
      "application/vnd.jupyter.widget-view+json": {
       "model_id": "56ce54ba68d344b983d7fc855c4d8d8b",
       "version_major": 2,
       "version_minor": 0
      },
      "text/plain": [
       "AppLayout(children=(TimeSlider(children=(Dropdown(description='segment', options=(0,), value=0), Button(icon='…"
      ]
     },
     "metadata": {},
     "output_type": "display_data"
    },
    {
     "data": {
      "text/plain": [
       "<spikeinterface.widgets.traces.TracesWidget at 0x7f465b1e8880>"
      ]
     },
     "execution_count": 10,
     "metadata": {},
     "output_type": "execute_result"
    }
   ],
   "source": [
    "si.plot_traces(recordings, mode='map', time_range=[0, 10], backend=backend)"
   ]
  },
  {
   "cell_type": "markdown",
   "id": "19b2c48a-8387-4998-bcbf-883f47e69f05",
   "metadata": {},
   "source": [
    "## Save preprocessed recording"
   ]
  },
  {
   "cell_type": "code",
   "execution_count": 26,
   "id": "6edfcc21-ceab-4db7-b30f-2891e842fb17",
   "metadata": {
    "tags": []
   },
   "outputs": [
    {
     "name": "stdout",
     "output_type": "stream",
     "text": [
      "write_binary_recording with n_jobs = 36 and chunk_size = 32000\n"
     ]
    },
    {
     "data": {
      "application/vnd.jupyter.widget-view+json": {
       "model_id": "9c2b92071f98427995536a7dad38f4e9",
       "version_major": 2,
       "version_minor": 0
      },
      "text/plain": [
       "write_binary_recording:   0%|          | 0/8037 [00:00<?, ?it/s]"
      ]
     },
     "metadata": {},
     "output_type": "display_data"
    },
    {
     "name": "stderr",
     "output_type": "stream",
     "text": [
      "\n",
      "KeyboardInterrupt\n",
      "\n"
     ]
    }
   ],
   "source": [
    "recordings['common_median'].save(folder=base_folder / \"preprocessed_recording\", **job_kwargs)"
   ]
  },
  {
   "cell_type": "markdown",
   "id": "c50faf69-a7e7-4853-b471-7f1c36d3d2ef",
   "metadata": {},
   "source": [
    "## Send to sorting"
   ]
  },
  {
   "cell_type": "markdown",
   "id": "4bb7411b-1337-474b-8919-84f6f8d8e118",
   "metadata": {},
   "source": [
    "### Define parameters"
   ]
  },
  {
   "cell_type": "code",
   "execution_count": 11,
   "id": "9ffc04b0-e347-4f35-bfb2-903ef27cbb5f",
   "metadata": {
    "tags": []
   },
   "outputs": [
    {
     "name": "stdout",
     "output_type": "stream",
     "text": [
      "List of available spike sorters (in Singularity containers):\n",
      "['kilosort-compiled-base.sif', 'kilosort3-compiled-base.sif', 'mountainsort5-base.sif', 'hdsort-compiled-base.sif', 'kilosort2-compiled-base.sif', 'ironclust-compiled-base.sif', 'kilosort2_5-compiled-base.sif']\n"
     ]
    }
   ],
   "source": [
    "print(f\"List of available spike sorters (in Singularity containers):\\n{os.listdir(Path.home() / 'RANCZLAB-NAS' / 'spikesorter_images')}\")"
   ]
  },
  {
   "cell_type": "code",
   "execution_count": 14,
   "id": "876625c3-a495-434e-a250-f8bce8a0a662",
   "metadata": {},
   "outputs": [],
   "source": [
    "sorter_name = 'kilosort2'\n",
    "sorter_path = Path.home() / 'RANCZLAB-NAS' / 'spikesorter_images' / 'kilosort2-compiled-base.sif'"
   ]
  },
  {
   "cell_type": "markdown",
   "id": "5d4d4eac-d0e3-4e3a-85dd-2ee3a46e0843",
   "metadata": {},
   "source": [
    "### Launch"
   ]
  },
  {
   "cell_type": "code",
   "execution_count": 15,
   "id": "a7800093-9198-4a5f-b4b1-4210cef97115",
   "metadata": {},
   "outputs": [
    {
     "name": "stdout",
     "output_type": "stream",
     "text": [
      "Starting container\n",
      "Installing spikeinterface from sources in /home/jupyter-ikharitonov/RANCZLAB-NAS/spikesorter_images/kilosort2-compiled-base.sif\n",
      "Installing dev spikeinterface from remote repository\n"
     ]
    },
    {
     "ename": "KeyboardInterrupt",
     "evalue": "",
     "output_type": "error",
     "traceback": [
      "\u001b[0;31m---------------------------------------------------------------------------\u001b[0m",
      "\u001b[0;31mKeyboardInterrupt\u001b[0m                         Traceback (most recent call last)",
      "Cell \u001b[0;32mIn[15], line 1\u001b[0m\n\u001b[0;32m----> 1\u001b[0m sorting \u001b[38;5;241m=\u001b[39m \u001b[43msi\u001b[49m\u001b[38;5;241;43m.\u001b[39;49m\u001b[43mrun_sorter\u001b[49m\u001b[43m(\u001b[49m\u001b[43msorter_name\u001b[49m\u001b[43m,\u001b[49m\u001b[43m \u001b[49m\u001b[43mrecording\u001b[49m\u001b[38;5;241;43m=\u001b[39;49m\u001b[43mrecordings\u001b[49m\u001b[43m[\u001b[49m\u001b[38;5;124;43m'\u001b[39;49m\u001b[38;5;124;43mcommon_median\u001b[39;49m\u001b[38;5;124;43m'\u001b[39;49m\u001b[43m]\u001b[49m\u001b[43m,\u001b[49m\u001b[43m \u001b[49m\u001b[43moutput_folder\u001b[49m\u001b[38;5;241;43m=\u001b[39;49m\u001b[43moutput_folder\u001b[49m\u001b[43m,\u001b[49m\u001b[43m \u001b[49m\u001b[43msingularity_image\u001b[49m\u001b[38;5;241;43m=\u001b[39;49m\u001b[43msorter_path\u001b[49m\u001b[43m,\u001b[49m\u001b[43m \u001b[49m\u001b[43mverbose\u001b[49m\u001b[38;5;241;43m=\u001b[39;49m\u001b[38;5;28;43;01mTrue\u001b[39;49;00m\u001b[43m,\u001b[49m\u001b[43m \u001b[49m\u001b[38;5;241;43m*\u001b[39;49m\u001b[38;5;241;43m*\u001b[39;49m\u001b[43mjob_kwargs\u001b[49m\u001b[43m)\u001b[49m\n\u001b[1;32m      2\u001b[0m \u001b[38;5;66;03m# sorting.save(folder=sorting_save_path, format='npz_folder', **job_kwargs)\u001b[39;00m\n",
      "File \u001b[0;32m/opt/tljh/user/envs/jh_si_env/lib/python3.10/site-packages/spikeinterface/sorters/runsorter.py:142\u001b[0m, in \u001b[0;36mrun_sorter\u001b[0;34m(sorter_name, recording, output_folder, remove_existing_folder, delete_output_folder, verbose, raise_error, docker_image, singularity_image, delete_container_files, with_output, **sorter_params)\u001b[0m\n\u001b[1;32m    140\u001b[0m         \u001b[38;5;28;01melse\u001b[39;00m:\n\u001b[1;32m    141\u001b[0m             container_image \u001b[38;5;241m=\u001b[39m singularity_image\n\u001b[0;32m--> 142\u001b[0m     \u001b[38;5;28;01mreturn\u001b[39;00m \u001b[43mrun_sorter_container\u001b[49m\u001b[43m(\u001b[49m\n\u001b[1;32m    143\u001b[0m \u001b[43m        \u001b[49m\u001b[43mcontainer_image\u001b[49m\u001b[38;5;241;43m=\u001b[39;49m\u001b[43mcontainer_image\u001b[49m\u001b[43m,\u001b[49m\n\u001b[1;32m    144\u001b[0m \u001b[43m        \u001b[49m\u001b[43mmode\u001b[49m\u001b[38;5;241;43m=\u001b[39;49m\u001b[43mmode\u001b[49m\u001b[43m,\u001b[49m\n\u001b[1;32m    145\u001b[0m \u001b[43m        \u001b[49m\u001b[38;5;241;43m*\u001b[39;49m\u001b[38;5;241;43m*\u001b[39;49m\u001b[43mcommon_kwargs\u001b[49m\u001b[43m,\u001b[49m\n\u001b[1;32m    146\u001b[0m \u001b[43m    \u001b[49m\u001b[43m)\u001b[49m\n\u001b[1;32m    148\u001b[0m \u001b[38;5;28;01mreturn\u001b[39;00m run_sorter_local(\u001b[38;5;241m*\u001b[39m\u001b[38;5;241m*\u001b[39mcommon_kwargs)\n",
      "File \u001b[0;32m/opt/tljh/user/envs/jh_si_env/lib/python3.10/site-packages/spikeinterface/sorters/runsorter.py:523\u001b[0m, in \u001b[0;36mrun_sorter_container\u001b[0;34m(sorter_name, recording, mode, container_image, output_folder, remove_existing_folder, delete_output_folder, verbose, raise_error, with_output, delete_container_files, extra_requirements, **sorter_params)\u001b[0m\n\u001b[1;32m    521\u001b[0m \u001b[38;5;28;01mif\u001b[39;00m verbose:\n\u001b[1;32m    522\u001b[0m     \u001b[38;5;28mprint\u001b[39m(\u001b[38;5;124mf\u001b[39m\u001b[38;5;124m\"\u001b[39m\u001b[38;5;124mInstalling dev spikeinterface from \u001b[39m\u001b[38;5;132;01m{\u001b[39;00msi_source\u001b[38;5;132;01m}\u001b[39;00m\u001b[38;5;124m\"\u001b[39m)\n\u001b[0;32m--> 523\u001b[0m res_output \u001b[38;5;241m=\u001b[39m \u001b[43mcontainer_client\u001b[49m\u001b[38;5;241;43m.\u001b[39;49m\u001b[43mrun_command\u001b[49m\u001b[43m(\u001b[49m\u001b[43mcmd\u001b[49m\u001b[43m)\u001b[49m\n\u001b[1;32m    524\u001b[0m cmd \u001b[38;5;241m=\u001b[39m \u001b[38;5;124m\"\u001b[39m\u001b[38;5;124mpip install --user --upgrade --no-input https://github.com/NeuralEnsemble/python-neo/archive/master.zip\u001b[39m\u001b[38;5;124m\"\u001b[39m\n\u001b[1;32m    525\u001b[0m res_output \u001b[38;5;241m=\u001b[39m container_client\u001b[38;5;241m.\u001b[39mrun_command(cmd)\n",
      "File \u001b[0;32m/opt/tljh/user/envs/jh_si_env/lib/python3.10/site-packages/spikeinterface/sorters/runsorter.py:329\u001b[0m, in \u001b[0;36mContainerClient.run_command\u001b[0;34m(self, command)\u001b[0m\n\u001b[1;32m    326\u001b[0m \u001b[38;5;28;01mfrom\u001b[39;00m \u001b[38;5;21;01mspython\u001b[39;00m\u001b[38;5;21;01m.\u001b[39;00m\u001b[38;5;21;01mmain\u001b[39;00m \u001b[38;5;28;01mimport\u001b[39;00m Client\n\u001b[1;32m    328\u001b[0m options \u001b[38;5;241m=\u001b[39m [\u001b[38;5;124m\"\u001b[39m\u001b[38;5;124m--cleanenv\u001b[39m\u001b[38;5;124m\"\u001b[39m, \u001b[38;5;124m\"\u001b[39m\u001b[38;5;124m--env\u001b[39m\u001b[38;5;124m\"\u001b[39m, \u001b[38;5;124mf\u001b[39m\u001b[38;5;124m\"\u001b[39m\u001b[38;5;124mPYTHONUSERBASE=\u001b[39m\u001b[38;5;132;01m{\u001b[39;00m\u001b[38;5;28mself\u001b[39m\u001b[38;5;241m.\u001b[39mpy_user_base\u001b[38;5;132;01m}\u001b[39;00m\u001b[38;5;124m\"\u001b[39m]\n\u001b[0;32m--> 329\u001b[0m res \u001b[38;5;241m=\u001b[39m \u001b[43mClient\u001b[49m\u001b[38;5;241;43m.\u001b[39;49m\u001b[43mexecute\u001b[49m\u001b[43m(\u001b[49m\u001b[38;5;28;43mself\u001b[39;49m\u001b[38;5;241;43m.\u001b[39;49m\u001b[43mclient_instance\u001b[49m\u001b[43m,\u001b[49m\u001b[43m \u001b[49m\u001b[43mcommand\u001b[49m\u001b[43m,\u001b[49m\u001b[43m \u001b[49m\u001b[43moptions\u001b[49m\u001b[38;5;241;43m=\u001b[39;49m\u001b[43moptions\u001b[49m\u001b[43m)\u001b[49m\n\u001b[1;32m    330\u001b[0m \u001b[38;5;28;01mif\u001b[39;00m \u001b[38;5;28misinstance\u001b[39m(res, \u001b[38;5;28mdict\u001b[39m):\n\u001b[1;32m    331\u001b[0m     res \u001b[38;5;241m=\u001b[39m res[\u001b[38;5;124m\"\u001b[39m\u001b[38;5;124mmessage\u001b[39m\u001b[38;5;124m\"\u001b[39m]\n",
      "File \u001b[0;32m/opt/tljh/user/envs/jh_si_env/lib/python3.10/site-packages/spython/main/execute.py:110\u001b[0m, in \u001b[0;36mexecute\u001b[0;34m(self, image, command, app, writable, contain, bind, stream, nv, return_result, options, singularity_options, sudo, sudo_options, quiet, environ)\u001b[0m\n\u001b[1;32m    107\u001b[0m         bot\u001b[38;5;241m.\u001b[39minfo(\u001b[38;5;124m\"\u001b[39m\u001b[38;5;124m \u001b[39m\u001b[38;5;124m\"\u001b[39m\u001b[38;5;241m.\u001b[39mjoin(cmd))\n\u001b[1;32m    109\u001b[0m     \u001b[38;5;28;01mif\u001b[39;00m \u001b[38;5;129;01mnot\u001b[39;00m stream:\n\u001b[0;32m--> 110\u001b[0m         \u001b[38;5;28;01mreturn\u001b[39;00m \u001b[38;5;28;43mself\u001b[39;49m\u001b[38;5;241;43m.\u001b[39;49m\u001b[43m_run_command\u001b[49m\u001b[43m(\u001b[49m\n\u001b[1;32m    111\u001b[0m \u001b[43m            \u001b[49m\u001b[43mcmd\u001b[49m\u001b[43m,\u001b[49m\n\u001b[1;32m    112\u001b[0m \u001b[43m            \u001b[49m\u001b[43msudo\u001b[49m\u001b[38;5;241;43m=\u001b[39;49m\u001b[43msudo\u001b[49m\u001b[43m,\u001b[49m\n\u001b[1;32m    113\u001b[0m \u001b[43m            \u001b[49m\u001b[43msudo_options\u001b[49m\u001b[38;5;241;43m=\u001b[39;49m\u001b[43msudo_options\u001b[49m\u001b[43m,\u001b[49m\n\u001b[1;32m    114\u001b[0m \u001b[43m            \u001b[49m\u001b[43mreturn_result\u001b[49m\u001b[38;5;241;43m=\u001b[39;49m\u001b[43mreturn_result\u001b[49m\u001b[43m,\u001b[49m\n\u001b[1;32m    115\u001b[0m \u001b[43m            \u001b[49m\u001b[43mquiet\u001b[49m\u001b[38;5;241;43m=\u001b[39;49m\u001b[43mquiet\u001b[49m\u001b[43m,\u001b[49m\n\u001b[1;32m    116\u001b[0m \u001b[43m            \u001b[49m\u001b[43menviron\u001b[49m\u001b[38;5;241;43m=\u001b[39;49m\u001b[43menviron\u001b[49m\u001b[43m,\u001b[49m\n\u001b[1;32m    117\u001b[0m \u001b[43m        \u001b[49m\u001b[43m)\u001b[49m\n\u001b[1;32m    118\u001b[0m     \u001b[38;5;28;01mreturn\u001b[39;00m stream_command(cmd, sudo\u001b[38;5;241m=\u001b[39msudo, sudo_options\u001b[38;5;241m=\u001b[39msudo_options)\n\u001b[1;32m    120\u001b[0m bot\u001b[38;5;241m.\u001b[39mexit(\u001b[38;5;124m\"\u001b[39m\u001b[38;5;124mPlease include a command (list) to execute.\u001b[39m\u001b[38;5;124m\"\u001b[39m)\n",
      "File \u001b[0;32m/opt/tljh/user/envs/jh_si_env/lib/python3.10/site-packages/spython/main/base/command.py:137\u001b[0m, in \u001b[0;36mrun_command\u001b[0;34m(self, cmd, sudo, capture, quiet, return_result, sudo_options, environ, background)\u001b[0m\n\u001b[1;32m    134\u001b[0m \u001b[38;5;28;01mif\u001b[39;00m quiet \u001b[38;5;129;01mis\u001b[39;00m \u001b[38;5;28;01mNone\u001b[39;00m:\n\u001b[1;32m    135\u001b[0m     quiet \u001b[38;5;241m=\u001b[39m \u001b[38;5;28mself\u001b[39m\u001b[38;5;241m.\u001b[39mquiet\n\u001b[0;32m--> 137\u001b[0m result \u001b[38;5;241m=\u001b[39m \u001b[43mrun_cmd\u001b[49m\u001b[43m(\u001b[49m\n\u001b[1;32m    138\u001b[0m \u001b[43m    \u001b[49m\u001b[43mcmd\u001b[49m\u001b[43m,\u001b[49m\n\u001b[1;32m    139\u001b[0m \u001b[43m    \u001b[49m\u001b[43msudo\u001b[49m\u001b[38;5;241;43m=\u001b[39;49m\u001b[43msudo\u001b[49m\u001b[43m,\u001b[49m\n\u001b[1;32m    140\u001b[0m \u001b[43m    \u001b[49m\u001b[43mcapture\u001b[49m\u001b[38;5;241;43m=\u001b[39;49m\u001b[43mcapture\u001b[49m\u001b[43m,\u001b[49m\n\u001b[1;32m    141\u001b[0m \u001b[43m    \u001b[49m\u001b[43mquiet\u001b[49m\u001b[38;5;241;43m=\u001b[39;49m\u001b[43mquiet\u001b[49m\u001b[43m,\u001b[49m\n\u001b[1;32m    142\u001b[0m \u001b[43m    \u001b[49m\u001b[43msudo_options\u001b[49m\u001b[38;5;241;43m=\u001b[39;49m\u001b[43msudo_options\u001b[49m\u001b[43m,\u001b[49m\n\u001b[1;32m    143\u001b[0m \u001b[43m    \u001b[49m\u001b[43menviron\u001b[49m\u001b[38;5;241;43m=\u001b[39;49m\u001b[43menviron\u001b[49m\u001b[43m,\u001b[49m\n\u001b[1;32m    144\u001b[0m \u001b[43m    \u001b[49m\u001b[43mbackground\u001b[49m\u001b[38;5;241;43m=\u001b[39;49m\u001b[43mbackground\u001b[49m\u001b[43m,\u001b[49m\n\u001b[1;32m    145\u001b[0m \u001b[43m\u001b[49m\u001b[43m)\u001b[49m\n\u001b[1;32m    147\u001b[0m \u001b[38;5;28;01mif\u001b[39;00m background:\n\u001b[1;32m    148\u001b[0m     \u001b[38;5;28;01mreturn\u001b[39;00m\n",
      "File \u001b[0;32m/opt/tljh/user/envs/jh_si_env/lib/python3.10/site-packages/spython/utils/terminal.py:196\u001b[0m, in \u001b[0;36mrun_command\u001b[0;34m(cmd, sudo, capture, no_newline_regexp, quiet, sudo_options, environ, background)\u001b[0m\n\u001b[1;32m    193\u001b[0m lines \u001b[38;5;241m=\u001b[39m []\n\u001b[1;32m    194\u001b[0m found_match \u001b[38;5;241m=\u001b[39m \u001b[38;5;28;01mFalse\u001b[39;00m\n\u001b[0;32m--> 196\u001b[0m \u001b[38;5;28;01mfor\u001b[39;00m line \u001b[38;5;129;01min\u001b[39;00m \u001b[43mprocess\u001b[49m\u001b[38;5;241;43m.\u001b[39;49m\u001b[43mcommunicate\u001b[49m\u001b[43m(\u001b[49m\u001b[43m)\u001b[49m:\n\u001b[1;32m    197\u001b[0m     \u001b[38;5;28;01mif\u001b[39;00m line:\n\u001b[1;32m    198\u001b[0m         line \u001b[38;5;241m=\u001b[39m decodeUtf8String(line)\n",
      "File \u001b[0;32m/opt/tljh/user/envs/jh_si_env/lib/python3.10/subprocess.py:1154\u001b[0m, in \u001b[0;36mPopen.communicate\u001b[0;34m(self, input, timeout)\u001b[0m\n\u001b[1;32m   1151\u001b[0m     endtime \u001b[38;5;241m=\u001b[39m \u001b[38;5;28;01mNone\u001b[39;00m\n\u001b[1;32m   1153\u001b[0m \u001b[38;5;28;01mtry\u001b[39;00m:\n\u001b[0;32m-> 1154\u001b[0m     stdout, stderr \u001b[38;5;241m=\u001b[39m \u001b[38;5;28;43mself\u001b[39;49m\u001b[38;5;241;43m.\u001b[39;49m\u001b[43m_communicate\u001b[49m\u001b[43m(\u001b[49m\u001b[38;5;28;43minput\u001b[39;49m\u001b[43m,\u001b[49m\u001b[43m \u001b[49m\u001b[43mendtime\u001b[49m\u001b[43m,\u001b[49m\u001b[43m \u001b[49m\u001b[43mtimeout\u001b[49m\u001b[43m)\u001b[49m\n\u001b[1;32m   1155\u001b[0m \u001b[38;5;28;01mexcept\u001b[39;00m \u001b[38;5;167;01mKeyboardInterrupt\u001b[39;00m:\n\u001b[1;32m   1156\u001b[0m     \u001b[38;5;66;03m# https://bugs.python.org/issue25942\u001b[39;00m\n\u001b[1;32m   1157\u001b[0m     \u001b[38;5;66;03m# See the detailed comment in .wait().\u001b[39;00m\n\u001b[1;32m   1158\u001b[0m     \u001b[38;5;28;01mif\u001b[39;00m timeout \u001b[38;5;129;01mis\u001b[39;00m \u001b[38;5;129;01mnot\u001b[39;00m \u001b[38;5;28;01mNone\u001b[39;00m:\n",
      "File \u001b[0;32m/opt/tljh/user/envs/jh_si_env/lib/python3.10/subprocess.py:2021\u001b[0m, in \u001b[0;36mPopen._communicate\u001b[0;34m(self, input, endtime, orig_timeout)\u001b[0m\n\u001b[1;32m   2014\u001b[0m     \u001b[38;5;28mself\u001b[39m\u001b[38;5;241m.\u001b[39m_check_timeout(endtime, orig_timeout,\n\u001b[1;32m   2015\u001b[0m                         stdout, stderr,\n\u001b[1;32m   2016\u001b[0m                         skip_check_and_raise\u001b[38;5;241m=\u001b[39m\u001b[38;5;28;01mTrue\u001b[39;00m)\n\u001b[1;32m   2017\u001b[0m     \u001b[38;5;28;01mraise\u001b[39;00m \u001b[38;5;167;01mRuntimeError\u001b[39;00m(  \u001b[38;5;66;03m# Impossible :)\u001b[39;00m\n\u001b[1;32m   2018\u001b[0m         \u001b[38;5;124m'\u001b[39m\u001b[38;5;124m_check_timeout(..., skip_check_and_raise=True) \u001b[39m\u001b[38;5;124m'\u001b[39m\n\u001b[1;32m   2019\u001b[0m         \u001b[38;5;124m'\u001b[39m\u001b[38;5;124mfailed to raise TimeoutExpired.\u001b[39m\u001b[38;5;124m'\u001b[39m)\n\u001b[0;32m-> 2021\u001b[0m ready \u001b[38;5;241m=\u001b[39m \u001b[43mselector\u001b[49m\u001b[38;5;241;43m.\u001b[39;49m\u001b[43mselect\u001b[49m\u001b[43m(\u001b[49m\u001b[43mtimeout\u001b[49m\u001b[43m)\u001b[49m\n\u001b[1;32m   2022\u001b[0m \u001b[38;5;28mself\u001b[39m\u001b[38;5;241m.\u001b[39m_check_timeout(endtime, orig_timeout, stdout, stderr)\n\u001b[1;32m   2024\u001b[0m \u001b[38;5;66;03m# XXX Rewrite these to use non-blocking I/O on the file\u001b[39;00m\n\u001b[1;32m   2025\u001b[0m \u001b[38;5;66;03m# objects; they are no longer using C stdio!\u001b[39;00m\n",
      "File \u001b[0;32m/opt/tljh/user/envs/jh_si_env/lib/python3.10/selectors.py:416\u001b[0m, in \u001b[0;36m_PollLikeSelector.select\u001b[0;34m(self, timeout)\u001b[0m\n\u001b[1;32m    414\u001b[0m ready \u001b[38;5;241m=\u001b[39m []\n\u001b[1;32m    415\u001b[0m \u001b[38;5;28;01mtry\u001b[39;00m:\n\u001b[0;32m--> 416\u001b[0m     fd_event_list \u001b[38;5;241m=\u001b[39m \u001b[38;5;28;43mself\u001b[39;49m\u001b[38;5;241;43m.\u001b[39;49m\u001b[43m_selector\u001b[49m\u001b[38;5;241;43m.\u001b[39;49m\u001b[43mpoll\u001b[49m\u001b[43m(\u001b[49m\u001b[43mtimeout\u001b[49m\u001b[43m)\u001b[49m\n\u001b[1;32m    417\u001b[0m \u001b[38;5;28;01mexcept\u001b[39;00m \u001b[38;5;167;01mInterruptedError\u001b[39;00m:\n\u001b[1;32m    418\u001b[0m     \u001b[38;5;28;01mreturn\u001b[39;00m ready\n",
      "\u001b[0;31mKeyboardInterrupt\u001b[0m: "
     ]
    }
   ],
   "source": [
    "sorting = si.run_sorter(sorter_name, recording=recordings['common_median'], output_folder=output_folder, singularity_image=sorter_path, verbose=True, **job_kwargs)\n",
    "# sorting.save(folder=sorting_save_path, format='npz_folder', **job_kwargs)"
   ]
  },
  {
   "cell_type": "code",
   "execution_count": null,
   "id": "df01ce56-fec0-4bed-8d93-aeac8268903d",
   "metadata": {},
   "outputs": [],
   "source": []
  }
 ],
 "metadata": {
  "kernelspec": {
   "display_name": "Python [conda env:jh_si_env]",
   "language": "python",
   "name": "conda-env-jh_si_env-py"
  },
  "language_info": {
   "codemirror_mode": {
    "name": "ipython",
    "version": 3
   },
   "file_extension": ".py",
   "mimetype": "text/x-python",
   "name": "python",
   "nbconvert_exporter": "python",
   "pygments_lexer": "ipython3",
   "version": "3.10.12"
  }
 },
 "nbformat": 4,
 "nbformat_minor": 5
}
