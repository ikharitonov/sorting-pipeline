{
 "cells": [
  {
   "cell_type": "markdown",
   "id": "d20b0992-0aaa-4cfb-bf45-2dc3cdcec830",
   "metadata": {},
   "source": [
    "## Import libraries"
   ]
  },
  {
   "cell_type": "code",
   "execution_count": 5,
   "id": "ef90f389-964e-45f0-bdf0-9738de843d5f",
   "metadata": {
    "tags": []
   },
   "outputs": [],
   "source": [
    "import os\n",
    "import matplotlib.pyplot as plt\n",
    "import numpy as np\n",
    "from pathlib import Path\n",
    "import spikeinterface.full as si\n",
    "from probeinterface import read_probeinterface\n",
    "from probeinterface.plotting import plot_probe\n",
    "\n",
    "%matplotlib widget"
   ]
  },
  {
   "cell_type": "code",
   "execution_count": 3,
   "id": "32c78e4d-12d7-4619-a15e-f2b8f15c639d",
   "metadata": {
    "tags": []
   },
   "outputs": [
    {
     "name": "stdout",
     "output_type": "stream",
     "text": [
      "SpikeInterface version: 0.99.0.dev0\n"
     ]
    }
   ],
   "source": [
    "print(f\"SpikeInterface version: {si.__version__}\")"
   ]
  },
  {
   "cell_type": "markdown",
   "id": "5d87c684-26a7-4c58-b112-3e4603ebd399",
   "metadata": {},
   "source": [
    "## Define paths and configure default parameters"
   ]
  },
  {
   "cell_type": "code",
   "execution_count": null,
   "id": "3e801b1a-2c7a-4131-aa0e-4f696dda0e97",
   "metadata": {},
   "outputs": [],
   "source": [
    "# Main working directory\n",
    "base_folder = Path.home() / 'RANCZLAB-NAS' / 'iakov' / 'allen_sorting_07_11_23'\n",
    "\n",
    "# Input data\n",
    "binary_filename = 'spike_band.dat'\n",
    "\n",
    "# Output sorting\n",
    "output_folder = base_folder / 'kilosort3_sorting_files'\n",
    "sorting_save_path = base_folder / 'kilosort3_sorting_output'"
   ]
  },
  {
   "cell_type": "code",
   "execution_count": null,
   "id": "d2eecf42-3a72-4979-9bde-c8baf027a522",
   "metadata": {},
   "outputs": [],
   "source": [
    "# Default parameters for compute-intensive steps\n",
    "# n_jobs is the number of CPU cores used. -1 means use all cores.\n",
    "job_kwargs = dict(n_jobs=-1, chunk_duration=\"1s\", progress_bar=True)\n",
    "\n",
    "# Plotting backend\n",
    "backend = 'ipywidgets'"
   ]
  },
  {
   "cell_type": "markdown",
   "id": "c9e9556b-b095-42c5-ac3f-39737e50943f",
   "metadata": {},
   "source": [
    "## Load data"
   ]
  },
  {
   "cell_type": "code",
   "execution_count": null,
   "id": "c6b584b9-5718-4255-93ce-fe995ba24aa1",
   "metadata": {},
   "outputs": [],
   "source": [
    "# Recording parameters\n",
    "sampling_frequency = 32000\n",
    "dtype = np.int16\n",
    "channel_number = 384"
   ]
  },
  {
   "cell_type": "code",
   "execution_count": null,
   "id": "1761f633-3ffb-4a48-893b-140a06cde9dd",
   "metadata": {},
   "outputs": [],
   "source": [
    "recordings = {}\n",
    "recordings['raw'] = si.read_binary(base_folder / binary_filename, sampling_frequency=sampling_frequency, dtype=dtype, num_chan=channel_number)"
   ]
  },
  {
   "cell_type": "markdown",
   "id": "1a433b43-8474-4545-8ccd-659d977a82e9",
   "metadata": {},
   "source": [
    "## Assign probe"
   ]
  },
  {
   "cell_type": "code",
   "execution_count": null,
   "id": "a718cbb6-fda3-4a8a-b787-c3a7e0124c71",
   "metadata": {},
   "outputs": [],
   "source": [
    "probegroup = read_probeinterface('np_json_files/np1.json')\n",
    "probe = probegroup.probes[0]\n",
    "recordings['raw'] = recordings['raw'].set_probe(probe)\n",
    "\n",
    "plot_probe(probe)"
   ]
  },
  {
   "cell_type": "markdown",
   "id": "15f3301e-2cda-48f2-b331-a7e36c982970",
   "metadata": {},
   "source": [
    "## Apply preprocessing"
   ]
  },
  {
   "cell_type": "markdown",
   "id": "cb907574-2d68-4ab6-b9e1-d837051044f3",
   "metadata": {},
   "source": [
    "### Bandpass filtering"
   ]
  },
  {
   "cell_type": "code",
   "execution_count": null,
   "id": "e88d3979-6e1e-4552-a2e4-dcea2c3bab10",
   "metadata": {},
   "outputs": [],
   "source": [
    "recordings['bandpass'] = si.bandpass_filter(recordings['raw'], freq_min=300, freq_max=9000)"
   ]
  },
  {
   "cell_type": "markdown",
   "id": "fe37ffcf-f152-4291-b348-8538893e367a",
   "metadata": {},
   "source": [
    "### Common median reference"
   ]
  },
  {
   "cell_type": "code",
   "execution_count": null,
   "id": "fcc03051-28a7-486e-95d7-5b9400f63964",
   "metadata": {},
   "outputs": [],
   "source": [
    "recordings['common_median'] = si.common_reference(recordings['bandpass'], reference='global', operator='median')"
   ]
  },
  {
   "cell_type": "markdown",
   "id": "0a69d11b-36e0-4e81-a007-4c860412efa8",
   "metadata": {},
   "source": [
    "## Plot data"
   ]
  },
  {
   "cell_type": "code",
   "execution_count": null,
   "id": "0aa3a91c-0288-445f-b3da-c565359e976d",
   "metadata": {},
   "outputs": [],
   "source": [
    "si.plot_traces(recordings, mode='map', time_range=[0, 10], backend=backend)"
   ]
  },
  {
   "cell_type": "markdown",
   "id": "19b2c48a-8387-4998-bcbf-883f47e69f05",
   "metadata": {},
   "source": [
    "## Save preprocessed recording"
   ]
  },
  {
   "cell_type": "code",
   "execution_count": null,
   "id": "6edfcc21-ceab-4db7-b30f-2891e842fb17",
   "metadata": {},
   "outputs": [],
   "source": [
    "recordings['common_median'].save(folder=base_folder / \"preprocessed_recording\", **job_kwargs)"
   ]
  },
  {
   "cell_type": "markdown",
   "id": "c50faf69-a7e7-4853-b471-7f1c36d3d2ef",
   "metadata": {},
   "source": [
    "## Send to sorting"
   ]
  },
  {
   "cell_type": "markdown",
   "id": "4bb7411b-1337-474b-8919-84f6f8d8e118",
   "metadata": {},
   "source": [
    "### Define parameters"
   ]
  },
  {
   "cell_type": "code",
   "execution_count": 15,
   "id": "9ffc04b0-e347-4f35-bfb2-903ef27cbb5f",
   "metadata": {
    "tags": []
   },
   "outputs": [
    {
     "name": "stdout",
     "output_type": "stream",
     "text": [
      "List of available spike sorters (in Singularity containers):\n",
      "['kilosort-compiled-base.sif', 'kilosort3-compiled-base.sif', 'mountainsort5-base.sif', 'hdsort-compiled-base.sif', 'ironclust-compiled-base.sif']\n"
     ]
    }
   ],
   "source": [
    "print(f\"List of available spike sorters (in Singularity containers):\\n{os.listdir(Path.home() / 'RANCZLAB-NAS' / 'spikesorter_images')}\")"
   ]
  },
  {
   "cell_type": "code",
   "execution_count": null,
   "id": "876625c3-a495-434e-a250-f8bce8a0a662",
   "metadata": {},
   "outputs": [],
   "source": [
    "sorter_name = 'kilosort3'\n",
    "sorter_path = Path.home() / 'RANCZLAB-NAS' / 'spikesorter_images' / 'kilosort3-compiled-base.sif'"
   ]
  },
  {
   "cell_type": "markdown",
   "id": "5d4d4eac-d0e3-4e3a-85dd-2ee3a46e0843",
   "metadata": {},
   "source": [
    "### Launch"
   ]
  },
  {
   "cell_type": "code",
   "execution_count": null,
   "id": "a7800093-9198-4a5f-b4b1-4210cef97115",
   "metadata": {},
   "outputs": [],
   "source": [
    "sorting = si.run_sorter(sorter_name, recording=recordings['common_median'], output_folder=output_folder, singularity_image=sorter_path, verbose=True, **job_kwargs)\n",
    "sorting.save(folder=sorting_save_path, format='npz_folder', **job_kwargs)"
   ]
  }
 ],
 "metadata": {
  "kernelspec": {
   "display_name": "Python [conda env:jh_si_env]",
   "language": "python",
   "name": "conda-env-jh_si_env-py"
  },
  "language_info": {
   "codemirror_mode": {
    "name": "ipython",
    "version": 3
   },
   "file_extension": ".py",
   "mimetype": "text/x-python",
   "name": "python",
   "nbconvert_exporter": "python",
   "pygments_lexer": "ipython3",
   "version": "3.10.12"
  }
 },
 "nbformat": 4,
 "nbformat_minor": 5
}
